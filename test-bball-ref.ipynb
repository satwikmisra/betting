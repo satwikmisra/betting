{
 "cells": [
  {
   "cell_type": "code",
   "execution_count": 147,
   "metadata": {},
   "outputs": [],
   "source": [
    "from basketball_reference_web_scraper import client\n",
    "from basketball_reference_web_scraper.data import Location, Outcome, PeriodType, Position, Team\n",
    "import datetime \n",
    "import requests\n",
    "from bs4 import BeautifulSoup"
   ]
  },
  {
   "cell_type": "code",
   "execution_count": 148,
   "metadata": {},
   "outputs": [],
   "source": [
    "def team_mapping(team_name):\n",
    "    team_name = team_name.upper()\n",
    "    \n",
    "    team_name_mapping = {\n",
    "        \"ATL\": Team.ATLANTA_HAWKS,\n",
    "        \"BOS\": Team.BOSTON_CELTICS,\n",
    "        \"BKN\": Team.BROOKLYN_NETS,\n",
    "        \"CHA\": Team.CHARLOTTE_HORNETS,\n",
    "        \"CHI\": Team.CHICAGO_BULLS,\n",
    "        \"CLE\": Team.CLEVELAND_CAVALIERS,\n",
    "        \"DAL\": Team.DALLAS_MAVERICKS,\n",
    "        \"DEN\": Team.DENVER_NUGGETS,\n",
    "        \"DET\": Team.DETROIT_PISTONS,\n",
    "        \"GSW\": Team.GOLDEN_STATE_WARRIORS,\n",
    "        \"HOU\": Team.HOUSTON_ROCKETS,\n",
    "        \"IND\": Team.INDIANA_PACERS,\n",
    "        \"LAC\": Team.LOS_ANGELES_CLIPPERS,\n",
    "        \"LAL\": Team.LOS_ANGELES_LAKERS,\n",
    "        \"MEM\": Team.MEMPHIS_GRIZZLIES,\n",
    "        \"MIA\": Team.MIAMI_HEAT,\n",
    "        \"MIL\": Team.MILWAUKEE_BUCKS,\n",
    "        \"MIN\": Team.MINNESOTA_TIMBERWOLVES,\n",
    "        \"NOP\": Team.NEW_ORLEANS_PELICANS,\n",
    "        \"NYK\": Team.NEW_YORK_KNICKS,\n",
    "        \"OKC\": Team.OKLAHOMA_CITY_THUNDER,\n",
    "        \"ORL\": Team.ORLANDO_MAGIC,\n",
    "        \"PHI\": Team.PHILADELPHIA_76ERS,\n",
    "        \"PHX\": Team.PHOENIX_SUNS,\n",
    "        \"POR\": Team.PORTLAND_TRAIL_BLAZERS,\n",
    "        \"SAC\": Team.SACRAMENTO_KINGS,\n",
    "        \"SAS\": Team.SAN_ANTONIO_SPURS,\n",
    "        \"TOR\": Team.TORONTO_RAPTORS,\n",
    "        \"UTA\": Team.UTAH_JAZZ,\n",
    "        \"WAS\": Team.WASHINGTON_WIZARDS,\n",
    "    }\n",
    "    \n",
    "    return team_name_mapping[team_name]\n",
    "\n",
    "def get_player_id(player_name):\n",
    "    name_parts = player_name.split()\n",
    "    last_name_initial = name_parts[-1][0].lower()\n",
    "    formatted_name = '-'.join(name_parts).lower()\n",
    "    \n",
    "    search_url = f'https://www.basketball-reference.com/players/{last_name_initial}/'\n",
    "    response = requests.get(search_url)\n",
    "    \n",
    "    if response.ok:\n",
    "        soup = BeautifulSoup(response.text, 'html.parser')\n",
    "        \n",
    "        for link in soup.select('th[data-stat=\"player\"] a'):\n",
    "            if link.text.lower() == player_name.lower():\n",
    "                player_id = link['href'].split('/')[3].replace('.html', '')\n",
    "                return player_id\n",
    "    \n",
    "    return None"
   ]
  },
  {
   "cell_type": "code",
   "execution_count": null,
   "metadata": {},
   "outputs": [],
   "source": [
    "#Home/Away Game Stats\n",
    "def avg_player_stats_away(player_id, stat_name, pp_line, location, opponent):\n",
    "    cur_szn_yr = 2024\n",
    "    game_list1 = client.regular_season_player_box_scores(player_identifier=player_id, season_end_year=cur_szn_yr)\n",
    "\n",
    "    if location == \"AWAY\":\n",
    "        games_locationfilter = [game for game in game_list1 if game['location'] == Location.AWAY]\n",
    "    elif location == \"HOME\":\n",
    "        games_locationfilter = [game for game in game_list1 if game['location'] == Location.HOME]\n",
    "\n",
    "\n",
    "    above_threshold_games = [game for game in games_locationfilter if game[stat_name] > pp_line]\n",
    "    percentage_above_threshold = (len(above_threshold_games) / len(games_locationfilter)) * 100 if len(games_locationfilter) > 0 else 0\n",
    "    \n",
    "    print(f\"Percentage of away games where {player_id} scored more than {pp_line} {stat_name}: {percentage_above_threshold:.2f}%\")\n",
    "\n",
    "avg_player_stats_away('antetgi01', 'points_scored', 27.5, \"HOME\", \"NYK\" )\n",
    "\n"
   ]
  },
  {
   "cell_type": "code",
   "execution_count": 146,
   "metadata": {},
   "outputs": [
    {
     "name": "stdout",
     "output_type": "stream",
     "text": [
      "Percentage of games vs MIA where lavinza01 scored more than 21 points_scored: 0.00%\n"
     ]
    }
   ],
   "source": [
    "#vs Team \n",
    "\n",
    "def avg_player_stats_away(player_id, stat_name, pp_line, location, opponent):\n",
    "    opponent_enum = team_mapping(opponent)\n",
    "\n",
    "    cur_szn_yr = 2024\n",
    "    game_list1 = client.regular_season_player_box_scores(player_identifier=player_id, season_end_year=cur_szn_yr)\n",
    "    game_list2 = client.regular_season_player_box_scores(player_identifier=player_id, season_end_year=cur_szn_yr -1)\n",
    "\n",
    "    gamelist_total = game_list1 + game_list2\n",
    "\n",
    "    games_opponentfilter = [game for game in gamelist_total if game['opponent'] == opponent_enum]\n",
    "\n",
    "\n",
    "    above_threshold_games = [game for game in games_opponentfilter if game[stat_name] > pp_line]\n",
    "    percentage_above_threshold = (len(above_threshold_games) / len(games_opponentfilter)) * 100 if len(games_opponentfilter) > 0 else 0\n",
    "    \n",
    "    print(f\"Percentage of games vs {opponent} where {player_id} scored more than {pp_line} {stat_name}: {percentage_above_threshold:.2f}%\")\n",
    "\n",
    "avg_player_stats_away('lavinza01', 'points_scored', 21, \"HOME\", \"MIA\")\n",
    "\n"
   ]
  },
  {
   "cell_type": "code",
   "execution_count": 156,
   "metadata": {},
   "outputs": [
    {
     "name": "stdout",
     "output_type": "stream",
     "text": [
      "Percentage of last 5 games where antetgi01 scored more than 27.5 points_scored: 40.00%\n",
      "Percentage of last 10 games where antetgi01 scored more than 27.5 points_scored: 50.00%\n",
      "Percentage of last 15 games where antetgi01 scored more than 27.5 points_scored: 53.33%\n"
     ]
    }
   ],
   "source": [
    "#back N games stats\n",
    "\n",
    "def avg_player_stats(player_id, stat_name, pp_line, num_games):\n",
    "    cur_szn_yr = 2024\n",
    "    \n",
    "    aux_game_list1 = client.regular_season_player_box_scores(player_identifier=player_id, season_end_year=cur_szn_yr)\n",
    "    aux_game_list1.reverse()\n",
    "    aux_game_list2 = list()\n",
    "    if(len(aux_game_list1) < num_games):\n",
    "        aux_game_list2 = client.regular_season_player_box_scores(player_identifier=player_id, season_end_year=cur_szn_yr-1)\n",
    "    aux_game_list2.reverse()\n",
    "    game_list = []\n",
    "    index = 0\n",
    "    while index < len(aux_game_li:t1) and len(game_list) < num_games:\n",
    "        game_list.append(aux_game_list1[index])\n",
    "        index = index + 1\n",
    "    index = 0\n",
    "    while index < len(aux_game_list2) and len(game_list) < num_games:\n",
    "        game_list.append(aux_game_list2[index])\n",
    "        index = index + 1\n",
    "    \n",
    "    above_threshold_games = [game for game in game_list if game[stat_name] > pp_line]\n",
    "    percentage_above_threshold = (len(above_threshold_games) / len(game_list)) * 100 if len(game_list) > 0 else 0\n",
    "\n",
    "    print(f\"Percentage of last {num_games} games where {player_id} scored more than {pp_line} {stat_name}: {percentage_above_threshold:.2f}%\")\n",
    "    \n",
    "\n",
    "avg_player_stats('antetgi01', 'points_scored', 27.5, 5)\n",
    "avg_player_stats('antetgi01', 'points_scored', 27.5, 10)\n",
    "avg_player_stats('antetgi01', 'points_scored', 27.5, 15)"
   ]
  }
 ],
 "metadata": {
  "kernelspec": {
   "display_name": "Python 3 (ipykernel)",
   "language": "python",
   "name": "python3"
  },
  "language_info": {
   "codemirror_mode": {
    "name": "ipython",
    "version": 3
   },
   "file_extension": ".py",
   "mimetype": "text/x-python",
   "name": "python",
   "nbconvert_exporter": "python",
   "pygments_lexer": "ipython3",
   "version": "3.8.10"
  }
 },
 "nbformat": 4,
 "nbformat_minor": 4
}
