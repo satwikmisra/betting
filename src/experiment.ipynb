{
 "cells": [
  {
   "cell_type": "code",
   "execution_count": 1,
   "id": "e12fe049-e13b-44e6-8d47-a4187db9a0c5",
   "metadata": {},
   "outputs": [],
   "source": [
    "import api\n",
    "import utils"
   ]
  },
  {
   "cell_type": "code",
   "execution_count": 2,
   "id": "56f8153e-92c0-4cbb-ae70-bae3395081c2",
   "metadata": {},
   "outputs": [
    {
     "name": "stdout",
     "output_type": "stream",
     "text": [
      "Percentage of games vs NYK where antetgi01 scored more than 27.5 points_scored: 66.67%\n"
     ]
    },
    {
     "data": {
      "text/plain": [
       "66.66666666666666"
      ]
     },
     "execution_count": 2,
     "metadata": {},
     "output_type": "execute_result"
    }
   ],
   "source": [
    "api.avg_player_stats_vsteam('antetgi01', 'points_scored', 27.5, \"NYK\", year=2023)"
   ]
  },
  {
   "cell_type": "code",
   "execution_count": 4,
   "id": "a17366d1-372a-4573-83d0-542904835568",
   "metadata": {},
   "outputs": [
    {
     "name": "stdout",
     "output_type": "stream",
     "text": [
      "Percentage of games vs ATL where antetgi01 scored more than 27.5 points_scored: 25.00%\n",
      "Percentage of games vs BOS where antetgi01 scored more than 27.5 points_scored: 33.33%\n",
      "Percentage of games vs BKN where antetgi01 scored more than 27.5 points_scored: 66.67%\n",
      "Percentage of games vs CHA where antetgi01 scored more than 27.5 points_scored: 50.00%\n",
      "Percentage of games vs CHI where antetgi01 scored more than 27.5 points_scored: 66.67%\n",
      "Percentage of games vs CLE where antetgi01 scored more than 27.5 points_scored: 66.67%\n",
      "Percentage of games vs DAL where antetgi01 scored more than 27.5 points_scored: 100.00%\n",
      "Percentage of games vs DEN where antetgi01 scored more than 27.5 points_scored: 100.00%\n",
      "Percentage of games vs DET where antetgi01 scored more than 27.5 points_scored: 100.00%\n",
      "Percentage of games vs GSW where antetgi01 scored more than 27.5 points_scored: 100.00%\n",
      "Percentage of games vs HOU where antetgi01 scored more than 27.5 points_scored: 50.00%\n",
      "Percentage of games vs IND where antetgi01 scored more than 27.5 points_scored: 66.67%\n",
      "Percentage of games vs LAC where antetgi01 scored more than 27.5 points_scored: 100.00%\n",
      "Percentage of games vs LAL where antetgi01 scored more than 27.5 points_scored: 100.00%\n",
      "Percentage of games vs MEM where antetgi01 scored more than 27.5 points_scored: 0.00%\n",
      "Percentage of games vs MIA where antetgi01 scored more than 27.5 points_scored: 50.00%\n",
      "Percentage of games vs MIL where antetgi01 scored more than 27.5 points_scored: 0.00%\n",
      "Percentage of games vs MIN where antetgi01 scored more than 27.5 points_scored: 50.00%\n",
      "Percentage of games vs NOP where antetgi01 scored more than 27.5 points_scored: 100.00%\n",
      "Percentage of games vs NYK where antetgi01 scored more than 27.5 points_scored: 66.67%\n",
      "Percentage of games vs OKC where antetgi01 scored more than 27.5 points_scored: 0.00%\n",
      "Percentage of games vs ORL where antetgi01 scored more than 27.5 points_scored: 100.00%\n",
      "Percentage of games vs PHI where antetgi01 scored more than 27.5 points_scored: 50.00%\n",
      "Percentage of games vs PHX where antetgi01 scored more than 27.5 points_scored: 100.00%\n",
      "Percentage of games vs POR where antetgi01 scored more than 27.5 points_scored: 50.00%\n",
      "Percentage of games vs SAC where antetgi01 scored more than 27.5 points_scored: 100.00%\n",
      "Percentage of games vs SAS where antetgi01 scored more than 27.5 points_scored: 100.00%\n",
      "Percentage of games vs TOR where antetgi01 scored more than 27.5 points_scored: 50.00%\n",
      "Percentage of games vs UTA where antetgi01 scored more than 27.5 points_scored: 0.00%\n",
      "Percentage of games vs WAS where antetgi01 scored more than 27.5 points_scored: 66.67%\n",
      "{'ATL': 25.0, 'BOS': 33.33333333333333, 'BKN': 66.66666666666666, 'CHA': 50.0, 'CHI': 66.66666666666666, 'CLE': 66.66666666666666, 'DAL': 100.0, 'DEN': 100.0, 'DET': 100.0, 'GSW': 100.0, 'HOU': 50.0, 'IND': 66.66666666666666, 'LAC': 100.0, 'LAL': 100.0, 'MEM': 0.0, 'MIA': 50.0, 'MIL': 0, 'MIN': 50.0, 'NOP': 100.0, 'NYK': 66.66666666666666, 'OKC': 0, 'ORL': 100.0, 'PHI': 50.0, 'PHX': 100.0, 'POR': 50.0, 'SAC': 100.0, 'SAS': 100.0, 'TOR': 50.0, 'UTA': 0.0, 'WAS': 66.66666666666666}\n"
     ]
    }
   ],
   "source": [
    "def hit_percentage(player_id, stat_name, pp_line, opponent):\n",
    "    past_5 = api.avg_player_stats_pastngames(player_id, stat_name, pp_line, 5)\n",
    "    past_10 = api.avg_player_stats_pastngames(player_id, stat_name, pp_line, 5)\n",
    "    past_15 = api.avg_player_stats_pastngames(player_id, stat_name, pp_line, 5)\n",
    "    season = api.avg_player_stats_season(player_id, stat_name, pp_line)\n",
    "    away = api.avg_player_stats_away(player_id, stat_name, pp_line, \"AWAY\")\n",
    "    vs_opp = api.avg_player_stats_vsteam(player_id, stat_name, pp_line, opponent)\n",
    "    \n",
    "    "
   ]
  },
  {
   "cell_type": "code",
   "execution_count": null,
   "id": "745a6b57-b7f9-40f4-8bf7-acf7920faaf3",
   "metadata": {},
   "outputs": [],
   "source": []
  }
 ],
 "metadata": {
  "kernelspec": {
   "display_name": "Python 3 (ipykernel)",
   "language": "python",
   "name": "python3"
  },
  "language_info": {
   "codemirror_mode": {
    "name": "ipython",
    "version": 3
   },
   "file_extension": ".py",
   "mimetype": "text/x-python",
   "name": "python",
   "nbconvert_exporter": "python",
   "pygments_lexer": "ipython3",
   "version": "3.9.7"
  }
 },
 "nbformat": 4,
 "nbformat_minor": 5
}
