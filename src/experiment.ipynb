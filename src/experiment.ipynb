{
 "cells": [
  {
   "cell_type": "code",
   "execution_count": 53,
   "id": "e126ea6c-7772-4657-a65b-0c0a978994b1",
   "metadata": {},
   "outputs": [],
   "source": [
    "import numpy as np\n",
    "import pandas as pd\n",
    "import datetime\n",
    "import utils\n",
    "import models\n",
    "from sklearn.linear_model import LogisticRegression\n",
    "import matplotlib.pyplot as plt"
   ]
  },
  {
   "cell_type": "code",
   "execution_count": 6,
   "id": "a0af72a8-fab0-4b73-b878-5f58b41ce3cd",
   "metadata": {},
   "outputs": [
    {
     "name": "stderr",
     "output_type": "stream",
     "text": [
      "/var/folders/rs/6tl6pps1563b8sz8xgxyg9bm0000gn/T/ipykernel_52556/2487260646.py:1: DeprecationWarning: [Deprecated][in version 6.0.0]: client_factory will be replaced by gspread.http_client types\n",
      "  worksheet = utils.get_master_sheet()\n"
     ]
    },
    {
     "data": {
      "text/html": [
       "<div>\n",
       "<style scoped>\n",
       "    .dataframe tbody tr th:only-of-type {\n",
       "        vertical-align: middle;\n",
       "    }\n",
       "\n",
       "    .dataframe tbody tr th {\n",
       "        vertical-align: top;\n",
       "    }\n",
       "\n",
       "    .dataframe thead th {\n",
       "        text-align: right;\n",
       "    }\n",
       "</style>\n",
       "<table border=\"1\" class=\"dataframe\">\n",
       "  <thead>\n",
       "    <tr style=\"text-align: right;\">\n",
       "      <th></th>\n",
       "      <th>timestamp</th>\n",
       "      <th>game_date</th>\n",
       "      <th>game_time</th>\n",
       "      <th>name</th>\n",
       "      <th>team</th>\n",
       "      <th>position</th>\n",
       "      <th>opponent</th>\n",
       "      <th>stat</th>\n",
       "      <th>line</th>\n",
       "      <th>hit_percentage</th>\n",
       "      <th>margin</th>\n",
       "      <th>predicted_action</th>\n",
       "      <th>actual_stat</th>\n",
       "      <th>outcome</th>\n",
       "      <th>true_action</th>\n",
       "    </tr>\n",
       "  </thead>\n",
       "  <tbody>\n",
       "    <tr>\n",
       "      <th>0</th>\n",
       "      <td>11/19/2023 17:02:49</td>\n",
       "      <td>2023-11-19</td>\n",
       "      <td>5:02:20 PM</td>\n",
       "      <td>Aaron Gordon</td>\n",
       "      <td>DEN</td>\n",
       "      <td>F</td>\n",
       "      <td>CLE</td>\n",
       "      <td>Points</td>\n",
       "      <td>14.5</td>\n",
       "      <td>46.33</td>\n",
       "      <td>3.67</td>\n",
       "      <td>UNDER</td>\n",
       "      <td>11.0</td>\n",
       "      <td>WIN</td>\n",
       "      <td>UNDER</td>\n",
       "    </tr>\n",
       "    <tr>\n",
       "      <th>1</th>\n",
       "      <td>11/19/2023 17:02:49</td>\n",
       "      <td>2023-11-19</td>\n",
       "      <td>5:02:20 PM</td>\n",
       "      <td>Darius Garland</td>\n",
       "      <td>CLE</td>\n",
       "      <td>G</td>\n",
       "      <td>DEN</td>\n",
       "      <td>Points</td>\n",
       "      <td>24.0</td>\n",
       "      <td>23.05</td>\n",
       "      <td>26.95</td>\n",
       "      <td>UNDER</td>\n",
       "      <td>26.0</td>\n",
       "      <td>LOSE</td>\n",
       "      <td>OVER</td>\n",
       "    </tr>\n",
       "    <tr>\n",
       "      <th>2</th>\n",
       "      <td>11/19/2023 17:02:49</td>\n",
       "      <td>2023-11-19</td>\n",
       "      <td>5:02:20 PM</td>\n",
       "      <td>Kentavious Caldwell-Pope</td>\n",
       "      <td>DEN</td>\n",
       "      <td>G</td>\n",
       "      <td>CLE</td>\n",
       "      <td>Points</td>\n",
       "      <td>8.5</td>\n",
       "      <td>56.33</td>\n",
       "      <td>6.33</td>\n",
       "      <td>OVER</td>\n",
       "      <td>9.0</td>\n",
       "      <td>WIN</td>\n",
       "      <td>OVER</td>\n",
       "    </tr>\n",
       "    <tr>\n",
       "      <th>3</th>\n",
       "      <td>11/19/2023 17:02:49</td>\n",
       "      <td>2023-11-19</td>\n",
       "      <td>5:02:20 PM</td>\n",
       "      <td>Evan Mobley</td>\n",
       "      <td>CLE</td>\n",
       "      <td>C</td>\n",
       "      <td>DEN</td>\n",
       "      <td>Points</td>\n",
       "      <td>18.5</td>\n",
       "      <td>42.00</td>\n",
       "      <td>8.00</td>\n",
       "      <td>UNDER</td>\n",
       "      <td>16.0</td>\n",
       "      <td>WIN</td>\n",
       "      <td>UNDER</td>\n",
       "    </tr>\n",
       "    <tr>\n",
       "      <th>4</th>\n",
       "      <td>11/19/2023 17:02:49</td>\n",
       "      <td>2023-11-19</td>\n",
       "      <td>5:02:20 PM</td>\n",
       "      <td>Michael Porter Jr.</td>\n",
       "      <td>DEN</td>\n",
       "      <td>F</td>\n",
       "      <td>CLE</td>\n",
       "      <td>Points</td>\n",
       "      <td>17.5</td>\n",
       "      <td>54.67</td>\n",
       "      <td>4.67</td>\n",
       "      <td>OVER</td>\n",
       "      <td>21.0</td>\n",
       "      <td>WIN</td>\n",
       "      <td>OVER</td>\n",
       "    </tr>\n",
       "  </tbody>\n",
       "</table>\n",
       "</div>"
      ],
      "text/plain": [
       "             timestamp   game_date   game_time                      name team  \\\n",
       "0  11/19/2023 17:02:49  2023-11-19  5:02:20 PM              Aaron Gordon  DEN   \n",
       "1  11/19/2023 17:02:49  2023-11-19  5:02:20 PM            Darius Garland  CLE   \n",
       "2  11/19/2023 17:02:49  2023-11-19  5:02:20 PM  Kentavious Caldwell-Pope  DEN   \n",
       "3  11/19/2023 17:02:49  2023-11-19  5:02:20 PM               Evan Mobley  CLE   \n",
       "4  11/19/2023 17:02:49  2023-11-19  5:02:20 PM        Michael Porter Jr.  DEN   \n",
       "\n",
       "  position opponent    stat  line  hit_percentage  margin predicted_action  \\\n",
       "0        F      CLE  Points  14.5           46.33    3.67            UNDER   \n",
       "1        G      DEN  Points  24.0           23.05   26.95            UNDER   \n",
       "2        G      CLE  Points   8.5           56.33    6.33             OVER   \n",
       "3        C      DEN  Points  18.5           42.00    8.00            UNDER   \n",
       "4        F      CLE  Points  17.5           54.67    4.67             OVER   \n",
       "\n",
       "  actual_stat outcome true_action  \n",
       "0        11.0     WIN       UNDER  \n",
       "1        26.0    LOSE        OVER  \n",
       "2         9.0     WIN        OVER  \n",
       "3        16.0     WIN       UNDER  \n",
       "4        21.0     WIN        OVER  "
      ]
     },
     "execution_count": 6,
     "metadata": {},
     "output_type": "execute_result"
    }
   ],
   "source": [
    "worksheet = utils.get_master_sheet()\n",
    "df = pd.DataFrame(worksheet.get_all_records())\n",
    "df.head()"
   ]
  },
  {
   "cell_type": "code",
   "execution_count": 62,
   "id": "1a11645c-8172-4255-b8de-43f1694002f6",
   "metadata": {},
   "outputs": [
    {
     "name": "stdout",
     "output_type": "stream",
     "text": [
      "0/920\n",
      "1/920\n",
      "2/920\n",
      "3/920\n",
      "4/920\n",
      "5/920\n",
      "6/920\n",
      "7/920\n",
      "8/920\n",
      "9/920\n",
      "10/920\n",
      "11/920\n",
      "12/920\n",
      "13/920\n",
      "14/920\n",
      "15/920\n",
      "16/920\n",
      "17/920\n",
      "18/920\n",
      "19/920\n"
     ]
    },
    {
     "name": "stderr",
     "output_type": "stream",
     "text": [
      "/Users/aniruddhsriram/Desktop/betting/src/utils.py:109: FutureWarning: The behavior of DataFrame concatenation with empty or all-NA entries is deprecated. In a future version, this will no longer exclude empty or all-NA columns when determining the result dtypes. To retain the old behavior, exclude the relevant entries before the concat operation.\n",
      "  all_games = pd.concat([games_cur_df, games_last_df])\n"
     ]
    },
    {
     "name": "stdout",
     "output_type": "stream",
     "text": [
      "20/920\n",
      "21/920\n",
      "22/920\n",
      "23/920\n",
      "24/920\n",
      "25/920\n",
      "26/920\n",
      "27/920\n",
      "28/920\n",
      "29/920\n",
      "30/920\n",
      "31/920\n",
      "32/920\n",
      "33/920\n",
      "34/920\n",
      "35/920\n",
      "36/920\n",
      "37/920\n"
     ]
    },
    {
     "name": "stderr",
     "output_type": "stream",
     "text": [
      "/Users/aniruddhsriram/Desktop/betting/src/utils.py:109: FutureWarning: The behavior of DataFrame concatenation with empty or all-NA entries is deprecated. In a future version, this will no longer exclude empty or all-NA columns when determining the result dtypes. To retain the old behavior, exclude the relevant entries before the concat operation.\n",
      "  all_games = pd.concat([games_cur_df, games_last_df])\n"
     ]
    },
    {
     "name": "stdout",
     "output_type": "stream",
     "text": [
      "38/920\n",
      "39/920\n",
      "40/920\n",
      "41/920\n",
      "42/920\n"
     ]
    },
    {
     "name": "stderr",
     "output_type": "stream",
     "text": [
      "/Users/aniruddhsriram/Desktop/betting/src/utils.py:109: FutureWarning: The behavior of DataFrame concatenation with empty or all-NA entries is deprecated. In a future version, this will no longer exclude empty or all-NA columns when determining the result dtypes. To retain the old behavior, exclude the relevant entries before the concat operation.\n",
      "  all_games = pd.concat([games_cur_df, games_last_df])\n"
     ]
    },
    {
     "name": "stdout",
     "output_type": "stream",
     "text": [
      "43/920\n",
      "44/920\n",
      "45/920\n",
      "46/920\n",
      "47/920\n",
      "48/920\n",
      "49/920\n",
      "50/920\n",
      "51/920\n",
      "52/920\n",
      "53/920\n",
      "54/920\n",
      "55/920\n",
      "56/920\n",
      "57/920\n",
      "59/920\n",
      "60/920\n",
      "62/920\n",
      "63/920\n",
      "64/920\n",
      "65/920\n",
      "66/920\n",
      "67/920\n",
      "68/920\n",
      "70/920\n",
      "71/920\n",
      "72/920\n",
      "74/920\n",
      "75/920\n",
      "76/920\n",
      "77/920\n"
     ]
    },
    {
     "name": "stderr",
     "output_type": "stream",
     "text": [
      "/Users/aniruddhsriram/Desktop/betting/src/utils.py:109: FutureWarning: The behavior of DataFrame concatenation with empty or all-NA entries is deprecated. In a future version, this will no longer exclude empty or all-NA columns when determining the result dtypes. To retain the old behavior, exclude the relevant entries before the concat operation.\n",
      "  all_games = pd.concat([games_cur_df, games_last_df])\n"
     ]
    },
    {
     "name": "stdout",
     "output_type": "stream",
     "text": [
      "78/920\n",
      "79/920\n",
      "80/920\n"
     ]
    },
    {
     "name": "stderr",
     "output_type": "stream",
     "text": [
      "/Users/aniruddhsriram/Desktop/betting/src/utils.py:109: FutureWarning: The behavior of DataFrame concatenation with empty or all-NA entries is deprecated. In a future version, this will no longer exclude empty or all-NA columns when determining the result dtypes. To retain the old behavior, exclude the relevant entries before the concat operation.\n",
      "  all_games = pd.concat([games_cur_df, games_last_df])\n"
     ]
    },
    {
     "name": "stdout",
     "output_type": "stream",
     "text": [
      "81/920\n",
      "82/920\n",
      "83/920\n",
      "84/920\n",
      "85/920\n",
      "86/920\n",
      "87/920\n",
      "88/920\n",
      "89/920\n",
      "90/920\n",
      "91/920\n",
      "92/920\n",
      "93/920\n",
      "94/920\n",
      "96/920\n"
     ]
    },
    {
     "name": "stderr",
     "output_type": "stream",
     "text": [
      "/Users/aniruddhsriram/Desktop/betting/src/utils.py:109: FutureWarning: The behavior of DataFrame concatenation with empty or all-NA entries is deprecated. In a future version, this will no longer exclude empty or all-NA columns when determining the result dtypes. To retain the old behavior, exclude the relevant entries before the concat operation.\n",
      "  all_games = pd.concat([games_cur_df, games_last_df])\n"
     ]
    },
    {
     "name": "stdout",
     "output_type": "stream",
     "text": [
      "97/920\n",
      "98/920\n",
      "99/920\n",
      "100/920\n",
      "101/920\n",
      "102/920\n",
      "103/920\n"
     ]
    },
    {
     "name": "stderr",
     "output_type": "stream",
     "text": [
      "/Users/aniruddhsriram/Desktop/betting/src/utils.py:109: FutureWarning: The behavior of DataFrame concatenation with empty or all-NA entries is deprecated. In a future version, this will no longer exclude empty or all-NA columns when determining the result dtypes. To retain the old behavior, exclude the relevant entries before the concat operation.\n",
      "  all_games = pd.concat([games_cur_df, games_last_df])\n"
     ]
    },
    {
     "name": "stdout",
     "output_type": "stream",
     "text": [
      "104/920\n",
      "105/920\n",
      "107/920\n",
      "108/920\n",
      "109/920\n",
      "110/920\n",
      "111/920\n",
      "112/920\n",
      "113/920\n",
      "114/920\n",
      "115/920\n",
      "116/920\n",
      "117/920\n",
      "118/920\n",
      "119/920\n",
      "120/920\n",
      "121/920\n",
      "122/920\n",
      "123/920\n",
      "124/920\n",
      "125/920\n",
      "126/920\n",
      "127/920\n",
      "129/920\n",
      "130/920\n",
      "131/920\n",
      "132/920\n",
      "133/920\n",
      "134/920\n",
      "135/920\n",
      "136/920\n",
      "137/920\n",
      "138/920\n",
      "139/920\n",
      "140/920\n",
      "141/920\n",
      "142/920\n",
      "143/920\n",
      "144/920\n",
      "145/920\n",
      "146/920\n",
      "147/920\n",
      "148/920\n",
      "149/920\n",
      "150/920\n",
      "151/920\n",
      "152/920\n",
      "153/920\n"
     ]
    },
    {
     "name": "stderr",
     "output_type": "stream",
     "text": [
      "/Users/aniruddhsriram/Desktop/betting/src/utils.py:109: FutureWarning: The behavior of DataFrame concatenation with empty or all-NA entries is deprecated. In a future version, this will no longer exclude empty or all-NA columns when determining the result dtypes. To retain the old behavior, exclude the relevant entries before the concat operation.\n",
      "  all_games = pd.concat([games_cur_df, games_last_df])\n"
     ]
    },
    {
     "name": "stdout",
     "output_type": "stream",
     "text": [
      "154/920\n",
      "155/920\n",
      "156/920\n",
      "157/920\n",
      "158/920\n",
      "159/920\n",
      "160/920\n",
      "161/920\n",
      "162/920\n",
      "163/920\n",
      "164/920\n",
      "165/920\n"
     ]
    },
    {
     "name": "stderr",
     "output_type": "stream",
     "text": [
      "/Users/aniruddhsriram/Desktop/betting/src/utils.py:109: FutureWarning: The behavior of DataFrame concatenation with empty or all-NA entries is deprecated. In a future version, this will no longer exclude empty or all-NA columns when determining the result dtypes. To retain the old behavior, exclude the relevant entries before the concat operation.\n",
      "  all_games = pd.concat([games_cur_df, games_last_df])\n"
     ]
    },
    {
     "name": "stdout",
     "output_type": "stream",
     "text": [
      "166/920\n",
      "167/920\n",
      "168/920\n",
      "169/920\n",
      "170/920\n",
      "171/920\n",
      "172/920\n",
      "173/920\n",
      "174/920\n",
      "175/920\n",
      "176/920\n",
      "177/920\n",
      "178/920\n",
      "179/920\n",
      "180/920\n",
      "181/920\n",
      "182/920\n",
      "183/920\n",
      "184/920\n",
      "185/920\n",
      "186/920\n",
      "187/920\n",
      "188/920\n",
      "189/920\n",
      "190/920\n",
      "191/920\n",
      "192/920\n",
      "193/920\n",
      "194/920\n",
      "195/920\n",
      "196/920\n"
     ]
    },
    {
     "name": "stderr",
     "output_type": "stream",
     "text": [
      "/Users/aniruddhsriram/Desktop/betting/src/utils.py:109: FutureWarning: The behavior of DataFrame concatenation with empty or all-NA entries is deprecated. In a future version, this will no longer exclude empty or all-NA columns when determining the result dtypes. To retain the old behavior, exclude the relevant entries before the concat operation.\n",
      "  all_games = pd.concat([games_cur_df, games_last_df])\n"
     ]
    },
    {
     "name": "stdout",
     "output_type": "stream",
     "text": [
      "197/920\n",
      "198/920\n",
      "199/920\n",
      "200/920\n",
      "201/920\n",
      "202/920\n",
      "203/920\n",
      "204/920\n",
      "205/920\n",
      "206/920\n",
      "207/920\n",
      "208/920\n",
      "209/920\n",
      "210/920\n",
      "211/920\n",
      "212/920\n",
      "213/920\n",
      "214/920\n",
      "215/920\n",
      "216/920\n",
      "217/920\n",
      "218/920\n",
      "219/920\n"
     ]
    },
    {
     "name": "stderr",
     "output_type": "stream",
     "text": [
      "/Users/aniruddhsriram/Desktop/betting/src/utils.py:109: FutureWarning: The behavior of DataFrame concatenation with empty or all-NA entries is deprecated. In a future version, this will no longer exclude empty or all-NA columns when determining the result dtypes. To retain the old behavior, exclude the relevant entries before the concat operation.\n",
      "  all_games = pd.concat([games_cur_df, games_last_df])\n"
     ]
    },
    {
     "name": "stdout",
     "output_type": "stream",
     "text": [
      "220/920\n",
      "221/920\n",
      "222/920\n",
      "223/920\n",
      "224/920\n",
      "225/920\n",
      "226/920\n",
      "227/920\n",
      "228/920\n",
      "229/920\n",
      "230/920\n",
      "231/920\n",
      "232/920\n",
      "233/920\n",
      "234/920\n",
      "235/920\n",
      "236/920\n",
      "237/920\n",
      "238/920\n",
      "239/920\n",
      "240/920\n",
      "241/920\n",
      "242/920\n",
      "243/920\n",
      "244/920\n",
      "245/920\n",
      "246/920\n",
      "247/920\n",
      "248/920\n",
      "249/920\n",
      "250/920\n",
      "251/920\n",
      "252/920\n",
      "253/920\n",
      "254/920\n",
      "255/920\n",
      "256/920\n",
      "257/920\n",
      "258/920\n",
      "259/920\n",
      "260/920\n",
      "261/920\n",
      "262/920\n",
      "263/920\n",
      "264/920\n",
      "265/920\n",
      "266/920\n",
      "267/920\n",
      "268/920\n",
      "269/920\n",
      "270/920\n",
      "271/920\n"
     ]
    },
    {
     "name": "stderr",
     "output_type": "stream",
     "text": [
      "/Users/aniruddhsriram/Desktop/betting/src/utils.py:109: FutureWarning: The behavior of DataFrame concatenation with empty or all-NA entries is deprecated. In a future version, this will no longer exclude empty or all-NA columns when determining the result dtypes. To retain the old behavior, exclude the relevant entries before the concat operation.\n",
      "  all_games = pd.concat([games_cur_df, games_last_df])\n"
     ]
    },
    {
     "name": "stdout",
     "output_type": "stream",
     "text": [
      "272/920\n",
      "273/920\n",
      "274/920\n",
      "275/920\n",
      "276/920\n",
      "277/920\n",
      "278/920\n",
      "279/920\n",
      "280/920\n",
      "282/920\n",
      "283/920\n",
      "284/920\n",
      "286/920\n",
      "287/920\n",
      "288/920\n",
      "289/920\n",
      "290/920\n",
      "291/920\n",
      "292/920\n",
      "293/920\n",
      "294/920\n",
      "295/920\n",
      "296/920\n",
      "297/920\n",
      "298/920\n",
      "301/920\n",
      "302/920\n",
      "303/920\n",
      "304/920\n",
      "305/920\n",
      "306/920\n",
      "307/920\n",
      "308/920\n",
      "309/920\n",
      "310/920\n"
     ]
    },
    {
     "name": "stderr",
     "output_type": "stream",
     "text": [
      "/Users/aniruddhsriram/Desktop/betting/src/utils.py:109: FutureWarning: The behavior of DataFrame concatenation with empty or all-NA entries is deprecated. In a future version, this will no longer exclude empty or all-NA columns when determining the result dtypes. To retain the old behavior, exclude the relevant entries before the concat operation.\n",
      "  all_games = pd.concat([games_cur_df, games_last_df])\n"
     ]
    },
    {
     "name": "stdout",
     "output_type": "stream",
     "text": [
      "311/920\n",
      "312/920\n",
      "313/920\n",
      "314/920\n",
      "315/920\n",
      "316/920\n",
      "317/920\n",
      "318/920\n",
      "319/920\n",
      "320/920\n",
      "321/920\n",
      "322/920\n",
      "323/920\n",
      "324/920\n",
      "325/920\n",
      "326/920\n",
      "327/920\n",
      "328/920\n",
      "329/920\n",
      "330/920\n",
      "331/920\n"
     ]
    },
    {
     "name": "stderr",
     "output_type": "stream",
     "text": [
      "/Users/aniruddhsriram/Desktop/betting/src/utils.py:109: FutureWarning: The behavior of DataFrame concatenation with empty or all-NA entries is deprecated. In a future version, this will no longer exclude empty or all-NA columns when determining the result dtypes. To retain the old behavior, exclude the relevant entries before the concat operation.\n",
      "  all_games = pd.concat([games_cur_df, games_last_df])\n"
     ]
    },
    {
     "name": "stdout",
     "output_type": "stream",
     "text": [
      "332/920\n",
      "333/920\n",
      "334/920\n",
      "335/920\n",
      "336/920\n",
      "337/920\n",
      "338/920\n",
      "339/920\n",
      "340/920\n",
      "341/920\n",
      "342/920\n",
      "343/920\n",
      "344/920\n",
      "345/920\n",
      "346/920\n"
     ]
    },
    {
     "name": "stderr",
     "output_type": "stream",
     "text": [
      "/Users/aniruddhsriram/Desktop/betting/src/utils.py:109: FutureWarning: The behavior of DataFrame concatenation with empty or all-NA entries is deprecated. In a future version, this will no longer exclude empty or all-NA columns when determining the result dtypes. To retain the old behavior, exclude the relevant entries before the concat operation.\n",
      "  all_games = pd.concat([games_cur_df, games_last_df])\n"
     ]
    },
    {
     "name": "stdout",
     "output_type": "stream",
     "text": [
      "347/920\n",
      "348/920\n",
      "349/920\n",
      "350/920\n",
      "351/920\n",
      "352/920\n",
      "353/920\n",
      "354/920\n",
      "355/920\n",
      "356/920\n",
      "357/920\n",
      "358/920\n",
      "359/920\n",
      "360/920\n",
      "361/920\n",
      "362/920\n",
      "363/920\n",
      "364/920\n",
      "365/920\n",
      "366/920\n"
     ]
    },
    {
     "name": "stderr",
     "output_type": "stream",
     "text": [
      "/Users/aniruddhsriram/Desktop/betting/src/utils.py:109: FutureWarning: The behavior of DataFrame concatenation with empty or all-NA entries is deprecated. In a future version, this will no longer exclude empty or all-NA columns when determining the result dtypes. To retain the old behavior, exclude the relevant entries before the concat operation.\n",
      "  all_games = pd.concat([games_cur_df, games_last_df])\n"
     ]
    },
    {
     "name": "stdout",
     "output_type": "stream",
     "text": [
      "367/920\n",
      "368/920\n",
      "369/920\n",
      "370/920\n",
      "371/920\n",
      "372/920\n",
      "373/920\n",
      "374/920\n",
      "375/920\n",
      "376/920\n",
      "377/920\n",
      "378/920\n",
      "379/920\n",
      "380/920\n",
      "381/920\n",
      "382/920\n",
      "383/920\n",
      "384/920\n",
      "385/920\n",
      "386/920\n",
      "387/920\n"
     ]
    },
    {
     "name": "stderr",
     "output_type": "stream",
     "text": [
      "/Users/aniruddhsriram/Desktop/betting/src/utils.py:109: FutureWarning: The behavior of DataFrame concatenation with empty or all-NA entries is deprecated. In a future version, this will no longer exclude empty or all-NA columns when determining the result dtypes. To retain the old behavior, exclude the relevant entries before the concat operation.\n",
      "  all_games = pd.concat([games_cur_df, games_last_df])\n"
     ]
    },
    {
     "name": "stdout",
     "output_type": "stream",
     "text": [
      "388/920\n",
      "389/920\n",
      "390/920\n",
      "391/920\n",
      "392/920\n",
      "393/920\n",
      "394/920\n",
      "395/920\n",
      "396/920\n",
      "397/920\n",
      "398/920\n",
      "399/920\n",
      "400/920\n",
      "401/920\n",
      "402/920\n",
      "403/920\n",
      "404/920\n"
     ]
    },
    {
     "name": "stderr",
     "output_type": "stream",
     "text": [
      "/Users/aniruddhsriram/Desktop/betting/src/utils.py:109: FutureWarning: The behavior of DataFrame concatenation with empty or all-NA entries is deprecated. In a future version, this will no longer exclude empty or all-NA columns when determining the result dtypes. To retain the old behavior, exclude the relevant entries before the concat operation.\n",
      "  all_games = pd.concat([games_cur_df, games_last_df])\n"
     ]
    },
    {
     "name": "stdout",
     "output_type": "stream",
     "text": [
      "405/920\n",
      "406/920\n",
      "407/920\n",
      "408/920\n",
      "409/920\n",
      "411/920\n",
      "412/920\n",
      "413/920\n",
      "414/920\n",
      "415/920\n",
      "416/920\n",
      "417/920\n",
      "418/920\n",
      "419/920\n",
      "420/920\n",
      "421/920\n",
      "422/920\n",
      "423/920\n",
      "424/920\n",
      "425/920\n",
      "426/920\n",
      "427/920\n",
      "428/920\n",
      "429/920\n",
      "430/920\n",
      "431/920\n",
      "432/920\n",
      "433/920\n",
      "434/920\n"
     ]
    },
    {
     "name": "stderr",
     "output_type": "stream",
     "text": [
      "/Users/aniruddhsriram/Desktop/betting/src/utils.py:109: FutureWarning: The behavior of DataFrame concatenation with empty or all-NA entries is deprecated. In a future version, this will no longer exclude empty or all-NA columns when determining the result dtypes. To retain the old behavior, exclude the relevant entries before the concat operation.\n",
      "  all_games = pd.concat([games_cur_df, games_last_df])\n"
     ]
    },
    {
     "name": "stdout",
     "output_type": "stream",
     "text": [
      "435/920\n",
      "436/920\n",
      "437/920\n",
      "438/920\n",
      "439/920\n",
      "440/920\n",
      "441/920\n",
      "442/920\n",
      "443/920\n",
      "444/920\n",
      "445/920\n",
      "446/920\n",
      "447/920\n",
      "448/920\n",
      "449/920\n",
      "450/920\n"
     ]
    },
    {
     "name": "stderr",
     "output_type": "stream",
     "text": [
      "/Users/aniruddhsriram/Desktop/betting/src/utils.py:109: FutureWarning: The behavior of DataFrame concatenation with empty or all-NA entries is deprecated. In a future version, this will no longer exclude empty or all-NA columns when determining the result dtypes. To retain the old behavior, exclude the relevant entries before the concat operation.\n",
      "  all_games = pd.concat([games_cur_df, games_last_df])\n"
     ]
    },
    {
     "name": "stdout",
     "output_type": "stream",
     "text": [
      "451/920\n",
      "452/920\n",
      "453/920\n",
      "454/920\n",
      "455/920\n",
      "456/920\n",
      "457/920\n",
      "458/920\n",
      "459/920\n",
      "460/920\n",
      "461/920\n",
      "462/920\n",
      "463/920\n",
      "464/920\n",
      "465/920\n",
      "466/920\n",
      "467/920\n",
      "468/920\n",
      "469/920\n",
      "470/920\n",
      "471/920\n",
      "472/920\n",
      "473/920\n",
      "474/920\n",
      "475/920\n",
      "476/920\n",
      "477/920\n",
      "478/920\n",
      "479/920\n",
      "480/920\n",
      "481/920\n",
      "482/920\n",
      "483/920\n",
      "484/920\n",
      "485/920\n",
      "486/920\n",
      "487/920\n",
      "488/920\n",
      "489/920\n",
      "490/920\n",
      "491/920\n",
      "492/920\n",
      "493/920\n",
      "494/920\n",
      "495/920\n",
      "496/920\n",
      "497/920\n",
      "498/920\n",
      "499/920\n",
      "500/920\n",
      "501/920\n",
      "502/920\n",
      "503/920\n",
      "504/920\n",
      "505/920\n",
      "506/920\n",
      "507/920\n",
      "508/920\n",
      "509/920\n",
      "510/920\n",
      "511/920\n",
      "512/920\n",
      "513/920\n",
      "514/920\n",
      "515/920\n",
      "516/920\n",
      "517/920\n",
      "518/920\n",
      "519/920\n",
      "520/920\n",
      "521/920\n",
      "522/920\n",
      "523/920\n",
      "524/920\n",
      "525/920\n",
      "526/920\n",
      "527/920\n",
      "528/920\n",
      "529/920\n",
      "530/920\n",
      "531/920\n",
      "532/920\n",
      "533/920\n",
      "534/920\n",
      "535/920\n",
      "536/920\n",
      "537/920\n",
      "538/920\n",
      "539/920\n",
      "540/920\n",
      "541/920\n",
      "542/920\n",
      "543/920\n",
      "544/920\n",
      "545/920\n",
      "546/920\n",
      "547/920\n",
      "548/920\n"
     ]
    },
    {
     "name": "stderr",
     "output_type": "stream",
     "text": [
      "/Users/aniruddhsriram/Desktop/betting/src/utils.py:109: FutureWarning: The behavior of DataFrame concatenation with empty or all-NA entries is deprecated. In a future version, this will no longer exclude empty or all-NA columns when determining the result dtypes. To retain the old behavior, exclude the relevant entries before the concat operation.\n",
      "  all_games = pd.concat([games_cur_df, games_last_df])\n"
     ]
    },
    {
     "name": "stdout",
     "output_type": "stream",
     "text": [
      "549/920\n",
      "550/920\n",
      "551/920\n",
      "553/920\n",
      "554/920\n",
      "555/920\n",
      "556/920\n",
      "557/920\n",
      "558/920\n",
      "560/920\n",
      "561/920\n",
      "562/920\n",
      "563/920\n",
      "564/920\n",
      "566/920\n",
      "568/920\n",
      "569/920\n",
      "570/920\n",
      "571/920\n",
      "572/920\n",
      "573/920\n"
     ]
    },
    {
     "name": "stderr",
     "output_type": "stream",
     "text": [
      "/Users/aniruddhsriram/Desktop/betting/src/utils.py:109: FutureWarning: The behavior of DataFrame concatenation with empty or all-NA entries is deprecated. In a future version, this will no longer exclude empty or all-NA columns when determining the result dtypes. To retain the old behavior, exclude the relevant entries before the concat operation.\n",
      "  all_games = pd.concat([games_cur_df, games_last_df])\n"
     ]
    },
    {
     "name": "stdout",
     "output_type": "stream",
     "text": [
      "574/920\n",
      "575/920\n",
      "576/920\n",
      "577/920\n",
      "580/920\n",
      "581/920\n",
      "582/920\n",
      "584/920\n",
      "585/920\n",
      "586/920\n",
      "587/920\n",
      "588/920\n"
     ]
    },
    {
     "name": "stderr",
     "output_type": "stream",
     "text": [
      "/Users/aniruddhsriram/Desktop/betting/src/utils.py:109: FutureWarning: The behavior of DataFrame concatenation with empty or all-NA entries is deprecated. In a future version, this will no longer exclude empty or all-NA columns when determining the result dtypes. To retain the old behavior, exclude the relevant entries before the concat operation.\n",
      "  all_games = pd.concat([games_cur_df, games_last_df])\n"
     ]
    },
    {
     "name": "stdout",
     "output_type": "stream",
     "text": [
      "589/920\n",
      "590/920\n",
      "591/920\n",
      "592/920\n",
      "593/920\n",
      "594/920\n",
      "595/920\n",
      "596/920\n",
      "597/920\n",
      "598/920\n",
      "599/920\n",
      "600/920\n",
      "601/920\n",
      "602/920\n",
      "603/920\n",
      "604/920\n",
      "605/920\n",
      "606/920\n",
      "607/920\n",
      "608/920\n",
      "609/920\n",
      "610/920\n",
      "611/920\n",
      "613/920\n"
     ]
    },
    {
     "name": "stderr",
     "output_type": "stream",
     "text": [
      "/Users/aniruddhsriram/Desktop/betting/src/utils.py:109: FutureWarning: The behavior of DataFrame concatenation with empty or all-NA entries is deprecated. In a future version, this will no longer exclude empty or all-NA columns when determining the result dtypes. To retain the old behavior, exclude the relevant entries before the concat operation.\n",
      "  all_games = pd.concat([games_cur_df, games_last_df])\n"
     ]
    },
    {
     "name": "stdout",
     "output_type": "stream",
     "text": [
      "614/920\n",
      "615/920\n",
      "616/920\n",
      "617/920\n",
      "618/920\n",
      "619/920\n",
      "620/920\n",
      "621/920\n"
     ]
    },
    {
     "name": "stderr",
     "output_type": "stream",
     "text": [
      "/Users/aniruddhsriram/Desktop/betting/src/utils.py:109: FutureWarning: The behavior of DataFrame concatenation with empty or all-NA entries is deprecated. In a future version, this will no longer exclude empty or all-NA columns when determining the result dtypes. To retain the old behavior, exclude the relevant entries before the concat operation.\n",
      "  all_games = pd.concat([games_cur_df, games_last_df])\n"
     ]
    },
    {
     "name": "stdout",
     "output_type": "stream",
     "text": [
      "622/920\n",
      "623/920\n",
      "624/920\n",
      "625/920\n",
      "626/920\n",
      "627/920\n",
      "628/920\n",
      "629/920\n"
     ]
    },
    {
     "name": "stderr",
     "output_type": "stream",
     "text": [
      "/Users/aniruddhsriram/Desktop/betting/src/utils.py:109: FutureWarning: The behavior of DataFrame concatenation with empty or all-NA entries is deprecated. In a future version, this will no longer exclude empty or all-NA columns when determining the result dtypes. To retain the old behavior, exclude the relevant entries before the concat operation.\n",
      "  all_games = pd.concat([games_cur_df, games_last_df])\n"
     ]
    },
    {
     "name": "stdout",
     "output_type": "stream",
     "text": [
      "630/920\n",
      "631/920\n",
      "632/920\n",
      "633/920\n",
      "634/920\n",
      "635/920\n",
      "636/920\n",
      "637/920\n",
      "638/920\n",
      "639/920\n",
      "640/920\n",
      "641/920\n",
      "642/920\n",
      "643/920\n",
      "644/920\n",
      "645/920\n",
      "646/920\n",
      "647/920\n",
      "648/920\n",
      "649/920\n",
      "650/920\n",
      "651/920\n",
      "652/920\n",
      "653/920\n",
      "654/920\n",
      "655/920\n",
      "656/920\n",
      "657/920\n",
      "658/920\n",
      "659/920\n",
      "660/920\n",
      "661/920\n",
      "663/920\n",
      "664/920\n",
      "665/920\n",
      "666/920\n",
      "667/920\n",
      "668/920\n",
      "669/920\n",
      "670/920\n",
      "671/920\n",
      "672/920\n",
      "673/920\n",
      "674/920\n",
      "675/920\n",
      "676/920\n",
      "677/920\n",
      "678/920\n",
      "679/920\n"
     ]
    },
    {
     "name": "stderr",
     "output_type": "stream",
     "text": [
      "/Users/aniruddhsriram/Desktop/betting/src/utils.py:109: FutureWarning: The behavior of DataFrame concatenation with empty or all-NA entries is deprecated. In a future version, this will no longer exclude empty or all-NA columns when determining the result dtypes. To retain the old behavior, exclude the relevant entries before the concat operation.\n",
      "  all_games = pd.concat([games_cur_df, games_last_df])\n"
     ]
    },
    {
     "name": "stdout",
     "output_type": "stream",
     "text": [
      "680/920\n",
      "681/920\n",
      "682/920\n",
      "683/920\n",
      "684/920\n"
     ]
    },
    {
     "name": "stderr",
     "output_type": "stream",
     "text": [
      "/Users/aniruddhsriram/Desktop/betting/src/utils.py:109: FutureWarning: The behavior of DataFrame concatenation with empty or all-NA entries is deprecated. In a future version, this will no longer exclude empty or all-NA columns when determining the result dtypes. To retain the old behavior, exclude the relevant entries before the concat operation.\n",
      "  all_games = pd.concat([games_cur_df, games_last_df])\n"
     ]
    },
    {
     "name": "stdout",
     "output_type": "stream",
     "text": [
      "685/920\n",
      "686/920\n",
      "687/920\n",
      "688/920\n",
      "689/920\n",
      "690/920\n",
      "691/920\n",
      "693/920\n",
      "694/920\n",
      "695/920\n",
      "696/920\n",
      "697/920\n"
     ]
    },
    {
     "name": "stderr",
     "output_type": "stream",
     "text": [
      "/Users/aniruddhsriram/Desktop/betting/src/utils.py:109: FutureWarning: The behavior of DataFrame concatenation with empty or all-NA entries is deprecated. In a future version, this will no longer exclude empty or all-NA columns when determining the result dtypes. To retain the old behavior, exclude the relevant entries before the concat operation.\n",
      "  all_games = pd.concat([games_cur_df, games_last_df])\n"
     ]
    },
    {
     "name": "stdout",
     "output_type": "stream",
     "text": [
      "698/920\n",
      "699/920\n",
      "700/920\n",
      "701/920\n",
      "702/920\n",
      "703/920\n",
      "704/920\n",
      "705/920\n",
      "706/920\n",
      "707/920\n",
      "708/920\n",
      "709/920\n",
      "710/920\n",
      "711/920\n",
      "712/920\n",
      "714/920\n",
      "715/920\n",
      "716/920\n",
      "717/920\n",
      "718/920\n",
      "719/920\n",
      "720/920\n",
      "721/920\n",
      "722/920\n",
      "723/920\n",
      "724/920\n"
     ]
    },
    {
     "name": "stderr",
     "output_type": "stream",
     "text": [
      "/Users/aniruddhsriram/Desktop/betting/src/utils.py:109: FutureWarning: The behavior of DataFrame concatenation with empty or all-NA entries is deprecated. In a future version, this will no longer exclude empty or all-NA columns when determining the result dtypes. To retain the old behavior, exclude the relevant entries before the concat operation.\n",
      "  all_games = pd.concat([games_cur_df, games_last_df])\n"
     ]
    },
    {
     "name": "stdout",
     "output_type": "stream",
     "text": [
      "725/920\n",
      "726/920\n",
      "727/920\n",
      "728/920\n"
     ]
    },
    {
     "name": "stderr",
     "output_type": "stream",
     "text": [
      "/Users/aniruddhsriram/Desktop/betting/src/utils.py:109: FutureWarning: The behavior of DataFrame concatenation with empty or all-NA entries is deprecated. In a future version, this will no longer exclude empty or all-NA columns when determining the result dtypes. To retain the old behavior, exclude the relevant entries before the concat operation.\n",
      "  all_games = pd.concat([games_cur_df, games_last_df])\n"
     ]
    },
    {
     "name": "stdout",
     "output_type": "stream",
     "text": [
      "729/920\n",
      "730/920\n",
      "731/920\n",
      "732/920\n",
      "733/920\n",
      "734/920\n",
      "735/920\n",
      "736/920\n",
      "737/920\n",
      "738/920\n",
      "739/920\n",
      "740/920\n",
      "741/920\n",
      "742/920\n",
      "743/920\n"
     ]
    },
    {
     "name": "stderr",
     "output_type": "stream",
     "text": [
      "/Users/aniruddhsriram/Desktop/betting/src/utils.py:109: FutureWarning: The behavior of DataFrame concatenation with empty or all-NA entries is deprecated. In a future version, this will no longer exclude empty or all-NA columns when determining the result dtypes. To retain the old behavior, exclude the relevant entries before the concat operation.\n",
      "  all_games = pd.concat([games_cur_df, games_last_df])\n"
     ]
    },
    {
     "name": "stdout",
     "output_type": "stream",
     "text": [
      "744/920\n",
      "745/920\n",
      "746/920\n",
      "747/920\n",
      "748/920\n"
     ]
    },
    {
     "name": "stderr",
     "output_type": "stream",
     "text": [
      "/Users/aniruddhsriram/Desktop/betting/src/utils.py:109: FutureWarning: The behavior of DataFrame concatenation with empty or all-NA entries is deprecated. In a future version, this will no longer exclude empty or all-NA columns when determining the result dtypes. To retain the old behavior, exclude the relevant entries before the concat operation.\n",
      "  all_games = pd.concat([games_cur_df, games_last_df])\n"
     ]
    },
    {
     "name": "stdout",
     "output_type": "stream",
     "text": [
      "749/920\n",
      "750/920\n",
      "751/920\n"
     ]
    },
    {
     "name": "stderr",
     "output_type": "stream",
     "text": [
      "/Users/aniruddhsriram/Desktop/betting/src/utils.py:109: FutureWarning: The behavior of DataFrame concatenation with empty or all-NA entries is deprecated. In a future version, this will no longer exclude empty or all-NA columns when determining the result dtypes. To retain the old behavior, exclude the relevant entries before the concat operation.\n",
      "  all_games = pd.concat([games_cur_df, games_last_df])\n"
     ]
    },
    {
     "name": "stdout",
     "output_type": "stream",
     "text": [
      "752/920\n",
      "753/920\n",
      "754/920\n",
      "755/920\n",
      "756/920\n",
      "757/920\n",
      "758/920\n",
      "759/920\n",
      "760/920\n",
      "761/920\n",
      "762/920\n",
      "763/920\n",
      "764/920\n",
      "765/920\n",
      "766/920\n",
      "767/920\n",
      "768/920\n"
     ]
    },
    {
     "name": "stderr",
     "output_type": "stream",
     "text": [
      "/Users/aniruddhsriram/Desktop/betting/src/utils.py:109: FutureWarning: The behavior of DataFrame concatenation with empty or all-NA entries is deprecated. In a future version, this will no longer exclude empty or all-NA columns when determining the result dtypes. To retain the old behavior, exclude the relevant entries before the concat operation.\n",
      "  all_games = pd.concat([games_cur_df, games_last_df])\n"
     ]
    },
    {
     "name": "stdout",
     "output_type": "stream",
     "text": [
      "769/920\n",
      "770/920\n",
      "771/920\n",
      "772/920\n",
      "773/920\n",
      "774/920\n",
      "775/920\n",
      "776/920\n",
      "777/920\n",
      "778/920\n",
      "779/920\n",
      "780/920\n",
      "781/920\n",
      "782/920\n",
      "783/920\n",
      "784/920\n",
      "785/920\n",
      "786/920\n",
      "787/920\n",
      "788/920\n"
     ]
    },
    {
     "name": "stderr",
     "output_type": "stream",
     "text": [
      "/Users/aniruddhsriram/Desktop/betting/src/utils.py:109: FutureWarning: The behavior of DataFrame concatenation with empty or all-NA entries is deprecated. In a future version, this will no longer exclude empty or all-NA columns when determining the result dtypes. To retain the old behavior, exclude the relevant entries before the concat operation.\n",
      "  all_games = pd.concat([games_cur_df, games_last_df])\n"
     ]
    },
    {
     "name": "stdout",
     "output_type": "stream",
     "text": [
      "789/920\n",
      "790/920\n",
      "791/920\n",
      "792/920\n",
      "793/920\n",
      "794/920\n",
      "795/920\n",
      "796/920\n",
      "797/920\n",
      "798/920\n",
      "799/920\n",
      "800/920\n",
      "801/920\n",
      "802/920\n",
      "803/920\n",
      "804/920\n",
      "805/920\n",
      "806/920\n",
      "807/920\n",
      "808/920\n",
      "809/920\n",
      "811/920\n",
      "812/920\n",
      "813/920\n",
      "814/920\n",
      "815/920\n",
      "816/920\n",
      "817/920\n",
      "818/920\n",
      "819/920\n",
      "820/920\n"
     ]
    },
    {
     "name": "stderr",
     "output_type": "stream",
     "text": [
      "/Users/aniruddhsriram/Desktop/betting/src/utils.py:109: FutureWarning: The behavior of DataFrame concatenation with empty or all-NA entries is deprecated. In a future version, this will no longer exclude empty or all-NA columns when determining the result dtypes. To retain the old behavior, exclude the relevant entries before the concat operation.\n",
      "  all_games = pd.concat([games_cur_df, games_last_df])\n"
     ]
    },
    {
     "name": "stdout",
     "output_type": "stream",
     "text": [
      "821/920\n",
      "822/920\n",
      "823/920\n",
      "824/920\n",
      "825/920\n",
      "826/920\n",
      "827/920\n",
      "828/920\n",
      "829/920\n",
      "830/920\n",
      "831/920\n",
      "832/920\n",
      "834/920\n",
      "835/920\n",
      "836/920\n",
      "837/920\n",
      "838/920\n",
      "839/920\n",
      "840/920\n",
      "841/920\n",
      "842/920\n",
      "844/920\n",
      "845/920\n"
     ]
    },
    {
     "name": "stderr",
     "output_type": "stream",
     "text": [
      "/Users/aniruddhsriram/Desktop/betting/src/utils.py:109: FutureWarning: The behavior of DataFrame concatenation with empty or all-NA entries is deprecated. In a future version, this will no longer exclude empty or all-NA columns when determining the result dtypes. To retain the old behavior, exclude the relevant entries before the concat operation.\n",
      "  all_games = pd.concat([games_cur_df, games_last_df])\n"
     ]
    },
    {
     "name": "stdout",
     "output_type": "stream",
     "text": [
      "846/920\n",
      "847/920\n",
      "848/920\n",
      "849/920\n",
      "850/920\n",
      "852/920\n",
      "853/920\n",
      "854/920\n",
      "855/920\n",
      "856/920\n",
      "857/920\n",
      "858/920\n",
      "859/920\n",
      "860/920\n",
      "861/920\n",
      "862/920\n",
      "863/920\n",
      "866/920\n",
      "867/920\n",
      "868/920\n",
      "869/920\n",
      "870/920\n",
      "872/920\n",
      "873/920\n",
      "875/920\n",
      "876/920\n",
      "877/920\n",
      "878/920\n",
      "879/920\n",
      "880/920\n",
      "881/920\n",
      "882/920\n",
      "884/920\n",
      "885/920\n",
      "886/920\n",
      "887/920\n",
      "889/920\n"
     ]
    },
    {
     "name": "stderr",
     "output_type": "stream",
     "text": [
      "/Users/aniruddhsriram/Desktop/betting/src/utils.py:109: FutureWarning: The behavior of DataFrame concatenation with empty or all-NA entries is deprecated. In a future version, this will no longer exclude empty or all-NA columns when determining the result dtypes. To retain the old behavior, exclude the relevant entries before the concat operation.\n",
      "  all_games = pd.concat([games_cur_df, games_last_df])\n"
     ]
    },
    {
     "name": "stdout",
     "output_type": "stream",
     "text": [
      "891/920\n",
      "892/920\n",
      "895/920\n",
      "896/920\n"
     ]
    },
    {
     "name": "stderr",
     "output_type": "stream",
     "text": [
      "/Users/aniruddhsriram/Desktop/betting/src/utils.py:109: FutureWarning: The behavior of DataFrame concatenation with empty or all-NA entries is deprecated. In a future version, this will no longer exclude empty or all-NA columns when determining the result dtypes. To retain the old behavior, exclude the relevant entries before the concat operation.\n",
      "  all_games = pd.concat([games_cur_df, games_last_df])\n"
     ]
    },
    {
     "name": "stdout",
     "output_type": "stream",
     "text": [
      "897/920\n",
      "898/920\n",
      "899/920\n",
      "900/920\n",
      "902/920\n",
      "903/920\n",
      "904/920\n",
      "905/920\n"
     ]
    },
    {
     "name": "stderr",
     "output_type": "stream",
     "text": [
      "/Users/aniruddhsriram/Desktop/betting/src/utils.py:109: FutureWarning: The behavior of DataFrame concatenation with empty or all-NA entries is deprecated. In a future version, this will no longer exclude empty or all-NA columns when determining the result dtypes. To retain the old behavior, exclude the relevant entries before the concat operation.\n",
      "  all_games = pd.concat([games_cur_df, games_last_df])\n"
     ]
    },
    {
     "name": "stdout",
     "output_type": "stream",
     "text": [
      "906/920\n",
      "907/920\n",
      "908/920\n",
      "909/920\n",
      "910/920\n",
      "911/920\n",
      "912/920\n",
      "913/920\n",
      "914/920\n",
      "915/920\n",
      "916/920\n",
      "917/920\n",
      "918/920\n",
      "919/920\n"
     ]
    }
   ],
   "source": [
    "X = []\n",
    "Y = []\n",
    "for i, row in df.iterrows():\n",
    "    if row['true_action'] == 'PUSH':\n",
    "        continue\n",
    "    if pd.isna(row['true_action']) or row['true_action'] == '':\n",
    "        continue\n",
    "    player_name = row['name']\n",
    "    stat = row['stat']\n",
    "    pp_line = float(row['line'])\n",
    "    opponent = row['opponent']\n",
    "    game_date=datetime.datetime.strptime(row['game_date'], '%Y-%m-%d')\n",
    "    gamelog = utils.get_games_by_player(player_name, game_date)\n",
    "    stat_name = utils.get_stat_name(stat)\n",
    "    past_5 = models.avg_player_stats_pastngames(gamelog, stat_name, pp_line, 5)\n",
    "    past_10 = models.avg_player_stats_pastngames(gamelog, stat_name, pp_line, 10)\n",
    "    past_15 = models.avg_player_stats_pastngames(gamelog, stat_name, pp_line, 15)\n",
    "    season = models.avg_player_stats_season(gamelog, stat_name, pp_line)\n",
    "    vs_opp = models.avg_player_stats_vsteam(gamelog, stat_name, pp_line, opponent)\n",
    "    thisgame = gamelog[gamelog['GAME_DATE'] == game_date]\n",
    "    if len(thisgame) == 0:\n",
    "        away = 0.5\n",
    "    else:\n",
    "        thisgame = thisgame.iloc[0]\n",
    "        location = 'away' if '@' in thisgame['MATCHUP'] else 'home'\n",
    "        away = models.avg_player_stats_homeaway(gamelog, stat_name, pp_line, location)\n",
    "    # b2b=\n",
    "    X.append([past_5, past_10, past_15, season, vs_opp, away])\n",
    "    Y.append(1 if row['true_action'] == 'OVER' else 0)\n",
    "    print(f'{i}/{len(df)}')"
   ]
  },
  {
   "cell_type": "code",
   "execution_count": 63,
   "id": "9cfa1a85-5122-4d53-9093-91830a61e932",
   "metadata": {},
   "outputs": [
    {
     "name": "stdout",
     "output_type": "stream",
     "text": [
      "(706, 6) (177, 6) (706,) (177,)\n"
     ]
    }
   ],
   "source": [
    "X = np.array(X)\n",
    "y = np.array(Y)\n",
    "# xdata = X[:, [0, 3]]\n",
    "perm = np.random.permutation(len(X))\n",
    "X = X[perm]\n",
    "y = y[perm]\n",
    "split = int(0.8*len(X))\n",
    "X_train = X[:split, :]\n",
    "X_test = X[split:, :]\n",
    "y_train = y[:split]\n",
    "y_test = y[split:]\n",
    "print(X_train.shape, X_test.shape, y_train.shape, y_test.shape)"
   ]
  },
  {
   "cell_type": "code",
   "execution_count": 59,
   "id": "d5e668b2-d996-4ac4-acb2-9ed86c5bbe85",
   "metadata": {},
   "outputs": [
    {
     "data": {
      "text/plain": [
       "-0.4931548356902651"
      ]
     },
     "execution_count": 59,
     "metadata": {},
     "output_type": "execute_result"
    },
    {
     "data": {
      "image/png": "[encoded data removed]",
      "text/plain": [
       "<Figure size 640x480 with 1 Axes>"
      ]
     },
     "metadata": {},
     "output_type": "display_data"
    }
   ],
   "source": [
    "plt.scatter(X[:, 1], X[:, 2])\n",
    "np.corrcoef(X)[2, 1]"
   ]
  },
  {
   "cell_type": "code",
   "execution_count": 64,
   "id": "8e96c06f-f768-496b-a5f7-fc5f68d60c00",
   "metadata": {},
   "outputs": [],
   "source": [
    "clf = LogisticRegression().fit(X_train, y_train)"
   ]
  },
  {
   "cell_type": "code",
   "execution_count": 65,
   "id": "60b99cc3-7224-46ec-b9a0-8fdf00c84d24",
   "metadata": {},
   "outputs": [
    {
     "data": {
      "text/plain": [
       "{'C': 1.0,\n",
       " 'class_weight': None,\n",
       " 'dual': False,\n",
       " 'fit_intercept': True,\n",
       " 'intercept_scaling': 1,\n",
       " 'l1_ratio': None,\n",
       " 'max_iter': 100,\n",
       " 'multi_class': 'auto',\n",
       " 'n_jobs': None,\n",
       " 'penalty': 'l2',\n",
       " 'random_state': None,\n",
       " 'solver': 'lbfgs',\n",
       " 'tol': 0.0001,\n",
       " 'verbose': 0,\n",
       " 'warm_start': False}"
      ]
     },
     "execution_count": 65,
     "metadata": {},
     "output_type": "execute_result"
    }
   ],
   "source": [
    "clf.get_params()"
   ]
  },
  {
   "cell_type": "code",
   "execution_count": 66,
   "id": "ba92fc54-1bf6-4e63-92d7-b91bf652ba0f",
   "metadata": {},
   "outputs": [
    {
     "name": "stdout",
     "output_type": "stream",
     "text": [
      "p = sigmoid(b0 + 3.167972451540312*past5 + 0.4124034361943442*past10 + 0.9633793749011924*past15 + 0.36375378549533893*season + 4.691722981680915*vs_opp + -0.43995599400484003*away)\n"
     ]
    }
   ],
   "source": [
    "coef = clf.coef_[0]\n",
    "'''\n",
    "y = b0 + b1x1 + b2x2 + ...\n",
    "p = b0 + b1x1 + b2x2 + ...\n",
    "odds = p/1-p\n",
    "log odds = log(p/1-p)\n",
    "log(p/1-p) = b0 + b1x1 + b2x2 + ...\n",
    "log(p/1-p) = b0 + 2.22*past5 + 1.14*past10 + 0.58*past15 + 0.73*season + 3.36*season - 0.007*away\n",
    "p = sigmoid(b0 + 2.22*past5 + 1.14*past10 + 0.58*past15 + 0.73*season + 3.36*season - 0.007*away)\n",
    "\n",
    "b7*points + b8*assists + ...\n",
    "H0: b7 = b8\n",
    "'''\n",
    "print(f'p = sigmoid(b0 + {coef[0]}*past5 + {coef[1]}*past10 + {coef[2]}*past15 + {coef[3]}*season + {coef[4]}*vs_opp + {coef[5]}*away)')"
   ]
  },
  {
   "cell_type": "code",
   "execution_count": 67,
   "id": "c060454a-fda1-478b-9bb2-149ab7983935",
   "metadata": {},
   "outputs": [
    {
     "name": "stdout",
     "output_type": "stream",
     "text": [
      "Accuracy on train set: 0.7762039660056658\n",
      "Accuracy on test set: 0.7966101694915254\n"
     ]
    }
   ],
   "source": [
    "print(f'Accuracy on train set: {clf.score(X_train, y_train)}')\n",
    "print(f'Accuracy on test set: {clf.score(X_test, y_test)}')"
   ]
  },
  {
   "cell_type": "code",
   "execution_count": 71,
   "id": "111b541a-9238-4a63-a7b1-2fcfe4795333",
   "metadata": {},
   "outputs": [
    {
     "name": "stdout",
     "output_type": "stream",
     "text": [
      "[0 1 0 0 0 0 0 0 1 1]\n",
      "[0 1 0 1 0 0 0 0 1 1]\n"
     ]
    }
   ],
   "source": [
    "print(np.argmax(clf.predict_proba(X_test[0:10, :]), axis=1))\n",
    "print(y_test[0:10])"
   ]
  },
  {
   "cell_type": "code",
   "execution_count": null,
   "id": "27158f4c-f16a-42e9-b377-98c5aa9ff000",
   "metadata": {},
   "outputs": [],
   "source": []
  }
 ],
 "metadata": {
  "kernelspec": {
   "display_name": "Python 3 (ipykernel)",
   "language": "python",
   "name": "python3"
  },
  "language_info": {
   "codemirror_mode": {
    "name": "ipython",
    "version": 3
   },
   "file_extension": ".py",
   "mimetype": "text/x-python",
   "name": "python",
   "nbconvert_exporter": "python",
   "pygments_lexer": "ipython3",
   "version": "3.9.7"
  }
 },
 "nbformat": 4,
 "nbformat_minor": 5
}
