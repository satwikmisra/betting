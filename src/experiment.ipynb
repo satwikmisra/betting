{
 "cells": [
  {
   "cell_type": "code",
   "execution_count": 6,
   "id": "e126ea6c-7772-4657-a65b-0c0a978994b1",
   "metadata": {},
   "outputs": [],
   "source": [
    "import numpy as np\n",
    "import pandas as pd\n",
    "import datetime\n",
    "import utils\n",
    "import models\n",
    "from tqdm.auto import tqdm\n",
    "from sklearn.model_selection import KFold\n",
    "from sklearn.linear_model import LogisticRegression\n",
    "from sklearn.ensemble import AdaBoostClassifier\n",
    "import matplotlib.pyplot as plt\n",
    "import warnings\n",
    "# Suppress all warnings\n",
    "warnings.filterwarnings('ignore')"
   ]
  },
  {
   "cell_type": "code",
   "execution_count": 7,
   "id": "a0af72a8-fab0-4b73-b878-5f58b41ce3cd",
   "metadata": {},
   "outputs": [
    {
     "data": {
      "text/html": [
       "<div>\n",
       "<style scoped>\n",
       "    .dataframe tbody tr th:only-of-type {\n",
       "        vertical-align: middle;\n",
       "    }\n",
       "\n",
       "    .dataframe tbody tr th {\n",
       "        vertical-align: top;\n",
       "    }\n",
       "\n",
       "    .dataframe thead th {\n",
       "        text-align: right;\n",
       "    }\n",
       "</style>\n",
       "<table border=\"1\" class=\"dataframe\">\n",
       "  <thead>\n",
       "    <tr style=\"text-align: right;\">\n",
       "      <th></th>\n",
       "      <th>timestamp</th>\n",
       "      <th>game_date</th>\n",
       "      <th>game_time</th>\n",
       "      <th>name</th>\n",
       "      <th>team</th>\n",
       "      <th>position</th>\n",
       "      <th>opponent</th>\n",
       "      <th>stat</th>\n",
       "      <th>line</th>\n",
       "      <th>hit_percentage</th>\n",
       "      <th>margin</th>\n",
       "      <th>action</th>\n",
       "      <th>actual_stat</th>\n",
       "      <th>outcome</th>\n",
       "      <th>true_action</th>\n",
       "    </tr>\n",
       "  </thead>\n",
       "  <tbody>\n",
       "    <tr>\n",
       "      <th>0</th>\n",
       "      <td>11/19/2023 17:02:49</td>\n",
       "      <td>2023-11-19</td>\n",
       "      <td>5:02:20 PM</td>\n",
       "      <td>Jarrett Allen</td>\n",
       "      <td>CLE</td>\n",
       "      <td>C</td>\n",
       "      <td>DEN</td>\n",
       "      <td>Points</td>\n",
       "      <td>14.5</td>\n",
       "      <td>50.34</td>\n",
       "      <td>0.34</td>\n",
       "      <td>OVER</td>\n",
       "      <td>15.0</td>\n",
       "      <td>WIN</td>\n",
       "      <td>OVER</td>\n",
       "    </tr>\n",
       "    <tr>\n",
       "      <th>1</th>\n",
       "      <td>11/19/2023 17:27:06</td>\n",
       "      <td>2023-11-19</td>\n",
       "      <td>7:00:00 PM</td>\n",
       "      <td>Jaylen Brown</td>\n",
       "      <td>BOS</td>\n",
       "      <td>G-F</td>\n",
       "      <td>MEM</td>\n",
       "      <td>Free Throws Made</td>\n",
       "      <td>3.5</td>\n",
       "      <td>50.34</td>\n",
       "      <td>0.34</td>\n",
       "      <td>OVER</td>\n",
       "      <td>1.0</td>\n",
       "      <td>LOSE</td>\n",
       "      <td>UNDER</td>\n",
       "    </tr>\n",
       "    <tr>\n",
       "      <th>2</th>\n",
       "      <td>11/19/2023 17:02:49</td>\n",
       "      <td>2023-11-19</td>\n",
       "      <td>8:10:00 PM</td>\n",
       "      <td>Shaedon Sharpe</td>\n",
       "      <td>POR</td>\n",
       "      <td>G</td>\n",
       "      <td>OKC</td>\n",
       "      <td>Points</td>\n",
       "      <td>19.5</td>\n",
       "      <td>50.22</td>\n",
       "      <td>0.22</td>\n",
       "      <td>OVER</td>\n",
       "      <td>7.0</td>\n",
       "      <td>LOSE</td>\n",
       "      <td>UNDER</td>\n",
       "    </tr>\n",
       "    <tr>\n",
       "      <th>3</th>\n",
       "      <td>11/19/2023 17:27:06</td>\n",
       "      <td>2023-11-19</td>\n",
       "      <td>7:10:00 PM</td>\n",
       "      <td>Devin Booker</td>\n",
       "      <td>PHX</td>\n",
       "      <td>G</td>\n",
       "      <td>UTA</td>\n",
       "      <td>Assists</td>\n",
       "      <td>8.0</td>\n",
       "      <td>50.19</td>\n",
       "      <td>0.19</td>\n",
       "      <td>OVER</td>\n",
       "      <td>8.0</td>\n",
       "      <td>PUSH</td>\n",
       "      <td>PUSH</td>\n",
       "    </tr>\n",
       "    <tr>\n",
       "      <th>4</th>\n",
       "      <td>11/19/2023 17:27:06</td>\n",
       "      <td>2023-11-19</td>\n",
       "      <td>7:10:00 PM</td>\n",
       "      <td>Devin Booker</td>\n",
       "      <td>PHX</td>\n",
       "      <td>G</td>\n",
       "      <td>UTA</td>\n",
       "      <td>3-PT Attempted</td>\n",
       "      <td>6.5</td>\n",
       "      <td>50.17</td>\n",
       "      <td>0.17</td>\n",
       "      <td>OVER</td>\n",
       "      <td>7.0</td>\n",
       "      <td>WIN</td>\n",
       "      <td>OVER</td>\n",
       "    </tr>\n",
       "  </tbody>\n",
       "</table>\n",
       "</div>"
      ],
      "text/plain": [
       "             timestamp   game_date   game_time            name team position  \\\n",
       "0  11/19/2023 17:02:49  2023-11-19  5:02:20 PM   Jarrett Allen  CLE        C   \n",
       "1  11/19/2023 17:27:06  2023-11-19  7:00:00 PM    Jaylen Brown  BOS      G-F   \n",
       "2  11/19/2023 17:02:49  2023-11-19  8:10:00 PM  Shaedon Sharpe  POR        G   \n",
       "3  11/19/2023 17:27:06  2023-11-19  7:10:00 PM    Devin Booker  PHX        G   \n",
       "4  11/19/2023 17:27:06  2023-11-19  7:10:00 PM    Devin Booker  PHX        G   \n",
       "\n",
       "  opponent              stat  line  hit_percentage  margin action actual_stat  \\\n",
       "0      DEN            Points  14.5           50.34    0.34   OVER        15.0   \n",
       "1      MEM  Free Throws Made   3.5           50.34    0.34   OVER         1.0   \n",
       "2      OKC            Points  19.5           50.22    0.22   OVER         7.0   \n",
       "3      UTA           Assists   8.0           50.19    0.19   OVER         8.0   \n",
       "4      UTA    3-PT Attempted   6.5           50.17    0.17   OVER         7.0   \n",
       "\n",
       "  outcome true_action  \n",
       "0     WIN        OVER  \n",
       "1    LOSE       UNDER  \n",
       "2    LOSE       UNDER  \n",
       "3    PUSH        PUSH  \n",
       "4     WIN        OVER  "
      ]
     },
     "execution_count": 7,
     "metadata": {},
     "output_type": "execute_result"
    }
   ],
   "source": [
    "worksheet = utils.get_master_sheet()\n",
    "df = pd.DataFrame(worksheet.get_all_records())\n",
    "df.head()"
   ]
  },
  {
   "cell_type": "code",
   "execution_count": null,
   "id": "1a11645c-8172-4255-b8de-43f1694002f6",
   "metadata": {},
   "outputs": [
    {
     "data": {
      "application/vnd.jupyter.widget-view+json": {
       "model_id": "bbfdc01dcd224feb99236ccb33db0734",
       "version_major": 2,
       "version_minor": 0
      },
      "text/plain": [
       "  0%|          | 0/4624 [00:00<?, ?it/s]"
      ]
     },
     "metadata": {},
     "output_type": "display_data"
    },
    {
     "name": "stdout",
     "output_type": "stream",
     "text": [
      "Error 131: HTTPSConnectionPool(host='stats.nba.com', port=443): Read timed out. (read timeout=30)\n",
      "Error 148: HTTPSConnectionPool(host='stats.nba.com', port=443): Read timed out. (read timeout=30)\n",
      "Error 167: HTTPSConnectionPool(host='stats.nba.com', port=443): Read timed out. (read timeout=30)\n",
      "Error 185: HTTPSConnectionPool(host='stats.nba.com', port=443): Read timed out. (read timeout=30)\n",
      "Error 186: HTTPSConnectionPool(host='stats.nba.com', port=443): Read timed out. (read timeout=30)\n",
      "Error 187: HTTPSConnectionPool(host='stats.nba.com', port=443): Read timed out. (read timeout=30)\n",
      "Error 190: HTTPSConnectionPool(host='stats.nba.com', port=443): Read timed out. (read timeout=30)\n"
     ]
    }
   ],
   "source": [
    "X = []\n",
    "Y = []\n",
    "\n",
    "for i, row in tqdm(df.iterrows(), total=len(df)):\n",
    "    try:\n",
    "        if row['true_action'] == 'PUSH':\n",
    "            continue\n",
    "        if pd.isna(row['true_action']) or row['true_action'] == '':\n",
    "            continue\n",
    "        player_name = row['name']\n",
    "        stat = row['stat']\n",
    "        pp_line = float(row['line'])\n",
    "        opponent = row['opponent']\n",
    "        game_date=datetime.datetime.strptime(row['game_date'], '%Y-%m-%d')\n",
    "        \n",
    "        gamelog = utils.get_games_by_player(player_name, game_date)\n",
    "        thisgame = gamelog[gamelog['GAME_DATE'] == game_date]\n",
    "        gamelog = gamelog[gamelog['GAME_DATE'] < game_date]\n",
    "        \n",
    "        stat_name = utils.get_stat_name(stat)\n",
    "        \n",
    "        past_5 = models.avg_player_stats_pastngames(gamelog, stat_name, pp_line, 5)\n",
    "        past_10 = models.avg_player_stats_pastngames(gamelog, stat_name, pp_line, 10)\n",
    "        past_15 = models.avg_player_stats_pastngames(gamelog, stat_name, pp_line, 15)\n",
    "        season = models.avg_player_stats_season(gamelog, stat_name, pp_line)\n",
    "        vs_opp = models.avg_player_stats_vsteam(gamelog, stat_name, pp_line, opponent)\n",
    "        if len(thisgame) == 0:\n",
    "            away = 0.5\n",
    "        else:\n",
    "            thisgame = thisgame.iloc[0]\n",
    "            location = 'away' if '@' in thisgame['MATCHUP'] else 'home'\n",
    "            away = models.avg_player_stats_homeaway(gamelog, stat_name, pp_line, location)\n",
    "            away_binary = 1 if location=='away' else 0\n",
    "        rest = models.days_since_last_game(gamelog, game_date)\n",
    "        rest1 = int(rest==0 or rest==1)\n",
    "        rest2 = int(rest==2)\n",
    "        rest3 = int(rest>=3)\n",
    "        usage_rate = models.get_past_10_game_usage_rates(player_name)\n",
    "        X.append([past_5, past_10, past_15, season, vs_opp, away, away_binary, rest1, rest2, rest3, usage_rate])\n",
    "        Y.append(1 if row['true_action'] == 'OVER' else 0)\n",
    "        if i%250==0:\n",
    "            np.save('X.npy', np.array(X))\n",
    "            np.save('Y.npy', np.array(Y))\n",
    "        # def_predictor = (pelicans_avg_reb - all_teams_avg_reb)/all_teams_std_reb\n",
    "        # print(f'{i}/{len(df)}')\n",
    "    except Exception as e:\n",
    "        print(f'Error {i}: {e}')"
   ]
  },
  {
   "cell_type": "code",
   "execution_count": 63,
   "id": "df1a1298-f3e3-4b83-883e-543cd950462f",
   "metadata": {},
   "outputs": [
    {
     "name": "stdout",
     "output_type": "stream",
     "text": [
      "Accuracy on train set: 0.5839677563815495\n",
      "Accuracy on test set: 0.51\n"
     ]
    }
   ],
   "source": [
    "X = np.array(X)\n",
    "Y = np.array(Y)\n",
    "n = len(X)\n",
    "splitpt = 400\n",
    "X_train = X[:-splitpt, :]\n",
    "Y_train = Y[:-splitpt]\n",
    "X_test = X[-splitpt:, :]\n",
    "Y_test = Y[-splitpt:]\n",
    "clf = AdaBoostClassifier(n_estimators=100, random_state=0).fit(X_train, Y_train)\n",
    "# clf = LogisticRegression().fit(X_train, Y_train)\n",
    "train_acc = clf.score(X_train, Y_train)\n",
    "test_acc = clf.score(X_test, Y_test)\n",
    "print(f'Accuracy on train set: {train_acc}')\n",
    "print(f'Accuracy on test set: {test_acc}')"
   ]
  },
  {
   "cell_type": "code",
   "execution_count": 21,
   "id": "e67af985-5d55-438f-b636-d30bd2dc7781",
   "metadata": {},
   "outputs": [
    {
     "name": "stdout",
     "output_type": "stream",
     "text": [
      "Fold 0:\n",
      "  Train: index=293\n",
      "  Test:  index=98\n",
      "Accuracy on train set: 0.5494880546075085\n",
      "Accuracy on test set: 0.5306122448979592\n",
      "Fold 1:\n",
      "  Train: index=293\n",
      "  Test:  index=98\n",
      "Accuracy on train set: 0.515358361774744\n",
      "Accuracy on test set: 0.46938775510204084\n",
      "Fold 2:\n",
      "  Train: index=293\n",
      "  Test:  index=98\n",
      "Accuracy on train set: 0.5324232081911263\n",
      "Accuracy on test set: 0.5\n",
      "Fold 3:\n",
      "  Train: index=294\n",
      "  Test:  index=97\n",
      "Accuracy on train set: 0.5136054421768708\n",
      "Accuracy on test set: 0.5360824742268041\n",
      "[0.5306122448979592, 0.46938775510204084, 0.5, 0.5360824742268041]\n",
      "0.509020618556701\n"
     ]
    }
   ],
   "source": [
    "# X = np.load('x.npy')\n",
    "# y = np.load('y.npy')\n",
    "kf = KFold(n_splits=4, shuffle=True)\n",
    "avg_acc = []\n",
    "for i, (train_index, test_index) in enumerate(kf.split(X)):\n",
    "    print(f\"Fold {i}:\")\n",
    "    print(f\"  Train: index={len(train_index)}\")\n",
    "    print(f\"  Test:  index={len(test_index)}\")\n",
    "    X_train = X[train_index]\n",
    "    y_train = Y[train_index]\n",
    "    X_test = X[test_index]\n",
    "    y_test = Y[test_index]\n",
    "    clf = LogisticRegression().fit(X_train, y_train)\n",
    "    train_acc = clf.score(X_train, y_train)\n",
    "    test_acc = clf.score(X_test, y_test)\n",
    "    print(f'Accuracy on train set: {train_acc}')\n",
    "    print(f'Accuracy on test set: {test_acc}')\n",
    "    avg_acc.append(test_acc)\n",
    "print(avg_acc)\n",
    "print(np.mean(np.array(avg_acc)))"
   ]
  },
  {
   "cell_type": "code",
   "execution_count": 59,
   "id": "d5e668b2-d996-4ac4-acb2-9ed86c5bbe85",
   "metadata": {},
   "outputs": [
    {
     "data": {
      "text/plain": [
       "-0.4931548356902651"
      ]
     },
     "execution_count": 59,
     "metadata": {},
     "output_type": "execute_result"
    },
    {
     "data": {
      "image/png": "[encoded data removed]",
      "text/plain": [
       "<Figure size 640x480 with 1 Axes>"
      ]
     },
     "metadata": {},
     "output_type": "display_data"
    }
   ],
   "source": [
    "plt.scatter(X[:, 1], X[:, 2])\n",
    "np.corrcoef(X)[2, 1]"
   ]
  },
  {
   "cell_type": "code",
   "execution_count": 6,
   "id": "8e96c06f-f768-496b-a5f7-fc5f68d60c00",
   "metadata": {},
   "outputs": [],
   "source": [
    "clf = LogisticRegression().fit(X_train, y_train)"
   ]
  },
  {
   "cell_type": "code",
   "execution_count": 7,
   "id": "60b99cc3-7224-46ec-b9a0-8fdf00c84d24",
   "metadata": {},
   "outputs": [
    {
     "data": {
      "text/plain": [
       "{'C': 1.0,\n",
       " 'class_weight': None,\n",
       " 'dual': False,\n",
       " 'fit_intercept': True,\n",
       " 'intercept_scaling': 1,\n",
       " 'l1_ratio': None,\n",
       " 'max_iter': 100,\n",
       " 'multi_class': 'auto',\n",
       " 'n_jobs': None,\n",
       " 'penalty': 'l2',\n",
       " 'random_state': None,\n",
       " 'solver': 'lbfgs',\n",
       " 'tol': 0.0001,\n",
       " 'verbose': 0,\n",
       " 'warm_start': False}"
      ]
     },
     "execution_count": 7,
     "metadata": {},
     "output_type": "execute_result"
    }
   ],
   "source": [
    "clf.get_params()"
   ]
  },
  {
   "cell_type": "code",
   "execution_count": 8,
   "id": "ba92fc54-1bf6-4e63-92d7-b91bf652ba0f",
   "metadata": {},
   "outputs": [
    {
     "name": "stdout",
     "output_type": "stream",
     "text": [
      "p = sigmoid([-4.06174343] + 2.940910917776026*past5 + 0.3141791181315479*past10 + 0.6926901074208849*past15 + 0.4694275829239621*season + 4.519614693201092*vs_opp + -0.28991565825128673*away)\n"
     ]
    }
   ],
   "source": [
    "coef = clf.coef_[0]\n",
    "intercept = clf.intercept_\n",
    "'''\n",
    "y = b0 + b1x1 + b2x2 + ...\n",
    "p = b0 + b1x1 + b2x2 + ...\n",
    "odds = p/1-p\n",
    "log odds = log(p/1-p)\n",
    "log(p/1-p) = b0 + b1x1 + b2x2 + ...\n",
    "log(p/1-p) = b0 + 2.22*past5 + 1.14*past10 + 0.58*past15 + 0.73*season + 3.36*season - 0.007*away\n",
    "p = sigmoid(b0 + 2.22*past5 + 1.14*past10 + 0.58*past15 + 0.73*season + 3.36*season - 0.007*away)\n",
    "\n",
    "b7*points + b8*assists + ...\n",
    "H0: b7 = b8\n",
    "'''\n",
    "print(f'p = sigmoid({intercept} + {coef[0]}*past5 + {coef[1]}*past10 + {coef[2]}*past15 + {coef[3]}*season + {coef[4]}*vs_opp + {coef[5]}*away)')"
   ]
  },
  {
   "cell_type": "code",
   "execution_count": 9,
   "id": "c060454a-fda1-478b-9bb2-149ab7983935",
   "metadata": {},
   "outputs": [
    {
     "name": "stdout",
     "output_type": "stream",
     "text": [
      "Accuracy on train set: 0.7847025495750708\n",
      "Accuracy on test set: 0.807909604519774\n"
     ]
    }
   ],
   "source": [
    "print(f'Accuracy on train set: {clf.score(X_train, y_train)}')\n",
    "print(f'Accuracy on test set: {clf.score(X_test, y_test)}')"
   ]
  },
  {
   "cell_type": "code",
   "execution_count": 10,
   "id": "111b541a-9238-4a63-a7b1-2fcfe4795333",
   "metadata": {},
   "outputs": [
    {
     "name": "stdout",
     "output_type": "stream",
     "text": [
      "[1 1 1 1 0 1 1 0 0 0]\n",
      "[0 0 1 1 0 1 0 0 0 0]\n"
     ]
    }
   ],
   "source": [
    "print(np.argmax(clf.predict_proba(X_test[0:10, :]), axis=1))\n",
    "print(y_test[0:10])"
   ]
  },
  {
   "cell_type": "code",
   "execution_count": 64,
   "id": "27158f4c-f16a-42e9-b377-98c5aa9ff000",
   "metadata": {},
   "outputs": [
    {
     "data": {
      "text/plain": [
       "['adaboostmodel.joblib']"
      ]
     },
     "execution_count": 64,
     "metadata": {},
     "output_type": "execute_result"
    }
   ],
   "source": [
    "from joblib import dump, load\n",
    "dump(clf, 'adaboostmodel.joblib')"
   ]
  },
  {
   "cell_type": "code",
   "execution_count": null,
   "id": "3f61a087-0b74-431a-86cd-25581860f61d",
   "metadata": {},
   "outputs": [],
   "source": [
    "np."
   ]
  }
 ],
 "metadata": {
  "kernelspec": {
   "display_name": "Python 3 (ipykernel)",
   "language": "python",
   "name": "python3"
  },
  "language_info": {
   "codemirror_mode": {
    "name": "ipython",
    "version": 3
   },
   "file_extension": ".py",
   "mimetype": "text/x-python",
   "name": "python",
   "nbconvert_exporter": "python",
   "pygments_lexer": "ipython3",
   "version": "3.9.7"
  }
 },
 "nbformat": 4,
 "nbformat_minor": 5
}
