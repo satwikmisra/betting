{
 "cells": [
  {
   "cell_type": "code",
   "execution_count": 55,
   "id": "e126ea6c-7772-4657-a65b-0c0a978994b1",
   "metadata": {},
   "outputs": [],
   "source": [
    "import numpy as np\n",
    "import pandas as pd\n",
    "import datetime\n",
    "import utils\n",
    "import models\n",
    "from sklearn.model_selection import KFold\n",
    "from sklearn.linear_model import LogisticRegression\n",
    "from sklearn.ensemble import AdaBoostClassifier\n",
    "import matplotlib.pyplot as plt"
   ]
  },
  {
   "cell_type": "code",
   "execution_count": 29,
   "id": "a0af72a8-fab0-4b73-b878-5f58b41ce3cd",
   "metadata": {},
   "outputs": [
    {
     "name": "stderr",
     "output_type": "stream",
     "text": [
      "/var/folders/rs/6tl6pps1563b8sz8xgxyg9bm0000gn/T/ipykernel_21152/1571977952.py:1: DeprecationWarning: [Deprecated][in version 6.0.0]: client_factory will be replaced by gspread.http_client types\n",
      "  worksheet = utils.get_master_sheet()\n"
     ]
    },
    {
     "data": {
      "text/html": [
       "<div>\n",
       "<style scoped>\n",
       "    .dataframe tbody tr th:only-of-type {\n",
       "        vertical-align: middle;\n",
       "    }\n",
       "\n",
       "    .dataframe tbody tr th {\n",
       "        vertical-align: top;\n",
       "    }\n",
       "\n",
       "    .dataframe thead th {\n",
       "        text-align: right;\n",
       "    }\n",
       "</style>\n",
       "<table border=\"1\" class=\"dataframe\">\n",
       "  <thead>\n",
       "    <tr style=\"text-align: right;\">\n",
       "      <th></th>\n",
       "      <th>timestamp</th>\n",
       "      <th>game_date</th>\n",
       "      <th>game_time</th>\n",
       "      <th>name</th>\n",
       "      <th>team</th>\n",
       "      <th>position</th>\n",
       "      <th>opponent</th>\n",
       "      <th>stat</th>\n",
       "      <th>line</th>\n",
       "      <th>hit_percentage</th>\n",
       "      <th>margin</th>\n",
       "      <th>action</th>\n",
       "      <th>actual_stat</th>\n",
       "      <th>outcome</th>\n",
       "      <th>true_action</th>\n",
       "    </tr>\n",
       "  </thead>\n",
       "  <tbody>\n",
       "    <tr>\n",
       "      <th>0</th>\n",
       "      <td>11/19/2023 17:02:49</td>\n",
       "      <td>2023-11-19</td>\n",
       "      <td>5:02:20 PM</td>\n",
       "      <td>Aaron Gordon</td>\n",
       "      <td>DEN</td>\n",
       "      <td>F</td>\n",
       "      <td>CLE</td>\n",
       "      <td>Points</td>\n",
       "      <td>14.5</td>\n",
       "      <td>9.70</td>\n",
       "      <td>40.30</td>\n",
       "      <td>UNDER</td>\n",
       "      <td>11.0</td>\n",
       "      <td>WIN</td>\n",
       "      <td>UNDER</td>\n",
       "    </tr>\n",
       "    <tr>\n",
       "      <th>1</th>\n",
       "      <td>11/19/2023 17:02:49</td>\n",
       "      <td>2023-11-19</td>\n",
       "      <td>5:02:20 PM</td>\n",
       "      <td>Darius Garland</td>\n",
       "      <td>CLE</td>\n",
       "      <td>G</td>\n",
       "      <td>DEN</td>\n",
       "      <td>Points</td>\n",
       "      <td>24.0</td>\n",
       "      <td>26.70</td>\n",
       "      <td>23.30</td>\n",
       "      <td>UNDER</td>\n",
       "      <td>26.0</td>\n",
       "      <td>LOSE</td>\n",
       "      <td>OVER</td>\n",
       "    </tr>\n",
       "    <tr>\n",
       "      <th>2</th>\n",
       "      <td>11/19/2023 17:02:49</td>\n",
       "      <td>2023-11-19</td>\n",
       "      <td>5:02:20 PM</td>\n",
       "      <td>Kentavious Caldwell-Pope</td>\n",
       "      <td>DEN</td>\n",
       "      <td>G</td>\n",
       "      <td>CLE</td>\n",
       "      <td>Points</td>\n",
       "      <td>8.5</td>\n",
       "      <td>94.03</td>\n",
       "      <td>44.03</td>\n",
       "      <td>OVER</td>\n",
       "      <td>9.0</td>\n",
       "      <td>WIN</td>\n",
       "      <td>OVER</td>\n",
       "    </tr>\n",
       "    <tr>\n",
       "      <th>3</th>\n",
       "      <td>11/19/2023 17:02:49</td>\n",
       "      <td>2023-11-19</td>\n",
       "      <td>5:02:20 PM</td>\n",
       "      <td>Evan Mobley</td>\n",
       "      <td>CLE</td>\n",
       "      <td>C</td>\n",
       "      <td>DEN</td>\n",
       "      <td>Points</td>\n",
       "      <td>18.5</td>\n",
       "      <td>26.17</td>\n",
       "      <td>23.83</td>\n",
       "      <td>UNDER</td>\n",
       "      <td>16.0</td>\n",
       "      <td>WIN</td>\n",
       "      <td>UNDER</td>\n",
       "    </tr>\n",
       "    <tr>\n",
       "      <th>4</th>\n",
       "      <td>11/19/2023 17:02:49</td>\n",
       "      <td>2023-11-19</td>\n",
       "      <td>5:02:20 PM</td>\n",
       "      <td>Michael Porter Jr.</td>\n",
       "      <td>DEN</td>\n",
       "      <td>F</td>\n",
       "      <td>CLE</td>\n",
       "      <td>Points</td>\n",
       "      <td>17.5</td>\n",
       "      <td>79.99</td>\n",
       "      <td>29.99</td>\n",
       "      <td>OVER</td>\n",
       "      <td>21.0</td>\n",
       "      <td>WIN</td>\n",
       "      <td>OVER</td>\n",
       "    </tr>\n",
       "  </tbody>\n",
       "</table>\n",
       "</div>"
      ],
      "text/plain": [
       "             timestamp   game_date   game_time                      name team  \\\n",
       "0  11/19/2023 17:02:49  2023-11-19  5:02:20 PM              Aaron Gordon  DEN   \n",
       "1  11/19/2023 17:02:49  2023-11-19  5:02:20 PM            Darius Garland  CLE   \n",
       "2  11/19/2023 17:02:49  2023-11-19  5:02:20 PM  Kentavious Caldwell-Pope  DEN   \n",
       "3  11/19/2023 17:02:49  2023-11-19  5:02:20 PM               Evan Mobley  CLE   \n",
       "4  11/19/2023 17:02:49  2023-11-19  5:02:20 PM        Michael Porter Jr.  DEN   \n",
       "\n",
       "  position opponent    stat  line  hit_percentage  margin action actual_stat  \\\n",
       "0        F      CLE  Points  14.5            9.70   40.30  UNDER        11.0   \n",
       "1        G      DEN  Points  24.0           26.70   23.30  UNDER        26.0   \n",
       "2        G      CLE  Points   8.5           94.03   44.03   OVER         9.0   \n",
       "3        C      DEN  Points  18.5           26.17   23.83  UNDER        16.0   \n",
       "4        F      CLE  Points  17.5           79.99   29.99   OVER        21.0   \n",
       "\n",
       "  outcome true_action  \n",
       "0     WIN       UNDER  \n",
       "1    LOSE        OVER  \n",
       "2     WIN        OVER  \n",
       "3     WIN       UNDER  \n",
       "4     WIN        OVER  "
      ]
     },
     "execution_count": 29,
     "metadata": {},
     "output_type": "execute_result"
    }
   ],
   "source": [
    "worksheet = utils.get_master_sheet()\n",
    "df = pd.DataFrame(worksheet.get_all_records())\n",
    "# df_train = df.iloc[:-300]\n",
    "# df_test = df.iloc[-300:]\n",
    "# df = df.sample(frac=1).reset_index(drop=True)\n",
    "# df['game_date'] = pd.to_datetime(df['game_date'], format='%Y-%m-%d')\n",
    "# df_train = df[df['game_date'] < datetime.datetime(2023, 10, 1)]\n",
    "df.head()"
   ]
  },
  {
   "cell_type": "code",
   "execution_count": 30,
   "id": "1a11645c-8172-4255-b8de-43f1694002f6",
   "metadata": {},
   "outputs": [
    {
     "name": "stdout",
     "output_type": "stream",
     "text": [
      "0/3026\n",
      "1/3026\n",
      "2/3026\n",
      "3/3026\n",
      "4/3026\n",
      "5/3026\n",
      "6/3026\n",
      "7/3026\n",
      "8/3026\n",
      "9/3026\n",
      "10/3026\n",
      "11/3026\n",
      "12/3026\n",
      "13/3026\n",
      "14/3026\n",
      "15/3026\n",
      "16/3026\n",
      "17/3026\n",
      "18/3026\n",
      "19/3026\n"
     ]
    },
    {
     "name": "stderr",
     "output_type": "stream",
     "text": [
      "/Users/aniruddhsriram/Desktop/betting/src/utils.py:109: FutureWarning: The behavior of DataFrame concatenation with empty or all-NA entries is deprecated. In a future version, this will no longer exclude empty or all-NA columns when determining the result dtypes. To retain the old behavior, exclude the relevant entries before the concat operation.\n",
      "  \n"
     ]
    },
    {
     "name": "stdout",
     "output_type": "stream",
     "text": [
      "20/3026\n",
      "21/3026\n",
      "22/3026\n",
      "23/3026\n",
      "24/3026\n",
      "25/3026\n",
      "26/3026\n",
      "27/3026\n",
      "28/3026\n",
      "29/3026\n",
      "30/3026\n",
      "31/3026\n",
      "32/3026\n",
      "33/3026\n",
      "34/3026\n",
      "35/3026\n",
      "36/3026\n",
      "37/3026\n"
     ]
    },
    {
     "name": "stderr",
     "output_type": "stream",
     "text": [
      "/Users/aniruddhsriram/Desktop/betting/src/utils.py:109: FutureWarning: The behavior of DataFrame concatenation with empty or all-NA entries is deprecated. In a future version, this will no longer exclude empty or all-NA columns when determining the result dtypes. To retain the old behavior, exclude the relevant entries before the concat operation.\n",
      "  \n"
     ]
    },
    {
     "name": "stdout",
     "output_type": "stream",
     "text": [
      "38/3026\n",
      "39/3026\n",
      "40/3026\n",
      "41/3026\n",
      "42/3026\n"
     ]
    },
    {
     "name": "stderr",
     "output_type": "stream",
     "text": [
      "/Users/aniruddhsriram/Desktop/betting/src/utils.py:109: FutureWarning: The behavior of DataFrame concatenation with empty or all-NA entries is deprecated. In a future version, this will no longer exclude empty or all-NA columns when determining the result dtypes. To retain the old behavior, exclude the relevant entries before the concat operation.\n",
      "  \n"
     ]
    },
    {
     "name": "stdout",
     "output_type": "stream",
     "text": [
      "43/3026\n",
      "44/3026\n",
      "45/3026\n",
      "46/3026\n",
      "47/3026\n",
      "48/3026\n",
      "49/3026\n",
      "50/3026\n",
      "51/3026\n",
      "52/3026\n",
      "53/3026\n",
      "54/3026\n",
      "55/3026\n",
      "56/3026\n",
      "57/3026\n",
      "59/3026\n",
      "60/3026\n",
      "62/3026\n",
      "63/3026\n",
      "64/3026\n",
      "65/3026\n",
      "66/3026\n",
      "67/3026\n",
      "68/3026\n",
      "70/3026\n",
      "71/3026\n",
      "72/3026\n",
      "74/3026\n",
      "75/3026\n",
      "76/3026\n",
      "77/3026\n"
     ]
    },
    {
     "name": "stderr",
     "output_type": "stream",
     "text": [
      "/Users/aniruddhsriram/Desktop/betting/src/utils.py:109: FutureWarning: The behavior of DataFrame concatenation with empty or all-NA entries is deprecated. In a future version, this will no longer exclude empty or all-NA columns when determining the result dtypes. To retain the old behavior, exclude the relevant entries before the concat operation.\n",
      "  \n"
     ]
    },
    {
     "name": "stdout",
     "output_type": "stream",
     "text": [
      "78/3026\n",
      "79/3026\n",
      "80/3026\n"
     ]
    },
    {
     "name": "stderr",
     "output_type": "stream",
     "text": [
      "/Users/aniruddhsriram/Desktop/betting/src/utils.py:109: FutureWarning: The behavior of DataFrame concatenation with empty or all-NA entries is deprecated. In a future version, this will no longer exclude empty or all-NA columns when determining the result dtypes. To retain the old behavior, exclude the relevant entries before the concat operation.\n",
      "  \n"
     ]
    },
    {
     "name": "stdout",
     "output_type": "stream",
     "text": [
      "81/3026\n",
      "82/3026\n",
      "83/3026\n",
      "84/3026\n",
      "85/3026\n",
      "86/3026\n",
      "87/3026\n",
      "88/3026\n",
      "89/3026\n",
      "90/3026\n",
      "91/3026\n",
      "92/3026\n",
      "93/3026\n",
      "94/3026\n",
      "96/3026\n"
     ]
    },
    {
     "name": "stderr",
     "output_type": "stream",
     "text": [
      "/Users/aniruddhsriram/Desktop/betting/src/utils.py:109: FutureWarning: The behavior of DataFrame concatenation with empty or all-NA entries is deprecated. In a future version, this will no longer exclude empty or all-NA columns when determining the result dtypes. To retain the old behavior, exclude the relevant entries before the concat operation.\n",
      "  \n"
     ]
    },
    {
     "name": "stdout",
     "output_type": "stream",
     "text": [
      "97/3026\n",
      "98/3026\n",
      "99/3026\n",
      "100/3026\n",
      "101/3026\n",
      "102/3026\n",
      "103/3026\n"
     ]
    },
    {
     "name": "stderr",
     "output_type": "stream",
     "text": [
      "/Users/aniruddhsriram/Desktop/betting/src/utils.py:109: FutureWarning: The behavior of DataFrame concatenation with empty or all-NA entries is deprecated. In a future version, this will no longer exclude empty or all-NA columns when determining the result dtypes. To retain the old behavior, exclude the relevant entries before the concat operation.\n",
      "  \n"
     ]
    },
    {
     "name": "stdout",
     "output_type": "stream",
     "text": [
      "104/3026\n",
      "105/3026\n",
      "107/3026\n",
      "108/3026\n",
      "109/3026\n",
      "110/3026\n",
      "111/3026\n",
      "112/3026\n",
      "113/3026\n",
      "114/3026\n",
      "115/3026\n",
      "116/3026\n",
      "117/3026\n",
      "118/3026\n",
      "119/3026\n",
      "120/3026\n",
      "121/3026\n",
      "122/3026\n",
      "123/3026\n",
      "124/3026\n",
      "125/3026\n",
      "126/3026\n",
      "127/3026\n",
      "129/3026\n",
      "130/3026\n",
      "131/3026\n",
      "132/3026\n",
      "133/3026\n",
      "134/3026\n",
      "135/3026\n",
      "136/3026\n",
      "137/3026\n",
      "138/3026\n",
      "139/3026\n",
      "140/3026\n",
      "141/3026\n",
      "142/3026\n",
      "143/3026\n",
      "144/3026\n",
      "145/3026\n",
      "146/3026\n",
      "147/3026\n",
      "148/3026\n",
      "149/3026\n",
      "150/3026\n",
      "151/3026\n",
      "152/3026\n",
      "153/3026\n"
     ]
    },
    {
     "name": "stderr",
     "output_type": "stream",
     "text": [
      "/Users/aniruddhsriram/Desktop/betting/src/utils.py:109: FutureWarning: The behavior of DataFrame concatenation with empty or all-NA entries is deprecated. In a future version, this will no longer exclude empty or all-NA columns when determining the result dtypes. To retain the old behavior, exclude the relevant entries before the concat operation.\n",
      "  \n"
     ]
    },
    {
     "name": "stdout",
     "output_type": "stream",
     "text": [
      "154/3026\n",
      "155/3026\n",
      "156/3026\n",
      "157/3026\n",
      "158/3026\n",
      "159/3026\n",
      "160/3026\n",
      "161/3026\n",
      "162/3026\n",
      "163/3026\n",
      "164/3026\n",
      "165/3026\n"
     ]
    },
    {
     "name": "stderr",
     "output_type": "stream",
     "text": [
      "/Users/aniruddhsriram/Desktop/betting/src/utils.py:109: FutureWarning: The behavior of DataFrame concatenation with empty or all-NA entries is deprecated. In a future version, this will no longer exclude empty or all-NA columns when determining the result dtypes. To retain the old behavior, exclude the relevant entries before the concat operation.\n",
      "  \n"
     ]
    },
    {
     "name": "stdout",
     "output_type": "stream",
     "text": [
      "166/3026\n",
      "167/3026\n",
      "168/3026\n",
      "169/3026\n",
      "170/3026\n",
      "171/3026\n",
      "172/3026\n",
      "173/3026\n",
      "174/3026\n",
      "175/3026\n",
      "176/3026\n",
      "177/3026\n",
      "178/3026\n",
      "179/3026\n",
      "180/3026\n",
      "181/3026\n",
      "182/3026\n",
      "183/3026\n",
      "184/3026\n",
      "185/3026\n",
      "186/3026\n",
      "187/3026\n",
      "188/3026\n",
      "189/3026\n",
      "190/3026\n",
      "191/3026\n",
      "192/3026\n",
      "193/3026\n",
      "194/3026\n",
      "195/3026\n",
      "196/3026\n"
     ]
    },
    {
     "name": "stderr",
     "output_type": "stream",
     "text": [
      "/Users/aniruddhsriram/Desktop/betting/src/utils.py:109: FutureWarning: The behavior of DataFrame concatenation with empty or all-NA entries is deprecated. In a future version, this will no longer exclude empty or all-NA columns when determining the result dtypes. To retain the old behavior, exclude the relevant entries before the concat operation.\n",
      "  \n"
     ]
    },
    {
     "name": "stdout",
     "output_type": "stream",
     "text": [
      "197/3026\n",
      "198/3026\n",
      "199/3026\n",
      "200/3026\n",
      "201/3026\n",
      "202/3026\n",
      "203/3026\n",
      "204/3026\n",
      "205/3026\n",
      "206/3026\n",
      "207/3026\n",
      "208/3026\n",
      "209/3026\n",
      "210/3026\n",
      "211/3026\n",
      "212/3026\n",
      "213/3026\n",
      "214/3026\n",
      "215/3026\n",
      "216/3026\n",
      "217/3026\n",
      "218/3026\n",
      "219/3026\n"
     ]
    },
    {
     "name": "stderr",
     "output_type": "stream",
     "text": [
      "/Users/aniruddhsriram/Desktop/betting/src/utils.py:109: FutureWarning: The behavior of DataFrame concatenation with empty or all-NA entries is deprecated. In a future version, this will no longer exclude empty or all-NA columns when determining the result dtypes. To retain the old behavior, exclude the relevant entries before the concat operation.\n",
      "  \n"
     ]
    },
    {
     "name": "stdout",
     "output_type": "stream",
     "text": [
      "220/3026\n",
      "221/3026\n",
      "222/3026\n",
      "223/3026\n",
      "224/3026\n",
      "225/3026\n",
      "226/3026\n",
      "227/3026\n",
      "228/3026\n",
      "229/3026\n",
      "230/3026\n",
      "231/3026\n",
      "232/3026\n",
      "233/3026\n",
      "234/3026\n",
      "235/3026\n",
      "236/3026\n",
      "237/3026\n",
      "238/3026\n",
      "239/3026\n",
      "240/3026\n",
      "241/3026\n",
      "242/3026\n",
      "243/3026\n",
      "244/3026\n",
      "245/3026\n",
      "246/3026\n",
      "247/3026\n",
      "248/3026\n",
      "249/3026\n",
      "250/3026\n",
      "251/3026\n",
      "252/3026\n",
      "253/3026\n",
      "254/3026\n",
      "255/3026\n",
      "256/3026\n",
      "257/3026\n",
      "258/3026\n",
      "259/3026\n",
      "260/3026\n",
      "261/3026\n",
      "262/3026\n",
      "263/3026\n",
      "264/3026\n",
      "265/3026\n",
      "266/3026\n",
      "267/3026\n",
      "268/3026\n",
      "269/3026\n",
      "270/3026\n",
      "271/3026\n"
     ]
    },
    {
     "name": "stderr",
     "output_type": "stream",
     "text": [
      "/Users/aniruddhsriram/Desktop/betting/src/utils.py:109: FutureWarning: The behavior of DataFrame concatenation with empty or all-NA entries is deprecated. In a future version, this will no longer exclude empty or all-NA columns when determining the result dtypes. To retain the old behavior, exclude the relevant entries before the concat operation.\n",
      "  \n"
     ]
    },
    {
     "name": "stdout",
     "output_type": "stream",
     "text": [
      "272/3026\n",
      "273/3026\n",
      "274/3026\n",
      "275/3026\n",
      "276/3026\n",
      "277/3026\n",
      "278/3026\n",
      "279/3026\n",
      "280/3026\n",
      "282/3026\n",
      "283/3026\n",
      "284/3026\n",
      "286/3026\n",
      "287/3026\n",
      "288/3026\n",
      "289/3026\n",
      "290/3026\n",
      "291/3026\n",
      "292/3026\n",
      "293/3026\n",
      "294/3026\n",
      "295/3026\n",
      "296/3026\n",
      "297/3026\n",
      "298/3026\n",
      "301/3026\n",
      "302/3026\n",
      "303/3026\n",
      "304/3026\n",
      "305/3026\n",
      "306/3026\n",
      "307/3026\n",
      "308/3026\n",
      "309/3026\n",
      "310/3026\n"
     ]
    },
    {
     "name": "stderr",
     "output_type": "stream",
     "text": [
      "/Users/aniruddhsriram/Desktop/betting/src/utils.py:109: FutureWarning: The behavior of DataFrame concatenation with empty or all-NA entries is deprecated. In a future version, this will no longer exclude empty or all-NA columns when determining the result dtypes. To retain the old behavior, exclude the relevant entries before the concat operation.\n",
      "  \n"
     ]
    },
    {
     "name": "stdout",
     "output_type": "stream",
     "text": [
      "311/3026\n",
      "312/3026\n",
      "313/3026\n",
      "314/3026\n",
      "315/3026\n",
      "316/3026\n",
      "317/3026\n",
      "318/3026\n",
      "319/3026\n",
      "320/3026\n",
      "321/3026\n",
      "322/3026\n",
      "323/3026\n",
      "324/3026\n",
      "325/3026\n",
      "326/3026\n",
      "327/3026\n",
      "328/3026\n",
      "329/3026\n",
      "330/3026\n",
      "331/3026\n"
     ]
    },
    {
     "name": "stderr",
     "output_type": "stream",
     "text": [
      "/Users/aniruddhsriram/Desktop/betting/src/utils.py:109: FutureWarning: The behavior of DataFrame concatenation with empty or all-NA entries is deprecated. In a future version, this will no longer exclude empty or all-NA columns when determining the result dtypes. To retain the old behavior, exclude the relevant entries before the concat operation.\n",
      "  \n"
     ]
    },
    {
     "name": "stdout",
     "output_type": "stream",
     "text": [
      "332/3026\n",
      "333/3026\n",
      "334/3026\n",
      "335/3026\n",
      "336/3026\n",
      "337/3026\n",
      "338/3026\n",
      "339/3026\n",
      "340/3026\n",
      "341/3026\n",
      "342/3026\n",
      "343/3026\n",
      "344/3026\n",
      "345/3026\n",
      "346/3026\n"
     ]
    },
    {
     "name": "stderr",
     "output_type": "stream",
     "text": [
      "/Users/aniruddhsriram/Desktop/betting/src/utils.py:109: FutureWarning: The behavior of DataFrame concatenation with empty or all-NA entries is deprecated. In a future version, this will no longer exclude empty or all-NA columns when determining the result dtypes. To retain the old behavior, exclude the relevant entries before the concat operation.\n",
      "  \n"
     ]
    },
    {
     "name": "stdout",
     "output_type": "stream",
     "text": [
      "347/3026\n",
      "348/3026\n",
      "349/3026\n",
      "350/3026\n",
      "351/3026\n",
      "352/3026\n",
      "353/3026\n",
      "354/3026\n",
      "355/3026\n",
      "356/3026\n",
      "357/3026\n",
      "358/3026\n",
      "359/3026\n",
      "360/3026\n",
      "361/3026\n",
      "362/3026\n",
      "363/3026\n",
      "364/3026\n",
      "365/3026\n",
      "366/3026\n"
     ]
    },
    {
     "name": "stderr",
     "output_type": "stream",
     "text": [
      "/Users/aniruddhsriram/Desktop/betting/src/utils.py:109: FutureWarning: The behavior of DataFrame concatenation with empty or all-NA entries is deprecated. In a future version, this will no longer exclude empty or all-NA columns when determining the result dtypes. To retain the old behavior, exclude the relevant entries before the concat operation.\n",
      "  \n"
     ]
    },
    {
     "name": "stdout",
     "output_type": "stream",
     "text": [
      "367/3026\n",
      "368/3026\n",
      "369/3026\n",
      "370/3026\n",
      "371/3026\n",
      "372/3026\n",
      "373/3026\n",
      "374/3026\n",
      "375/3026\n",
      "376/3026\n",
      "377/3026\n",
      "378/3026\n",
      "379/3026\n",
      "380/3026\n",
      "381/3026\n",
      "382/3026\n",
      "383/3026\n",
      "384/3026\n",
      "385/3026\n",
      "386/3026\n",
      "387/3026\n"
     ]
    },
    {
     "name": "stderr",
     "output_type": "stream",
     "text": [
      "/Users/aniruddhsriram/Desktop/betting/src/utils.py:109: FutureWarning: The behavior of DataFrame concatenation with empty or all-NA entries is deprecated. In a future version, this will no longer exclude empty or all-NA columns when determining the result dtypes. To retain the old behavior, exclude the relevant entries before the concat operation.\n",
      "  \n"
     ]
    },
    {
     "name": "stdout",
     "output_type": "stream",
     "text": [
      "388/3026\n",
      "389/3026\n",
      "390/3026\n",
      "391/3026\n",
      "392/3026\n",
      "393/3026\n",
      "394/3026\n",
      "395/3026\n",
      "396/3026\n",
      "397/3026\n",
      "398/3026\n",
      "399/3026\n",
      "400/3026\n",
      "401/3026\n",
      "402/3026\n",
      "403/3026\n",
      "404/3026\n"
     ]
    },
    {
     "name": "stderr",
     "output_type": "stream",
     "text": [
      "/Users/aniruddhsriram/Desktop/betting/src/utils.py:109: FutureWarning: The behavior of DataFrame concatenation with empty or all-NA entries is deprecated. In a future version, this will no longer exclude empty or all-NA columns when determining the result dtypes. To retain the old behavior, exclude the relevant entries before the concat operation.\n",
      "  \n"
     ]
    },
    {
     "name": "stdout",
     "output_type": "stream",
     "text": [
      "405/3026\n",
      "406/3026\n",
      "407/3026\n",
      "408/3026\n",
      "409/3026\n",
      "411/3026\n",
      "412/3026\n",
      "413/3026\n",
      "414/3026\n",
      "415/3026\n",
      "416/3026\n",
      "417/3026\n",
      "418/3026\n",
      "419/3026\n",
      "420/3026\n",
      "421/3026\n",
      "422/3026\n",
      "423/3026\n",
      "424/3026\n",
      "425/3026\n",
      "426/3026\n",
      "427/3026\n",
      "428/3026\n",
      "429/3026\n",
      "430/3026\n",
      "431/3026\n",
      "432/3026\n",
      "433/3026\n",
      "434/3026\n"
     ]
    },
    {
     "name": "stderr",
     "output_type": "stream",
     "text": [
      "/Users/aniruddhsriram/Desktop/betting/src/utils.py:109: FutureWarning: The behavior of DataFrame concatenation with empty or all-NA entries is deprecated. In a future version, this will no longer exclude empty or all-NA columns when determining the result dtypes. To retain the old behavior, exclude the relevant entries before the concat operation.\n",
      "  \n"
     ]
    },
    {
     "name": "stdout",
     "output_type": "stream",
     "text": [
      "435/3026\n",
      "436/3026\n",
      "437/3026\n",
      "438/3026\n",
      "439/3026\n",
      "440/3026\n",
      "441/3026\n",
      "442/3026\n",
      "443/3026\n",
      "444/3026\n",
      "445/3026\n",
      "446/3026\n",
      "447/3026\n",
      "448/3026\n",
      "449/3026\n",
      "450/3026\n"
     ]
    },
    {
     "name": "stderr",
     "output_type": "stream",
     "text": [
      "/Users/aniruddhsriram/Desktop/betting/src/utils.py:109: FutureWarning: The behavior of DataFrame concatenation with empty or all-NA entries is deprecated. In a future version, this will no longer exclude empty or all-NA columns when determining the result dtypes. To retain the old behavior, exclude the relevant entries before the concat operation.\n",
      "  \n"
     ]
    },
    {
     "name": "stdout",
     "output_type": "stream",
     "text": [
      "451/3026\n",
      "452/3026\n",
      "453/3026\n",
      "454/3026\n",
      "455/3026\n",
      "456/3026\n",
      "457/3026\n",
      "458/3026\n",
      "459/3026\n",
      "460/3026\n",
      "461/3026\n",
      "462/3026\n",
      "463/3026\n",
      "464/3026\n",
      "465/3026\n",
      "466/3026\n",
      "467/3026\n",
      "468/3026\n",
      "469/3026\n",
      "470/3026\n",
      "471/3026\n",
      "472/3026\n",
      "473/3026\n",
      "474/3026\n",
      "475/3026\n",
      "476/3026\n",
      "477/3026\n",
      "478/3026\n",
      "479/3026\n",
      "480/3026\n",
      "481/3026\n",
      "482/3026\n",
      "483/3026\n",
      "484/3026\n",
      "485/3026\n",
      "486/3026\n",
      "487/3026\n",
      "488/3026\n",
      "489/3026\n",
      "490/3026\n",
      "491/3026\n",
      "492/3026\n",
      "493/3026\n",
      "494/3026\n",
      "495/3026\n",
      "496/3026\n",
      "497/3026\n",
      "498/3026\n",
      "499/3026\n",
      "500/3026\n",
      "501/3026\n",
      "502/3026\n",
      "503/3026\n",
      "504/3026\n",
      "505/3026\n",
      "506/3026\n",
      "507/3026\n",
      "508/3026\n",
      "509/3026\n",
      "510/3026\n",
      "511/3026\n",
      "512/3026\n",
      "513/3026\n",
      "514/3026\n",
      "515/3026\n",
      "516/3026\n",
      "517/3026\n",
      "518/3026\n",
      "519/3026\n",
      "520/3026\n",
      "521/3026\n",
      "522/3026\n",
      "523/3026\n",
      "524/3026\n",
      "525/3026\n",
      "526/3026\n",
      "527/3026\n",
      "528/3026\n",
      "529/3026\n",
      "530/3026\n",
      "531/3026\n",
      "532/3026\n",
      "533/3026\n",
      "534/3026\n",
      "535/3026\n",
      "536/3026\n",
      "537/3026\n",
      "538/3026\n",
      "539/3026\n",
      "540/3026\n",
      "541/3026\n",
      "542/3026\n",
      "543/3026\n",
      "544/3026\n",
      "545/3026\n",
      "546/3026\n",
      "547/3026\n",
      "548/3026\n"
     ]
    },
    {
     "name": "stderr",
     "output_type": "stream",
     "text": [
      "/Users/aniruddhsriram/Desktop/betting/src/utils.py:109: FutureWarning: The behavior of DataFrame concatenation with empty or all-NA entries is deprecated. In a future version, this will no longer exclude empty or all-NA columns when determining the result dtypes. To retain the old behavior, exclude the relevant entries before the concat operation.\n",
      "  \n"
     ]
    },
    {
     "name": "stdout",
     "output_type": "stream",
     "text": [
      "549/3026\n",
      "550/3026\n",
      "551/3026\n",
      "553/3026\n",
      "554/3026\n",
      "555/3026\n",
      "556/3026\n",
      "557/3026\n",
      "558/3026\n",
      "560/3026\n",
      "561/3026\n",
      "562/3026\n",
      "563/3026\n",
      "564/3026\n",
      "566/3026\n",
      "568/3026\n",
      "569/3026\n",
      "570/3026\n",
      "571/3026\n",
      "572/3026\n",
      "573/3026\n"
     ]
    },
    {
     "name": "stderr",
     "output_type": "stream",
     "text": [
      "/Users/aniruddhsriram/Desktop/betting/src/utils.py:109: FutureWarning: The behavior of DataFrame concatenation with empty or all-NA entries is deprecated. In a future version, this will no longer exclude empty or all-NA columns when determining the result dtypes. To retain the old behavior, exclude the relevant entries before the concat operation.\n",
      "  \n"
     ]
    },
    {
     "name": "stdout",
     "output_type": "stream",
     "text": [
      "574/3026\n",
      "575/3026\n",
      "576/3026\n",
      "577/3026\n",
      "580/3026\n",
      "581/3026\n",
      "582/3026\n",
      "584/3026\n",
      "585/3026\n",
      "586/3026\n",
      "587/3026\n",
      "588/3026\n"
     ]
    },
    {
     "name": "stderr",
     "output_type": "stream",
     "text": [
      "/Users/aniruddhsriram/Desktop/betting/src/utils.py:109: FutureWarning: The behavior of DataFrame concatenation with empty or all-NA entries is deprecated. In a future version, this will no longer exclude empty or all-NA columns when determining the result dtypes. To retain the old behavior, exclude the relevant entries before the concat operation.\n",
      "  \n"
     ]
    },
    {
     "name": "stdout",
     "output_type": "stream",
     "text": [
      "589/3026\n",
      "590/3026\n",
      "591/3026\n",
      "592/3026\n",
      "593/3026\n",
      "594/3026\n",
      "595/3026\n",
      "596/3026\n",
      "597/3026\n",
      "598/3026\n",
      "599/3026\n",
      "600/3026\n",
      "601/3026\n",
      "602/3026\n",
      "603/3026\n",
      "604/3026\n",
      "605/3026\n",
      "606/3026\n",
      "607/3026\n",
      "608/3026\n",
      "609/3026\n",
      "610/3026\n",
      "611/3026\n",
      "613/3026\n"
     ]
    },
    {
     "name": "stderr",
     "output_type": "stream",
     "text": [
      "/Users/aniruddhsriram/Desktop/betting/src/utils.py:109: FutureWarning: The behavior of DataFrame concatenation with empty or all-NA entries is deprecated. In a future version, this will no longer exclude empty or all-NA columns when determining the result dtypes. To retain the old behavior, exclude the relevant entries before the concat operation.\n",
      "  \n"
     ]
    },
    {
     "name": "stdout",
     "output_type": "stream",
     "text": [
      "614/3026\n",
      "615/3026\n",
      "616/3026\n",
      "617/3026\n",
      "618/3026\n",
      "619/3026\n",
      "620/3026\n",
      "621/3026\n"
     ]
    },
    {
     "name": "stderr",
     "output_type": "stream",
     "text": [
      "/Users/aniruddhsriram/Desktop/betting/src/utils.py:109: FutureWarning: The behavior of DataFrame concatenation with empty or all-NA entries is deprecated. In a future version, this will no longer exclude empty or all-NA columns when determining the result dtypes. To retain the old behavior, exclude the relevant entries before the concat operation.\n",
      "  \n"
     ]
    },
    {
     "name": "stdout",
     "output_type": "stream",
     "text": [
      "622/3026\n",
      "623/3026\n",
      "624/3026\n",
      "625/3026\n",
      "626/3026\n",
      "627/3026\n",
      "628/3026\n",
      "629/3026\n"
     ]
    },
    {
     "name": "stderr",
     "output_type": "stream",
     "text": [
      "/Users/aniruddhsriram/Desktop/betting/src/utils.py:109: FutureWarning: The behavior of DataFrame concatenation with empty or all-NA entries is deprecated. In a future version, this will no longer exclude empty or all-NA columns when determining the result dtypes. To retain the old behavior, exclude the relevant entries before the concat operation.\n",
      "  \n"
     ]
    },
    {
     "name": "stdout",
     "output_type": "stream",
     "text": [
      "630/3026\n",
      "631/3026\n",
      "632/3026\n",
      "633/3026\n",
      "634/3026\n",
      "635/3026\n",
      "636/3026\n",
      "637/3026\n",
      "638/3026\n",
      "639/3026\n",
      "640/3026\n",
      "641/3026\n",
      "642/3026\n",
      "643/3026\n",
      "644/3026\n",
      "645/3026\n",
      "646/3026\n",
      "647/3026\n",
      "648/3026\n",
      "649/3026\n",
      "650/3026\n",
      "651/3026\n",
      "652/3026\n",
      "653/3026\n",
      "654/3026\n",
      "655/3026\n",
      "656/3026\n",
      "657/3026\n",
      "658/3026\n",
      "659/3026\n",
      "660/3026\n",
      "661/3026\n",
      "662/3026\n",
      "663/3026\n",
      "664/3026\n",
      "665/3026\n",
      "666/3026\n",
      "667/3026\n",
      "668/3026\n",
      "669/3026\n",
      "670/3026\n",
      "671/3026\n",
      "672/3026\n",
      "673/3026\n",
      "674/3026\n",
      "675/3026\n",
      "676/3026\n",
      "677/3026\n",
      "678/3026\n"
     ]
    },
    {
     "name": "stderr",
     "output_type": "stream",
     "text": [
      "/Users/aniruddhsriram/Desktop/betting/src/utils.py:109: FutureWarning: The behavior of DataFrame concatenation with empty or all-NA entries is deprecated. In a future version, this will no longer exclude empty or all-NA columns when determining the result dtypes. To retain the old behavior, exclude the relevant entries before the concat operation.\n",
      "  \n"
     ]
    },
    {
     "name": "stdout",
     "output_type": "stream",
     "text": [
      "679/3026\n",
      "680/3026\n",
      "681/3026\n",
      "682/3026\n",
      "683/3026\n"
     ]
    },
    {
     "name": "stderr",
     "output_type": "stream",
     "text": [
      "/Users/aniruddhsriram/Desktop/betting/src/utils.py:109: FutureWarning: The behavior of DataFrame concatenation with empty or all-NA entries is deprecated. In a future version, this will no longer exclude empty or all-NA columns when determining the result dtypes. To retain the old behavior, exclude the relevant entries before the concat operation.\n",
      "  \n"
     ]
    },
    {
     "name": "stdout",
     "output_type": "stream",
     "text": [
      "684/3026\n",
      "685/3026\n",
      "686/3026\n",
      "687/3026\n",
      "688/3026\n",
      "689/3026\n",
      "690/3026\n",
      "691/3026\n",
      "692/3026\n",
      "693/3026\n",
      "694/3026\n",
      "695/3026\n"
     ]
    },
    {
     "name": "stderr",
     "output_type": "stream",
     "text": [
      "/Users/aniruddhsriram/Desktop/betting/src/utils.py:109: FutureWarning: The behavior of DataFrame concatenation with empty or all-NA entries is deprecated. In a future version, this will no longer exclude empty or all-NA columns when determining the result dtypes. To retain the old behavior, exclude the relevant entries before the concat operation.\n",
      "  \n"
     ]
    },
    {
     "name": "stdout",
     "output_type": "stream",
     "text": [
      "696/3026\n",
      "697/3026\n",
      "698/3026\n",
      "699/3026\n",
      "700/3026\n",
      "701/3026\n",
      "702/3026\n",
      "703/3026\n",
      "704/3026\n",
      "705/3026\n",
      "706/3026\n",
      "707/3026\n",
      "708/3026\n",
      "709/3026\n",
      "710/3026\n",
      "711/3026\n",
      "712/3026\n",
      "713/3026\n",
      "714/3026\n",
      "715/3026\n",
      "716/3026\n",
      "717/3026\n",
      "718/3026\n",
      "719/3026\n",
      "720/3026\n",
      "721/3026\n"
     ]
    },
    {
     "name": "stderr",
     "output_type": "stream",
     "text": [
      "/Users/aniruddhsriram/Desktop/betting/src/utils.py:109: FutureWarning: The behavior of DataFrame concatenation with empty or all-NA entries is deprecated. In a future version, this will no longer exclude empty or all-NA columns when determining the result dtypes. To retain the old behavior, exclude the relevant entries before the concat operation.\n",
      "  \n"
     ]
    },
    {
     "name": "stdout",
     "output_type": "stream",
     "text": [
      "722/3026\n",
      "723/3026\n",
      "724/3026\n",
      "725/3026\n"
     ]
    },
    {
     "name": "stderr",
     "output_type": "stream",
     "text": [
      "/Users/aniruddhsriram/Desktop/betting/src/utils.py:109: FutureWarning: The behavior of DataFrame concatenation with empty or all-NA entries is deprecated. In a future version, this will no longer exclude empty or all-NA columns when determining the result dtypes. To retain the old behavior, exclude the relevant entries before the concat operation.\n",
      "  \n"
     ]
    },
    {
     "name": "stdout",
     "output_type": "stream",
     "text": [
      "726/3026\n",
      "727/3026\n",
      "728/3026\n",
      "729/3026\n",
      "730/3026\n",
      "731/3026\n",
      "732/3026\n",
      "733/3026\n",
      "734/3026\n",
      "735/3026\n",
      "736/3026\n",
      "737/3026\n",
      "738/3026\n",
      "739/3026\n",
      "740/3026\n"
     ]
    },
    {
     "name": "stderr",
     "output_type": "stream",
     "text": [
      "/Users/aniruddhsriram/Desktop/betting/src/utils.py:109: FutureWarning: The behavior of DataFrame concatenation with empty or all-NA entries is deprecated. In a future version, this will no longer exclude empty or all-NA columns when determining the result dtypes. To retain the old behavior, exclude the relevant entries before the concat operation.\n",
      "  \n"
     ]
    },
    {
     "name": "stdout",
     "output_type": "stream",
     "text": [
      "741/3026\n",
      "742/3026\n",
      "743/3026\n",
      "744/3026\n",
      "745/3026\n"
     ]
    },
    {
     "name": "stderr",
     "output_type": "stream",
     "text": [
      "/Users/aniruddhsriram/Desktop/betting/src/utils.py:109: FutureWarning: The behavior of DataFrame concatenation with empty or all-NA entries is deprecated. In a future version, this will no longer exclude empty or all-NA columns when determining the result dtypes. To retain the old behavior, exclude the relevant entries before the concat operation.\n",
      "  \n"
     ]
    },
    {
     "name": "stdout",
     "output_type": "stream",
     "text": [
      "746/3026\n",
      "747/3026\n",
      "748/3026\n"
     ]
    },
    {
     "name": "stderr",
     "output_type": "stream",
     "text": [
      "/Users/aniruddhsriram/Desktop/betting/src/utils.py:109: FutureWarning: The behavior of DataFrame concatenation with empty or all-NA entries is deprecated. In a future version, this will no longer exclude empty or all-NA columns when determining the result dtypes. To retain the old behavior, exclude the relevant entries before the concat operation.\n",
      "  \n"
     ]
    },
    {
     "name": "stdout",
     "output_type": "stream",
     "text": [
      "749/3026\n",
      "750/3026\n",
      "751/3026\n",
      "752/3026\n",
      "753/3026\n",
      "754/3026\n",
      "755/3026\n",
      "756/3026\n",
      "757/3026\n",
      "758/3026\n",
      "759/3026\n",
      "760/3026\n",
      "761/3026\n",
      "762/3026\n",
      "763/3026\n",
      "764/3026\n",
      "765/3026\n"
     ]
    },
    {
     "name": "stderr",
     "output_type": "stream",
     "text": [
      "/Users/aniruddhsriram/Desktop/betting/src/utils.py:109: FutureWarning: The behavior of DataFrame concatenation with empty or all-NA entries is deprecated. In a future version, this will no longer exclude empty or all-NA columns when determining the result dtypes. To retain the old behavior, exclude the relevant entries before the concat operation.\n",
      "  \n"
     ]
    },
    {
     "name": "stdout",
     "output_type": "stream",
     "text": [
      "766/3026\n",
      "767/3026\n",
      "768/3026\n",
      "769/3026\n",
      "770/3026\n",
      "771/3026\n",
      "772/3026\n",
      "773/3026\n",
      "774/3026\n",
      "775/3026\n",
      "776/3026\n",
      "777/3026\n",
      "778/3026\n",
      "779/3026\n",
      "780/3026\n",
      "781/3026\n",
      "782/3026\n",
      "783/3026\n",
      "784/3026\n",
      "785/3026\n"
     ]
    },
    {
     "name": "stderr",
     "output_type": "stream",
     "text": [
      "/Users/aniruddhsriram/Desktop/betting/src/utils.py:109: FutureWarning: The behavior of DataFrame concatenation with empty or all-NA entries is deprecated. In a future version, this will no longer exclude empty or all-NA columns when determining the result dtypes. To retain the old behavior, exclude the relevant entries before the concat operation.\n",
      "  \n"
     ]
    },
    {
     "name": "stdout",
     "output_type": "stream",
     "text": [
      "786/3026\n",
      "787/3026\n",
      "788/3026\n",
      "789/3026\n",
      "790/3026\n",
      "791/3026\n",
      "792/3026\n",
      "793/3026\n",
      "794/3026\n",
      "795/3026\n",
      "796/3026\n",
      "797/3026\n",
      "798/3026\n",
      "799/3026\n",
      "800/3026\n",
      "801/3026\n",
      "802/3026\n",
      "803/3026\n",
      "804/3026\n",
      "805/3026\n",
      "806/3026\n",
      "807/3026\n",
      "808/3026\n",
      "809/3026\n",
      "810/3026\n",
      "811/3026\n",
      "812/3026\n",
      "813/3026\n",
      "814/3026\n",
      "815/3026\n",
      "816/3026\n"
     ]
    },
    {
     "name": "stderr",
     "output_type": "stream",
     "text": [
      "/Users/aniruddhsriram/Desktop/betting/src/utils.py:109: FutureWarning: The behavior of DataFrame concatenation with empty or all-NA entries is deprecated. In a future version, this will no longer exclude empty or all-NA columns when determining the result dtypes. To retain the old behavior, exclude the relevant entries before the concat operation.\n",
      "  \n"
     ]
    },
    {
     "name": "stdout",
     "output_type": "stream",
     "text": [
      "817/3026\n",
      "818/3026\n",
      "819/3026\n",
      "820/3026\n",
      "821/3026\n",
      "822/3026\n",
      "823/3026\n",
      "824/3026\n",
      "825/3026\n",
      "826/3026\n",
      "827/3026\n",
      "828/3026\n",
      "829/3026\n",
      "830/3026\n",
      "831/3026\n",
      "832/3026\n",
      "833/3026\n",
      "834/3026\n",
      "835/3026\n",
      "836/3026\n",
      "837/3026\n",
      "839/3026\n",
      "840/3026\n"
     ]
    },
    {
     "name": "stderr",
     "output_type": "stream",
     "text": [
      "/Users/aniruddhsriram/Desktop/betting/src/utils.py:109: FutureWarning: The behavior of DataFrame concatenation with empty or all-NA entries is deprecated. In a future version, this will no longer exclude empty or all-NA columns when determining the result dtypes. To retain the old behavior, exclude the relevant entries before the concat operation.\n",
      "  \n"
     ]
    },
    {
     "name": "stdout",
     "output_type": "stream",
     "text": [
      "841/3026\n",
      "842/3026\n",
      "843/3026\n",
      "844/3026\n",
      "845/3026\n",
      "846/3026\n",
      "847/3026\n",
      "848/3026\n",
      "849/3026\n",
      "850/3026\n",
      "851/3026\n",
      "852/3026\n",
      "853/3026\n",
      "854/3026\n",
      "855/3026\n",
      "856/3026\n",
      "857/3026\n",
      "860/3026\n",
      "861/3026\n",
      "862/3026\n",
      "863/3026\n",
      "864/3026\n",
      "866/3026\n",
      "867/3026\n",
      "868/3026\n",
      "869/3026\n",
      "870/3026\n",
      "871/3026\n",
      "872/3026\n",
      "873/3026\n",
      "874/3026\n",
      "875/3026\n",
      "876/3026\n",
      "877/3026\n",
      "878/3026\n",
      "879/3026\n",
      "881/3026\n"
     ]
    },
    {
     "name": "stderr",
     "output_type": "stream",
     "text": [
      "/Users/aniruddhsriram/Desktop/betting/src/utils.py:109: FutureWarning: The behavior of DataFrame concatenation with empty or all-NA entries is deprecated. In a future version, this will no longer exclude empty or all-NA columns when determining the result dtypes. To retain the old behavior, exclude the relevant entries before the concat operation.\n",
      "  \n"
     ]
    },
    {
     "name": "stdout",
     "output_type": "stream",
     "text": [
      "882/3026\n",
      "883/3026\n",
      "884/3026\n",
      "885/3026\n"
     ]
    },
    {
     "name": "stderr",
     "output_type": "stream",
     "text": [
      "/Users/aniruddhsriram/Desktop/betting/src/utils.py:109: FutureWarning: The behavior of DataFrame concatenation with empty or all-NA entries is deprecated. In a future version, this will no longer exclude empty or all-NA columns when determining the result dtypes. To retain the old behavior, exclude the relevant entries before the concat operation.\n",
      "  \n"
     ]
    },
    {
     "name": "stdout",
     "output_type": "stream",
     "text": [
      "886/3026\n",
      "887/3026\n",
      "888/3026\n",
      "889/3026\n",
      "890/3026\n",
      "891/3026\n",
      "892/3026\n",
      "893/3026\n"
     ]
    },
    {
     "name": "stderr",
     "output_type": "stream",
     "text": [
      "/Users/aniruddhsriram/Desktop/betting/src/utils.py:109: FutureWarning: The behavior of DataFrame concatenation with empty or all-NA entries is deprecated. In a future version, this will no longer exclude empty or all-NA columns when determining the result dtypes. To retain the old behavior, exclude the relevant entries before the concat operation.\n",
      "  \n"
     ]
    },
    {
     "name": "stdout",
     "output_type": "stream",
     "text": [
      "894/3026\n",
      "895/3026\n",
      "896/3026\n",
      "897/3026\n",
      "898/3026\n",
      "899/3026\n",
      "900/3026\n",
      "901/3026\n",
      "902/3026\n",
      "903/3026\n",
      "904/3026\n",
      "905/3026\n",
      "906/3026\n",
      "907/3026\n",
      "908/3026\n",
      "909/3026\n",
      "910/3026\n",
      "911/3026\n",
      "912/3026\n",
      "913/3026\n",
      "914/3026\n",
      "915/3026\n"
     ]
    },
    {
     "name": "stderr",
     "output_type": "stream",
     "text": [
      "/Users/aniruddhsriram/Desktop/betting/src/utils.py:109: FutureWarning: The behavior of DataFrame concatenation with empty or all-NA entries is deprecated. In a future version, this will no longer exclude empty or all-NA columns when determining the result dtypes. To retain the old behavior, exclude the relevant entries before the concat operation.\n",
      "  \n"
     ]
    },
    {
     "name": "stdout",
     "output_type": "stream",
     "text": [
      "916/3026\n",
      "917/3026\n",
      "918/3026\n",
      "920/3026\n",
      "921/3026\n",
      "922/3026\n",
      "923/3026\n",
      "924/3026\n",
      "926/3026\n",
      "927/3026\n",
      "928/3026\n",
      "929/3026\n",
      "930/3026\n",
      "931/3026\n",
      "932/3026\n",
      "933/3026\n",
      "934/3026\n",
      "935/3026\n",
      "936/3026\n",
      "937/3026\n",
      "938/3026\n",
      "939/3026\n",
      "940/3026\n",
      "941/3026\n",
      "942/3026\n",
      "943/3026\n",
      "944/3026\n",
      "945/3026\n",
      "947/3026\n",
      "948/3026\n",
      "949/3026\n",
      "950/3026\n",
      "951/3026\n",
      "952/3026\n",
      "953/3026\n",
      "954/3026\n",
      "955/3026\n",
      "956/3026\n",
      "957/3026\n",
      "958/3026\n",
      "959/3026\n",
      "960/3026\n",
      "961/3026\n",
      "962/3026\n",
      "963/3026\n",
      "964/3026\n",
      "965/3026\n",
      "966/3026\n",
      "967/3026\n",
      "968/3026\n",
      "969/3026\n"
     ]
    },
    {
     "name": "stderr",
     "output_type": "stream",
     "text": [
      "/Users/aniruddhsriram/Desktop/betting/src/utils.py:109: FutureWarning: The behavior of DataFrame concatenation with empty or all-NA entries is deprecated. In a future version, this will no longer exclude empty or all-NA columns when determining the result dtypes. To retain the old behavior, exclude the relevant entries before the concat operation.\n",
      "  \n"
     ]
    },
    {
     "name": "stdout",
     "output_type": "stream",
     "text": [
      "970/3026\n",
      "971/3026\n",
      "972/3026\n",
      "973/3026\n",
      "974/3026\n",
      "975/3026\n",
      "976/3026\n",
      "977/3026\n",
      "978/3026\n",
      "979/3026\n",
      "980/3026\n",
      "981/3026\n",
      "982/3026\n",
      "983/3026\n",
      "984/3026\n",
      "985/3026\n",
      "986/3026\n",
      "987/3026\n",
      "988/3026\n",
      "989/3026\n",
      "990/3026\n",
      "991/3026\n",
      "992/3026\n",
      "993/3026\n",
      "994/3026\n",
      "995/3026\n",
      "996/3026\n",
      "997/3026\n",
      "998/3026\n",
      "999/3026\n",
      "1000/3026\n",
      "1001/3026\n",
      "1002/3026\n",
      "1003/3026\n",
      "1004/3026\n",
      "1005/3026\n",
      "1006/3026\n",
      "1008/3026\n",
      "1009/3026\n",
      "1010/3026\n",
      "1011/3026\n",
      "1012/3026\n",
      "1013/3026\n",
      "1014/3026\n",
      "1015/3026\n",
      "1018/3026\n",
      "1019/3026\n",
      "1020/3026\n",
      "1021/3026\n",
      "1022/3026\n",
      "1023/3026\n",
      "1024/3026\n",
      "1025/3026\n",
      "1026/3026\n",
      "1027/3026\n",
      "1028/3026\n",
      "1029/3026\n",
      "1030/3026\n",
      "1031/3026\n",
      "1032/3026\n",
      "1034/3026\n",
      "1035/3026\n",
      "1036/3026\n",
      "1037/3026\n",
      "1038/3026\n"
     ]
    },
    {
     "name": "stderr",
     "output_type": "stream",
     "text": [
      "/Users/aniruddhsriram/Desktop/betting/src/utils.py:109: FutureWarning: The behavior of DataFrame concatenation with empty or all-NA entries is deprecated. In a future version, this will no longer exclude empty or all-NA columns when determining the result dtypes. To retain the old behavior, exclude the relevant entries before the concat operation.\n",
      "  \n"
     ]
    },
    {
     "name": "stdout",
     "output_type": "stream",
     "text": [
      "1039/3026\n",
      "1040/3026\n",
      "1041/3026\n",
      "1042/3026\n",
      "1043/3026\n",
      "1044/3026\n",
      "1045/3026\n",
      "1046/3026\n",
      "1049/3026\n",
      "1050/3026\n",
      "1051/3026\n",
      "1052/3026\n",
      "1053/3026\n",
      "1054/3026\n",
      "1055/3026\n",
      "1056/3026\n",
      "1057/3026\n",
      "1058/3026\n",
      "1059/3026\n",
      "1060/3026\n",
      "1061/3026\n",
      "1062/3026\n"
     ]
    },
    {
     "name": "stderr",
     "output_type": "stream",
     "text": [
      "/Users/aniruddhsriram/Desktop/betting/src/utils.py:109: FutureWarning: The behavior of DataFrame concatenation with empty or all-NA entries is deprecated. In a future version, this will no longer exclude empty or all-NA columns when determining the result dtypes. To retain the old behavior, exclude the relevant entries before the concat operation.\n",
      "  \n"
     ]
    },
    {
     "name": "stdout",
     "output_type": "stream",
     "text": [
      "1063/3026\n",
      "1064/3026\n",
      "1065/3026\n",
      "1066/3026\n",
      "1067/3026\n",
      "1068/3026\n",
      "1069/3026\n",
      "1070/3026\n",
      "1071/3026\n",
      "1072/3026\n",
      "1073/3026\n",
      "1074/3026\n",
      "1075/3026\n",
      "1076/3026\n",
      "1077/3026\n",
      "1078/3026\n",
      "1079/3026\n",
      "1080/3026\n",
      "1081/3026\n",
      "1082/3026\n",
      "1083/3026\n",
      "1084/3026\n",
      "1085/3026\n",
      "1086/3026\n",
      "1087/3026\n",
      "1088/3026\n",
      "1089/3026\n",
      "1090/3026\n",
      "1091/3026\n",
      "1092/3026\n",
      "1093/3026\n",
      "1094/3026\n",
      "1096/3026\n",
      "1097/3026\n",
      "1098/3026\n",
      "1099/3026\n",
      "1101/3026\n",
      "1102/3026\n"
     ]
    },
    {
     "name": "stderr",
     "output_type": "stream",
     "text": [
      "/Users/aniruddhsriram/Desktop/betting/src/utils.py:109: FutureWarning: The behavior of DataFrame concatenation with empty or all-NA entries is deprecated. In a future version, this will no longer exclude empty or all-NA columns when determining the result dtypes. To retain the old behavior, exclude the relevant entries before the concat operation.\n",
      "  \n"
     ]
    },
    {
     "name": "stdout",
     "output_type": "stream",
     "text": [
      "1103/3026\n",
      "1106/3026\n",
      "1107/3026\n",
      "1108/3026\n",
      "1110/3026\n",
      "1111/3026\n",
      "1112/3026\n",
      "1113/3026\n",
      "1114/3026\n",
      "1115/3026\n",
      "1116/3026\n"
     ]
    },
    {
     "name": "stderr",
     "output_type": "stream",
     "text": [
      "/Users/aniruddhsriram/Desktop/betting/src/utils.py:109: FutureWarning: The behavior of DataFrame concatenation with empty or all-NA entries is deprecated. In a future version, this will no longer exclude empty or all-NA columns when determining the result dtypes. To retain the old behavior, exclude the relevant entries before the concat operation.\n",
      "  \n"
     ]
    },
    {
     "name": "stdout",
     "output_type": "stream",
     "text": [
      "1117/3026\n",
      "1118/3026\n",
      "1119/3026\n",
      "1120/3026\n",
      "1121/3026\n",
      "1122/3026\n",
      "1123/3026\n",
      "1124/3026\n",
      "1125/3026\n",
      "1126/3026\n",
      "1127/3026\n",
      "1128/3026\n",
      "1129/3026\n",
      "1130/3026\n",
      "1131/3026\n",
      "1133/3026\n",
      "1134/3026\n",
      "1135/3026\n",
      "1136/3026\n",
      "1137/3026\n",
      "1139/3026\n",
      "1140/3026\n",
      "1141/3026\n",
      "1142/3026\n",
      "1143/3026\n",
      "1144/3026\n",
      "1145/3026\n",
      "1146/3026\n",
      "1148/3026\n",
      "1149/3026\n",
      "1150/3026\n",
      "1151/3026\n",
      "1152/3026\n",
      "1153/3026\n",
      "1154/3026\n",
      "1155/3026\n",
      "1156/3026\n",
      "1157/3026\n",
      "1158/3026\n",
      "1159/3026\n",
      "1160/3026\n",
      "1161/3026\n"
     ]
    },
    {
     "name": "stderr",
     "output_type": "stream",
     "text": [
      "/Users/aniruddhsriram/Desktop/betting/src/utils.py:109: FutureWarning: The behavior of DataFrame concatenation with empty or all-NA entries is deprecated. In a future version, this will no longer exclude empty or all-NA columns when determining the result dtypes. To retain the old behavior, exclude the relevant entries before the concat operation.\n",
      "  \n"
     ]
    },
    {
     "name": "stdout",
     "output_type": "stream",
     "text": [
      "1162/3026\n",
      "1163/3026\n",
      "1164/3026\n",
      "1165/3026\n",
      "1166/3026\n",
      "1167/3026\n",
      "1168/3026\n",
      "1169/3026\n",
      "1170/3026\n",
      "1171/3026\n",
      "1172/3026\n",
      "1173/3026\n",
      "1174/3026\n",
      "1175/3026\n",
      "1176/3026\n"
     ]
    },
    {
     "name": "stderr",
     "output_type": "stream",
     "text": [
      "/Users/aniruddhsriram/Desktop/betting/src/utils.py:109: FutureWarning: The behavior of DataFrame concatenation with empty or all-NA entries is deprecated. In a future version, this will no longer exclude empty or all-NA columns when determining the result dtypes. To retain the old behavior, exclude the relevant entries before the concat operation.\n",
      "  \n"
     ]
    },
    {
     "name": "stdout",
     "output_type": "stream",
     "text": [
      "1177/3026\n",
      "1179/3026\n",
      "1180/3026\n",
      "1181/3026\n",
      "1182/3026\n",
      "1183/3026\n",
      "1184/3026\n",
      "1185/3026\n",
      "1186/3026\n",
      "1187/3026\n",
      "1188/3026\n",
      "1189/3026\n",
      "1190/3026\n",
      "1191/3026\n",
      "1192/3026\n",
      "1193/3026\n",
      "1194/3026\n",
      "1195/3026\n",
      "1196/3026\n",
      "1197/3026\n",
      "1198/3026\n",
      "1199/3026\n",
      "1200/3026\n",
      "1201/3026\n",
      "1202/3026\n",
      "1203/3026\n",
      "1204/3026\n",
      "1205/3026\n",
      "1206/3026\n",
      "1207/3026\n",
      "1208/3026\n",
      "1209/3026\n",
      "1210/3026\n",
      "1211/3026\n",
      "1212/3026\n",
      "1213/3026\n",
      "1214/3026\n",
      "1215/3026\n",
      "1216/3026\n",
      "1217/3026\n",
      "1218/3026\n",
      "1219/3026\n",
      "1220/3026\n",
      "1221/3026\n",
      "1222/3026\n",
      "1223/3026\n",
      "1224/3026\n",
      "1225/3026\n",
      "1226/3026\n",
      "1227/3026\n",
      "1228/3026\n",
      "1229/3026\n",
      "1230/3026\n",
      "1231/3026\n",
      "1232/3026\n",
      "1233/3026\n",
      "1234/3026\n",
      "1235/3026\n",
      "1236/3026\n",
      "1237/3026\n",
      "1238/3026\n"
     ]
    },
    {
     "name": "stderr",
     "output_type": "stream",
     "text": [
      "/Users/aniruddhsriram/Desktop/betting/src/utils.py:109: FutureWarning: The behavior of DataFrame concatenation with empty or all-NA entries is deprecated. In a future version, this will no longer exclude empty or all-NA columns when determining the result dtypes. To retain the old behavior, exclude the relevant entries before the concat operation.\n",
      "  \n"
     ]
    },
    {
     "name": "stdout",
     "output_type": "stream",
     "text": [
      "1239/3026\n",
      "1240/3026\n",
      "1241/3026\n",
      "1242/3026\n",
      "1243/3026\n",
      "1244/3026\n",
      "1245/3026\n",
      "1246/3026\n",
      "1247/3026\n",
      "1248/3026\n",
      "1249/3026\n",
      "1250/3026\n",
      "1251/3026\n",
      "1252/3026\n",
      "1253/3026\n",
      "1254/3026\n",
      "1255/3026\n",
      "1256/3026\n",
      "1257/3026\n",
      "1258/3026\n",
      "1259/3026\n"
     ]
    },
    {
     "name": "stderr",
     "output_type": "stream",
     "text": [
      "/Users/aniruddhsriram/Desktop/betting/src/utils.py:109: FutureWarning: The behavior of DataFrame concatenation with empty or all-NA entries is deprecated. In a future version, this will no longer exclude empty or all-NA columns when determining the result dtypes. To retain the old behavior, exclude the relevant entries before the concat operation.\n",
      "  \n"
     ]
    },
    {
     "name": "stdout",
     "output_type": "stream",
     "text": [
      "1260/3026\n",
      "1261/3026\n",
      "1262/3026\n",
      "1263/3026\n",
      "1264/3026\n",
      "1265/3026\n",
      "1266/3026\n",
      "1267/3026\n",
      "1268/3026\n",
      "1269/3026\n",
      "1270/3026\n",
      "1271/3026\n",
      "1272/3026\n",
      "1273/3026\n",
      "1274/3026\n",
      "1275/3026\n"
     ]
    },
    {
     "name": "stderr",
     "output_type": "stream",
     "text": [
      "/Users/aniruddhsriram/Desktop/betting/src/utils.py:109: FutureWarning: The behavior of DataFrame concatenation with empty or all-NA entries is deprecated. In a future version, this will no longer exclude empty or all-NA columns when determining the result dtypes. To retain the old behavior, exclude the relevant entries before the concat operation.\n",
      "  \n"
     ]
    },
    {
     "name": "stdout",
     "output_type": "stream",
     "text": [
      "1276/3026\n",
      "1277/3026\n",
      "1278/3026\n",
      "1279/3026\n",
      "1280/3026\n",
      "1281/3026\n",
      "1282/3026\n",
      "1283/3026\n",
      "1284/3026\n",
      "1285/3026\n",
      "1286/3026\n",
      "1287/3026\n",
      "1288/3026\n",
      "1289/3026\n",
      "1290/3026\n",
      "1291/3026\n",
      "1292/3026\n",
      "1293/3026\n",
      "1294/3026\n",
      "1295/3026\n",
      "1296/3026\n",
      "1297/3026\n",
      "1298/3026\n",
      "1299/3026\n",
      "1300/3026\n",
      "1301/3026\n",
      "1302/3026\n",
      "1303/3026\n",
      "1304/3026\n",
      "1305/3026\n",
      "1306/3026\n",
      "1307/3026\n",
      "1308/3026\n",
      "1309/3026\n",
      "1310/3026\n",
      "1311/3026\n",
      "1312/3026\n",
      "1313/3026\n",
      "1314/3026\n",
      "1315/3026\n",
      "1316/3026\n",
      "1317/3026\n",
      "1318/3026\n",
      "1319/3026\n",
      "1320/3026\n",
      "1323/3026\n",
      "1324/3026\n",
      "1325/3026\n",
      "1326/3026\n",
      "1327/3026\n",
      "1328/3026\n",
      "1329/3026\n",
      "1330/3026\n",
      "1331/3026\n",
      "1332/3026\n",
      "1333/3026\n",
      "1334/3026\n",
      "1335/3026\n",
      "1336/3026\n",
      "1337/3026\n",
      "1338/3026\n",
      "1339/3026\n",
      "1340/3026\n",
      "1341/3026\n",
      "1342/3026\n",
      "1343/3026\n",
      "1344/3026\n"
     ]
    },
    {
     "name": "stderr",
     "output_type": "stream",
     "text": [
      "/Users/aniruddhsriram/Desktop/betting/src/utils.py:109: FutureWarning: The behavior of DataFrame concatenation with empty or all-NA entries is deprecated. In a future version, this will no longer exclude empty or all-NA columns when determining the result dtypes. To retain the old behavior, exclude the relevant entries before the concat operation.\n",
      "  \n"
     ]
    },
    {
     "name": "stdout",
     "output_type": "stream",
     "text": [
      "1345/3026\n",
      "1346/3026\n",
      "1347/3026\n",
      "1348/3026\n"
     ]
    },
    {
     "name": "stderr",
     "output_type": "stream",
     "text": [
      "/Users/aniruddhsriram/Desktop/betting/src/utils.py:109: FutureWarning: The behavior of DataFrame concatenation with empty or all-NA entries is deprecated. In a future version, this will no longer exclude empty or all-NA columns when determining the result dtypes. To retain the old behavior, exclude the relevant entries before the concat operation.\n",
      "  \n"
     ]
    },
    {
     "name": "stdout",
     "output_type": "stream",
     "text": [
      "1349/3026\n",
      "1350/3026\n",
      "1351/3026\n",
      "1352/3026\n",
      "1353/3026\n",
      "1354/3026\n",
      "1355/3026\n",
      "1356/3026\n",
      "1357/3026\n",
      "1358/3026\n",
      "1359/3026\n",
      "1360/3026\n",
      "1361/3026\n",
      "1362/3026\n",
      "1363/3026\n",
      "1364/3026\n",
      "1365/3026\n"
     ]
    },
    {
     "name": "stderr",
     "output_type": "stream",
     "text": [
      "/Users/aniruddhsriram/Desktop/betting/src/utils.py:109: FutureWarning: The behavior of DataFrame concatenation with empty or all-NA entries is deprecated. In a future version, this will no longer exclude empty or all-NA columns when determining the result dtypes. To retain the old behavior, exclude the relevant entries before the concat operation.\n",
      "  \n"
     ]
    },
    {
     "name": "stdout",
     "output_type": "stream",
     "text": [
      "1366/3026\n",
      "1367/3026\n",
      "1368/3026\n",
      "1369/3026\n",
      "1370/3026\n",
      "1371/3026\n",
      "1372/3026\n",
      "1373/3026\n",
      "1374/3026\n",
      "1375/3026\n",
      "1376/3026\n",
      "1377/3026\n"
     ]
    },
    {
     "name": "stderr",
     "output_type": "stream",
     "text": [
      "/Users/aniruddhsriram/Desktop/betting/src/utils.py:109: FutureWarning: The behavior of DataFrame concatenation with empty or all-NA entries is deprecated. In a future version, this will no longer exclude empty or all-NA columns when determining the result dtypes. To retain the old behavior, exclude the relevant entries before the concat operation.\n",
      "  \n"
     ]
    },
    {
     "name": "stdout",
     "output_type": "stream",
     "text": [
      "1378/3026\n",
      "1379/3026\n",
      "1380/3026\n",
      "1381/3026\n",
      "1382/3026\n",
      "1383/3026\n",
      "1384/3026\n",
      "1385/3026\n",
      "1386/3026\n",
      "1387/3026\n",
      "1388/3026\n",
      "1389/3026\n",
      "1390/3026\n",
      "1391/3026\n",
      "1392/3026\n",
      "1393/3026\n",
      "1394/3026\n",
      "1395/3026\n",
      "1396/3026\n",
      "1397/3026\n",
      "1398/3026\n",
      "1399/3026\n",
      "1400/3026\n",
      "1401/3026\n",
      "1402/3026\n",
      "1403/3026\n",
      "1404/3026\n",
      "1405/3026\n",
      "1406/3026\n",
      "1407/3026\n",
      "1408/3026\n",
      "1409/3026\n",
      "1410/3026\n",
      "1411/3026\n",
      "1412/3026\n",
      "1413/3026\n",
      "1414/3026\n",
      "1415/3026\n",
      "1416/3026\n",
      "1417/3026\n",
      "1418/3026\n",
      "1419/3026\n"
     ]
    },
    {
     "name": "stderr",
     "output_type": "stream",
     "text": [
      "/Users/aniruddhsriram/Desktop/betting/src/utils.py:109: FutureWarning: The behavior of DataFrame concatenation with empty or all-NA entries is deprecated. In a future version, this will no longer exclude empty or all-NA columns when determining the result dtypes. To retain the old behavior, exclude the relevant entries before the concat operation.\n",
      "  \n"
     ]
    },
    {
     "name": "stdout",
     "output_type": "stream",
     "text": [
      "1420/3026\n",
      "1421/3026\n",
      "1422/3026\n",
      "1423/3026\n",
      "1424/3026\n",
      "1425/3026\n",
      "1426/3026\n",
      "1427/3026\n",
      "1428/3026\n",
      "1429/3026\n",
      "1430/3026\n",
      "1431/3026\n",
      "1432/3026\n",
      "1433/3026\n",
      "1434/3026\n",
      "1435/3026\n",
      "1436/3026\n",
      "1437/3026\n",
      "1438/3026\n"
     ]
    },
    {
     "name": "stderr",
     "output_type": "stream",
     "text": [
      "/Users/aniruddhsriram/Desktop/betting/src/utils.py:109: FutureWarning: The behavior of DataFrame concatenation with empty or all-NA entries is deprecated. In a future version, this will no longer exclude empty or all-NA columns when determining the result dtypes. To retain the old behavior, exclude the relevant entries before the concat operation.\n",
      "  \n"
     ]
    },
    {
     "name": "stdout",
     "output_type": "stream",
     "text": [
      "1439/3026\n",
      "1440/3026\n",
      "1441/3026\n",
      "1442/3026\n",
      "1443/3026\n",
      "1444/3026\n",
      "1445/3026\n",
      "1446/3026\n",
      "1447/3026\n",
      "1448/3026\n",
      "1449/3026\n",
      "1450/3026\n",
      "1451/3026\n",
      "1452/3026\n",
      "1453/3026\n",
      "1454/3026\n",
      "1455/3026\n",
      "1456/3026\n",
      "1457/3026\n",
      "1458/3026\n",
      "1459/3026\n",
      "1460/3026\n",
      "1461/3026\n",
      "1462/3026\n",
      "1463/3026\n",
      "1464/3026\n",
      "1465/3026\n",
      "1466/3026\n",
      "1467/3026\n",
      "1468/3026\n",
      "1469/3026\n",
      "1470/3026\n",
      "1471/3026\n",
      "1472/3026\n",
      "1473/3026\n",
      "1474/3026\n",
      "1475/3026\n",
      "1476/3026\n",
      "1477/3026\n",
      "1478/3026\n",
      "1479/3026\n",
      "1480/3026\n",
      "1481/3026\n",
      "1482/3026\n",
      "1483/3026\n",
      "1484/3026\n",
      "1485/3026\n"
     ]
    },
    {
     "name": "stderr",
     "output_type": "stream",
     "text": [
      "/Users/aniruddhsriram/Desktop/betting/src/utils.py:109: FutureWarning: The behavior of DataFrame concatenation with empty or all-NA entries is deprecated. In a future version, this will no longer exclude empty or all-NA columns when determining the result dtypes. To retain the old behavior, exclude the relevant entries before the concat operation.\n",
      "  \n"
     ]
    },
    {
     "name": "stdout",
     "output_type": "stream",
     "text": [
      "1486/3026\n",
      "1487/3026\n",
      "1488/3026\n",
      "1489/3026\n",
      "1490/3026\n",
      "1491/3026\n",
      "1492/3026\n",
      "1493/3026\n",
      "1494/3026\n",
      "1495/3026\n",
      "1496/3026\n",
      "1497/3026\n",
      "1498/3026\n",
      "1499/3026\n",
      "1500/3026\n",
      "1501/3026\n",
      "1502/3026\n",
      "1503/3026\n",
      "1504/3026\n",
      "1505/3026\n",
      "1506/3026\n",
      "1507/3026\n",
      "1508/3026\n",
      "1509/3026\n",
      "1510/3026\n",
      "1511/3026\n",
      "1512/3026\n",
      "1513/3026\n",
      "1514/3026\n",
      "1515/3026\n",
      "1516/3026\n",
      "1517/3026\n",
      "1518/3026\n",
      "1519/3026\n",
      "1520/3026\n",
      "1521/3026\n",
      "1522/3026\n",
      "1523/3026\n",
      "1524/3026\n"
     ]
    },
    {
     "name": "stderr",
     "output_type": "stream",
     "text": [
      "/Users/aniruddhsriram/Desktop/betting/src/utils.py:109: FutureWarning: The behavior of DataFrame concatenation with empty or all-NA entries is deprecated. In a future version, this will no longer exclude empty or all-NA columns when determining the result dtypes. To retain the old behavior, exclude the relevant entries before the concat operation.\n",
      "  \n"
     ]
    },
    {
     "name": "stdout",
     "output_type": "stream",
     "text": [
      "1525/3026\n",
      "1526/3026\n",
      "1527/3026\n",
      "1528/3026\n",
      "1529/3026\n",
      "1530/3026\n",
      "1531/3026\n",
      "1532/3026\n",
      "1533/3026\n",
      "1534/3026\n",
      "1535/3026\n",
      "1536/3026\n",
      "1537/3026\n",
      "1538/3026\n"
     ]
    },
    {
     "name": "stderr",
     "output_type": "stream",
     "text": [
      "/Users/aniruddhsriram/Desktop/betting/src/utils.py:109: FutureWarning: The behavior of DataFrame concatenation with empty or all-NA entries is deprecated. In a future version, this will no longer exclude empty or all-NA columns when determining the result dtypes. To retain the old behavior, exclude the relevant entries before the concat operation.\n",
      "  \n"
     ]
    },
    {
     "name": "stdout",
     "output_type": "stream",
     "text": [
      "1539/3026\n",
      "1540/3026\n",
      "1541/3026\n",
      "1542/3026\n",
      "1543/3026\n",
      "1544/3026\n",
      "1545/3026\n",
      "1546/3026\n",
      "1547/3026\n",
      "1548/3026\n",
      "1549/3026\n",
      "1550/3026\n",
      "1551/3026\n",
      "1552/3026\n",
      "1553/3026\n",
      "1554/3026\n",
      "1555/3026\n",
      "1556/3026\n",
      "1557/3026\n",
      "1558/3026\n",
      "1559/3026\n",
      "1560/3026\n",
      "1561/3026\n",
      "1562/3026\n",
      "1564/3026\n",
      "1565/3026\n",
      "1566/3026\n",
      "1567/3026\n",
      "1568/3026\n",
      "1569/3026\n"
     ]
    },
    {
     "name": "stderr",
     "output_type": "stream",
     "text": [
      "/Users/aniruddhsriram/Desktop/betting/src/utils.py:109: FutureWarning: The behavior of DataFrame concatenation with empty or all-NA entries is deprecated. In a future version, this will no longer exclude empty or all-NA columns when determining the result dtypes. To retain the old behavior, exclude the relevant entries before the concat operation.\n",
      "  \n"
     ]
    },
    {
     "name": "stdout",
     "output_type": "stream",
     "text": [
      "1571/3026\n",
      "1572/3026\n",
      "1573/3026\n",
      "1574/3026\n",
      "1575/3026\n",
      "1576/3026\n",
      "1577/3026\n",
      "1578/3026\n",
      "1580/3026\n",
      "1581/3026\n",
      "1582/3026\n",
      "1583/3026\n",
      "1584/3026\n",
      "1585/3026\n",
      "1586/3026\n",
      "1587/3026\n",
      "1588/3026\n",
      "1589/3026\n"
     ]
    },
    {
     "name": "stderr",
     "output_type": "stream",
     "text": [
      "/Users/aniruddhsriram/Desktop/betting/src/utils.py:109: FutureWarning: The behavior of DataFrame concatenation with empty or all-NA entries is deprecated. In a future version, this will no longer exclude empty or all-NA columns when determining the result dtypes. To retain the old behavior, exclude the relevant entries before the concat operation.\n",
      "  \n"
     ]
    },
    {
     "name": "stdout",
     "output_type": "stream",
     "text": [
      "1590/3026\n",
      "1591/3026\n",
      "1592/3026\n",
      "1593/3026\n",
      "1594/3026\n",
      "1595/3026\n",
      "1596/3026\n",
      "1597/3026\n",
      "1598/3026\n",
      "1599/3026\n",
      "1600/3026\n",
      "1601/3026\n",
      "1602/3026\n"
     ]
    },
    {
     "name": "stderr",
     "output_type": "stream",
     "text": [
      "/Users/aniruddhsriram/Desktop/betting/src/utils.py:109: FutureWarning: The behavior of DataFrame concatenation with empty or all-NA entries is deprecated. In a future version, this will no longer exclude empty or all-NA columns when determining the result dtypes. To retain the old behavior, exclude the relevant entries before the concat operation.\n",
      "  \n"
     ]
    },
    {
     "name": "stdout",
     "output_type": "stream",
     "text": [
      "1603/3026\n",
      "1604/3026\n",
      "1605/3026\n",
      "1606/3026\n",
      "1607/3026\n",
      "1608/3026\n",
      "1609/3026\n",
      "1610/3026\n",
      "1611/3026\n",
      "1612/3026\n",
      "1613/3026\n",
      "1614/3026\n",
      "1615/3026\n",
      "1616/3026\n",
      "1617/3026\n",
      "1618/3026\n",
      "1619/3026\n"
     ]
    },
    {
     "name": "stderr",
     "output_type": "stream",
     "text": [
      "/Users/aniruddhsriram/Desktop/betting/src/utils.py:109: FutureWarning: The behavior of DataFrame concatenation with empty or all-NA entries is deprecated. In a future version, this will no longer exclude empty or all-NA columns when determining the result dtypes. To retain the old behavior, exclude the relevant entries before the concat operation.\n",
      "  \n"
     ]
    },
    {
     "name": "stdout",
     "output_type": "stream",
     "text": [
      "1620/3026\n",
      "1621/3026\n",
      "1622/3026\n",
      "1623/3026\n",
      "1624/3026\n",
      "1625/3026\n",
      "1626/3026\n",
      "1627/3026\n",
      "1628/3026\n",
      "1629/3026\n",
      "1630/3026\n",
      "1631/3026\n",
      "1632/3026\n",
      "1633/3026\n",
      "1634/3026\n",
      "1635/3026\n",
      "1636/3026\n",
      "1637/3026\n",
      "1638/3026\n",
      "1639/3026\n",
      "1640/3026\n",
      "1641/3026\n",
      "1642/3026\n",
      "1643/3026\n",
      "1644/3026\n"
     ]
    },
    {
     "name": "stderr",
     "output_type": "stream",
     "text": [
      "/Users/aniruddhsriram/Desktop/betting/src/utils.py:109: FutureWarning: The behavior of DataFrame concatenation with empty or all-NA entries is deprecated. In a future version, this will no longer exclude empty or all-NA columns when determining the result dtypes. To retain the old behavior, exclude the relevant entries before the concat operation.\n",
      "  \n"
     ]
    },
    {
     "name": "stdout",
     "output_type": "stream",
     "text": [
      "1645/3026\n",
      "1646/3026\n",
      "1647/3026\n",
      "1648/3026\n",
      "1650/3026\n",
      "1651/3026\n",
      "1652/3026\n",
      "1653/3026\n",
      "1654/3026\n",
      "1655/3026\n",
      "1656/3026\n",
      "1657/3026\n",
      "1658/3026\n",
      "1659/3026\n",
      "1660/3026\n",
      "1661/3026\n",
      "1662/3026\n",
      "1663/3026\n",
      "1664/3026\n",
      "1665/3026\n",
      "1666/3026\n",
      "1667/3026\n",
      "1668/3026\n",
      "1669/3026\n",
      "1670/3026\n",
      "1671/3026\n",
      "1672/3026\n",
      "1673/3026\n",
      "1674/3026\n",
      "1675/3026\n",
      "1676/3026\n",
      "1677/3026\n",
      "1678/3026\n",
      "1679/3026\n",
      "1680/3026\n",
      "1681/3026\n",
      "1682/3026\n",
      "1683/3026\n",
      "1684/3026\n",
      "1685/3026\n",
      "1686/3026\n",
      "1687/3026\n",
      "1688/3026\n",
      "1689/3026\n"
     ]
    },
    {
     "name": "stderr",
     "output_type": "stream",
     "text": [
      "/Users/aniruddhsriram/Desktop/betting/src/utils.py:109: FutureWarning: The behavior of DataFrame concatenation with empty or all-NA entries is deprecated. In a future version, this will no longer exclude empty or all-NA columns when determining the result dtypes. To retain the old behavior, exclude the relevant entries before the concat operation.\n",
      "  \n"
     ]
    },
    {
     "name": "stdout",
     "output_type": "stream",
     "text": [
      "1690/3026\n",
      "1691/3026\n",
      "1692/3026\n",
      "1693/3026\n",
      "1694/3026\n",
      "1695/3026\n",
      "1696/3026\n",
      "1697/3026\n",
      "1698/3026\n",
      "1700/3026\n",
      "1701/3026\n",
      "1702/3026\n",
      "1703/3026\n",
      "1704/3026\n",
      "1705/3026\n",
      "1706/3026\n",
      "1707/3026\n",
      "1708/3026\n",
      "1709/3026\n",
      "1710/3026\n",
      "1711/3026\n",
      "1712/3026\n",
      "1713/3026\n",
      "1714/3026\n",
      "1715/3026\n",
      "1716/3026\n"
     ]
    },
    {
     "name": "stderr",
     "output_type": "stream",
     "text": [
      "/Users/aniruddhsriram/Desktop/betting/src/utils.py:109: FutureWarning: The behavior of DataFrame concatenation with empty or all-NA entries is deprecated. In a future version, this will no longer exclude empty or all-NA columns when determining the result dtypes. To retain the old behavior, exclude the relevant entries before the concat operation.\n",
      "  \n"
     ]
    },
    {
     "name": "stdout",
     "output_type": "stream",
     "text": [
      "1717/3026\n",
      "1718/3026\n",
      "1719/3026\n",
      "1720/3026\n",
      "1721/3026\n",
      "1722/3026\n",
      "1723/3026\n",
      "1724/3026\n",
      "1725/3026\n",
      "1726/3026\n",
      "1727/3026\n",
      "1728/3026\n",
      "1729/3026\n",
      "1730/3026\n"
     ]
    },
    {
     "name": "stderr",
     "output_type": "stream",
     "text": [
      "/Users/aniruddhsriram/Desktop/betting/src/utils.py:109: FutureWarning: The behavior of DataFrame concatenation with empty or all-NA entries is deprecated. In a future version, this will no longer exclude empty or all-NA columns when determining the result dtypes. To retain the old behavior, exclude the relevant entries before the concat operation.\n",
      "  \n"
     ]
    },
    {
     "name": "stdout",
     "output_type": "stream",
     "text": [
      "1731/3026\n",
      "1732/3026\n",
      "1733/3026\n",
      "1734/3026\n",
      "1735/3026\n",
      "1736/3026\n",
      "1737/3026\n",
      "1738/3026\n",
      "1739/3026\n",
      "1740/3026\n",
      "1741/3026\n",
      "1742/3026\n",
      "1743/3026\n",
      "1744/3026\n",
      "1745/3026\n",
      "1746/3026\n",
      "1747/3026\n",
      "1748/3026\n",
      "1749/3026\n",
      "1750/3026\n",
      "1751/3026\n",
      "1752/3026\n",
      "1753/3026\n",
      "1754/3026\n",
      "1755/3026\n",
      "1756/3026\n",
      "1757/3026\n",
      "1758/3026\n",
      "1759/3026\n",
      "1760/3026\n",
      "1761/3026\n",
      "1762/3026\n",
      "1763/3026\n",
      "1764/3026\n",
      "1765/3026\n",
      "1766/3026\n",
      "1767/3026\n",
      "1768/3026\n"
     ]
    },
    {
     "name": "stderr",
     "output_type": "stream",
     "text": [
      "/Users/aniruddhsriram/Desktop/betting/src/utils.py:109: FutureWarning: The behavior of DataFrame concatenation with empty or all-NA entries is deprecated. In a future version, this will no longer exclude empty or all-NA columns when determining the result dtypes. To retain the old behavior, exclude the relevant entries before the concat operation.\n",
      "  \n"
     ]
    },
    {
     "name": "stdout",
     "output_type": "stream",
     "text": [
      "1769/3026\n",
      "1770/3026\n",
      "1771/3026\n",
      "1772/3026\n",
      "1773/3026\n",
      "1774/3026\n",
      "1775/3026\n",
      "1776/3026\n",
      "1777/3026\n",
      "1778/3026\n",
      "1779/3026\n"
     ]
    },
    {
     "name": "stderr",
     "output_type": "stream",
     "text": [
      "/Users/aniruddhsriram/Desktop/betting/src/utils.py:109: FutureWarning: The behavior of DataFrame concatenation with empty or all-NA entries is deprecated. In a future version, this will no longer exclude empty or all-NA columns when determining the result dtypes. To retain the old behavior, exclude the relevant entries before the concat operation.\n",
      "  \n"
     ]
    },
    {
     "name": "stdout",
     "output_type": "stream",
     "text": [
      "1781/3026\n",
      "1782/3026\n",
      "1783/3026\n",
      "1784/3026\n",
      "1785/3026\n",
      "1786/3026\n",
      "1787/3026\n",
      "1788/3026\n",
      "1789/3026\n",
      "1790/3026\n",
      "1791/3026\n",
      "1792/3026\n",
      "1794/3026\n",
      "1795/3026\n",
      "1796/3026\n",
      "1797/3026\n",
      "1798/3026\n",
      "1799/3026\n",
      "1800/3026\n",
      "1801/3026\n",
      "1802/3026\n",
      "1803/3026\n",
      "1804/3026\n",
      "1805/3026\n",
      "1806/3026\n"
     ]
    },
    {
     "name": "stderr",
     "output_type": "stream",
     "text": [
      "/Users/aniruddhsriram/Desktop/betting/src/utils.py:109: FutureWarning: The behavior of DataFrame concatenation with empty or all-NA entries is deprecated. In a future version, this will no longer exclude empty or all-NA columns when determining the result dtypes. To retain the old behavior, exclude the relevant entries before the concat operation.\n",
      "  \n"
     ]
    },
    {
     "name": "stdout",
     "output_type": "stream",
     "text": [
      "1807/3026\n",
      "1808/3026\n",
      "1809/3026\n",
      "1810/3026\n",
      "1811/3026\n",
      "1812/3026\n",
      "1813/3026\n",
      "1814/3026\n",
      "1815/3026\n",
      "1816/3026\n",
      "1817/3026\n",
      "1818/3026\n"
     ]
    },
    {
     "name": "stderr",
     "output_type": "stream",
     "text": [
      "/Users/aniruddhsriram/Desktop/betting/src/utils.py:109: FutureWarning: The behavior of DataFrame concatenation with empty or all-NA entries is deprecated. In a future version, this will no longer exclude empty or all-NA columns when determining the result dtypes. To retain the old behavior, exclude the relevant entries before the concat operation.\n",
      "  \n"
     ]
    },
    {
     "name": "stdout",
     "output_type": "stream",
     "text": [
      "1819/3026\n",
      "1820/3026\n",
      "1821/3026\n",
      "1822/3026\n",
      "1823/3026\n",
      "1824/3026\n",
      "1825/3026\n",
      "1826/3026\n",
      "1827/3026\n",
      "1828/3026\n",
      "1829/3026\n",
      "1830/3026\n",
      "1831/3026\n",
      "1832/3026\n",
      "1833/3026\n",
      "1834/3026\n",
      "1835/3026\n",
      "1836/3026\n",
      "1837/3026\n",
      "1838/3026\n",
      "1839/3026\n",
      "1840/3026\n",
      "1841/3026\n"
     ]
    },
    {
     "name": "stderr",
     "output_type": "stream",
     "text": [
      "/Users/aniruddhsriram/Desktop/betting/src/utils.py:109: FutureWarning: The behavior of DataFrame concatenation with empty or all-NA entries is deprecated. In a future version, this will no longer exclude empty or all-NA columns when determining the result dtypes. To retain the old behavior, exclude the relevant entries before the concat operation.\n",
      "  \n"
     ]
    },
    {
     "name": "stdout",
     "output_type": "stream",
     "text": [
      "1842/3026\n",
      "1843/3026\n",
      "1844/3026\n",
      "1845/3026\n",
      "1846/3026\n",
      "1847/3026\n",
      "1848/3026\n",
      "1849/3026\n",
      "1850/3026\n",
      "1851/3026\n",
      "1852/3026\n",
      "1853/3026\n",
      "1854/3026\n",
      "1855/3026\n",
      "1856/3026\n",
      "1857/3026\n",
      "1858/3026\n",
      "1859/3026\n",
      "1860/3026\n"
     ]
    },
    {
     "name": "stderr",
     "output_type": "stream",
     "text": [
      "/Users/aniruddhsriram/Desktop/betting/src/utils.py:109: FutureWarning: The behavior of DataFrame concatenation with empty or all-NA entries is deprecated. In a future version, this will no longer exclude empty or all-NA columns when determining the result dtypes. To retain the old behavior, exclude the relevant entries before the concat operation.\n",
      "  \n"
     ]
    },
    {
     "name": "stdout",
     "output_type": "stream",
     "text": [
      "1861/3026\n",
      "1862/3026\n",
      "1863/3026\n",
      "1864/3026\n",
      "1865/3026\n",
      "1866/3026\n",
      "1867/3026\n",
      "1868/3026\n"
     ]
    },
    {
     "name": "stderr",
     "output_type": "stream",
     "text": [
      "/Users/aniruddhsriram/Desktop/betting/src/utils.py:109: FutureWarning: The behavior of DataFrame concatenation with empty or all-NA entries is deprecated. In a future version, this will no longer exclude empty or all-NA columns when determining the result dtypes. To retain the old behavior, exclude the relevant entries before the concat operation.\n",
      "  \n"
     ]
    },
    {
     "name": "stdout",
     "output_type": "stream",
     "text": [
      "1869/3026\n",
      "1870/3026\n",
      "1871/3026\n",
      "1872/3026\n",
      "1873/3026\n",
      "1874/3026\n",
      "1875/3026\n",
      "1876/3026\n",
      "1877/3026\n",
      "1878/3026\n",
      "1879/3026\n",
      "1880/3026\n",
      "1881/3026\n",
      "1882/3026\n",
      "1883/3026\n",
      "1884/3026\n",
      "1885/3026\n",
      "1886/3026\n",
      "1887/3026\n",
      "1888/3026\n",
      "1889/3026\n",
      "1890/3026\n",
      "1891/3026\n",
      "1892/3026\n",
      "1893/3026\n",
      "1894/3026\n",
      "1895/3026\n",
      "1896/3026\n",
      "1897/3026\n",
      "1898/3026\n",
      "1899/3026\n"
     ]
    },
    {
     "name": "stderr",
     "output_type": "stream",
     "text": [
      "/Users/aniruddhsriram/Desktop/betting/src/utils.py:109: FutureWarning: The behavior of DataFrame concatenation with empty or all-NA entries is deprecated. In a future version, this will no longer exclude empty or all-NA columns when determining the result dtypes. To retain the old behavior, exclude the relevant entries before the concat operation.\n",
      "  \n"
     ]
    },
    {
     "name": "stdout",
     "output_type": "stream",
     "text": [
      "1900/3026\n",
      "1901/3026\n",
      "1902/3026\n",
      "1903/3026\n",
      "1904/3026\n",
      "1905/3026\n",
      "1906/3026\n",
      "1907/3026\n",
      "1908/3026\n",
      "1909/3026\n",
      "1910/3026\n",
      "1911/3026\n",
      "1912/3026\n",
      "1913/3026\n",
      "1914/3026\n"
     ]
    },
    {
     "name": "stderr",
     "output_type": "stream",
     "text": [
      "/Users/aniruddhsriram/Desktop/betting/src/utils.py:109: FutureWarning: The behavior of DataFrame concatenation with empty or all-NA entries is deprecated. In a future version, this will no longer exclude empty or all-NA columns when determining the result dtypes. To retain the old behavior, exclude the relevant entries before the concat operation.\n",
      "  \n"
     ]
    },
    {
     "name": "stdout",
     "output_type": "stream",
     "text": [
      "1915/3026\n",
      "1916/3026\n",
      "1917/3026\n",
      "1918/3026\n",
      "1919/3026\n",
      "1920/3026\n"
     ]
    },
    {
     "name": "stderr",
     "output_type": "stream",
     "text": [
      "/Users/aniruddhsriram/Desktop/betting/src/utils.py:109: FutureWarning: The behavior of DataFrame concatenation with empty or all-NA entries is deprecated. In a future version, this will no longer exclude empty or all-NA columns when determining the result dtypes. To retain the old behavior, exclude the relevant entries before the concat operation.\n",
      "  \n"
     ]
    },
    {
     "name": "stdout",
     "output_type": "stream",
     "text": [
      "1921/3026\n",
      "1922/3026\n",
      "1923/3026\n",
      "1924/3026\n",
      "1925/3026\n",
      "1926/3026\n",
      "1927/3026\n",
      "1928/3026\n",
      "1929/3026\n",
      "1930/3026\n",
      "1931/3026\n",
      "1932/3026\n",
      "1933/3026\n",
      "1934/3026\n",
      "1935/3026\n",
      "1936/3026\n",
      "1937/3026\n",
      "1938/3026\n",
      "1939/3026\n",
      "1941/3026\n",
      "1942/3026\n",
      "1944/3026\n",
      "1945/3026\n",
      "1947/3026\n",
      "1948/3026\n",
      "1949/3026\n",
      "1950/3026\n",
      "1951/3026\n",
      "1952/3026\n",
      "1954/3026\n",
      "1955/3026\n",
      "1956/3026\n"
     ]
    },
    {
     "name": "stderr",
     "output_type": "stream",
     "text": [
      "/Users/aniruddhsriram/Desktop/betting/src/utils.py:109: FutureWarning: The behavior of DataFrame concatenation with empty or all-NA entries is deprecated. In a future version, this will no longer exclude empty or all-NA columns when determining the result dtypes. To retain the old behavior, exclude the relevant entries before the concat operation.\n",
      "  \n"
     ]
    },
    {
     "name": "stdout",
     "output_type": "stream",
     "text": [
      "1957/3026\n",
      "1958/3026\n",
      "1959/3026\n",
      "1960/3026\n",
      "1962/3026\n",
      "1963/3026\n",
      "1964/3026\n",
      "1966/3026\n",
      "1967/3026\n",
      "1968/3026\n",
      "1969/3026\n",
      "1970/3026\n",
      "1971/3026\n",
      "1972/3026\n"
     ]
    },
    {
     "name": "stderr",
     "output_type": "stream",
     "text": [
      "/Users/aniruddhsriram/Desktop/betting/src/utils.py:109: FutureWarning: The behavior of DataFrame concatenation with empty or all-NA entries is deprecated. In a future version, this will no longer exclude empty or all-NA columns when determining the result dtypes. To retain the old behavior, exclude the relevant entries before the concat operation.\n",
      "  \n"
     ]
    },
    {
     "name": "stdout",
     "output_type": "stream",
     "text": [
      "1973/3026\n",
      "1974/3026\n",
      "1975/3026\n",
      "1977/3026\n",
      "1978/3026\n",
      "1979/3026\n",
      "1980/3026\n",
      "1981/3026\n",
      "1982/3026\n",
      "1983/3026\n",
      "1984/3026\n",
      "1985/3026\n",
      "1986/3026\n",
      "1987/3026\n",
      "1988/3026\n",
      "1989/3026\n",
      "1990/3026\n",
      "1991/3026\n",
      "1992/3026\n",
      "1993/3026\n"
     ]
    },
    {
     "name": "stderr",
     "output_type": "stream",
     "text": [
      "/Users/aniruddhsriram/Desktop/betting/src/utils.py:109: FutureWarning: The behavior of DataFrame concatenation with empty or all-NA entries is deprecated. In a future version, this will no longer exclude empty or all-NA columns when determining the result dtypes. To retain the old behavior, exclude the relevant entries before the concat operation.\n",
      "  \n"
     ]
    },
    {
     "name": "stdout",
     "output_type": "stream",
     "text": [
      "1994/3026\n",
      "1995/3026\n",
      "1996/3026\n",
      "1997/3026\n",
      "1998/3026\n",
      "1999/3026\n",
      "2000/3026\n",
      "2001/3026\n",
      "2002/3026\n",
      "2003/3026\n",
      "2004/3026\n"
     ]
    },
    {
     "name": "stderr",
     "output_type": "stream",
     "text": [
      "/Users/aniruddhsriram/Desktop/betting/src/utils.py:109: FutureWarning: The behavior of DataFrame concatenation with empty or all-NA entries is deprecated. In a future version, this will no longer exclude empty or all-NA columns when determining the result dtypes. To retain the old behavior, exclude the relevant entries before the concat operation.\n",
      "  \n"
     ]
    },
    {
     "name": "stdout",
     "output_type": "stream",
     "text": [
      "2005/3026\n",
      "2006/3026\n",
      "2007/3026\n",
      "2008/3026\n",
      "2009/3026\n",
      "2010/3026\n",
      "2011/3026\n",
      "2012/3026\n",
      "2013/3026\n",
      "2014/3026\n",
      "2015/3026\n",
      "2016/3026\n",
      "2017/3026\n",
      "2018/3026\n",
      "2019/3026\n",
      "2020/3026\n",
      "2021/3026\n",
      "2022/3026\n",
      "2023/3026\n",
      "2024/3026\n"
     ]
    },
    {
     "name": "stderr",
     "output_type": "stream",
     "text": [
      "/Users/aniruddhsriram/Desktop/betting/src/utils.py:109: FutureWarning: The behavior of DataFrame concatenation with empty or all-NA entries is deprecated. In a future version, this will no longer exclude empty or all-NA columns when determining the result dtypes. To retain the old behavior, exclude the relevant entries before the concat operation.\n",
      "  \n"
     ]
    },
    {
     "name": "stdout",
     "output_type": "stream",
     "text": [
      "2025/3026\n",
      "2026/3026\n",
      "2027/3026\n",
      "2028/3026\n",
      "2029/3026\n",
      "2030/3026\n",
      "2031/3026\n",
      "2032/3026\n",
      "2033/3026\n",
      "2034/3026\n",
      "2035/3026\n",
      "2036/3026\n",
      "2037/3026\n",
      "2038/3026\n",
      "2039/3026\n",
      "2040/3026\n",
      "2041/3026\n",
      "2042/3026\n",
      "2043/3026\n",
      "2044/3026\n",
      "2045/3026\n",
      "2046/3026\n",
      "2047/3026\n",
      "2048/3026\n",
      "2049/3026\n",
      "2050/3026\n",
      "2051/3026\n",
      "2052/3026\n",
      "2053/3026\n",
      "2054/3026\n",
      "2055/3026\n",
      "2056/3026\n",
      "2057/3026\n",
      "2058/3026\n",
      "2059/3026\n",
      "2060/3026\n",
      "2061/3026\n",
      "2062/3026\n",
      "2063/3026\n",
      "2064/3026\n",
      "2065/3026\n",
      "2066/3026\n",
      "2067/3026\n",
      "2068/3026\n",
      "2069/3026\n",
      "2070/3026\n",
      "2071/3026\n",
      "2073/3026\n",
      "2074/3026\n",
      "2075/3026\n",
      "2076/3026\n"
     ]
    },
    {
     "name": "stderr",
     "output_type": "stream",
     "text": [
      "/Users/aniruddhsriram/Desktop/betting/src/utils.py:109: FutureWarning: The behavior of DataFrame concatenation with empty or all-NA entries is deprecated. In a future version, this will no longer exclude empty or all-NA columns when determining the result dtypes. To retain the old behavior, exclude the relevant entries before the concat operation.\n",
      "  \n"
     ]
    },
    {
     "name": "stdout",
     "output_type": "stream",
     "text": [
      "2077/3026\n",
      "2078/3026\n",
      "2079/3026\n",
      "2080/3026\n",
      "2081/3026\n",
      "2082/3026\n",
      "2083/3026\n",
      "2084/3026\n",
      "2085/3026\n",
      "2086/3026\n",
      "2087/3026\n",
      "2088/3026\n",
      "2089/3026\n",
      "2090/3026\n",
      "2091/3026\n",
      "2092/3026\n",
      "2094/3026\n",
      "2095/3026\n",
      "2096/3026\n",
      "2097/3026\n",
      "2098/3026\n",
      "2099/3026\n",
      "2100/3026\n",
      "2101/3026\n",
      "2102/3026\n",
      "2103/3026\n",
      "2104/3026\n",
      "2105/3026\n"
     ]
    },
    {
     "name": "stderr",
     "output_type": "stream",
     "text": [
      "/Users/aniruddhsriram/Desktop/betting/src/utils.py:109: FutureWarning: The behavior of DataFrame concatenation with empty or all-NA entries is deprecated. In a future version, this will no longer exclude empty or all-NA columns when determining the result dtypes. To retain the old behavior, exclude the relevant entries before the concat operation.\n",
      "  \n"
     ]
    },
    {
     "name": "stdout",
     "output_type": "stream",
     "text": [
      "2106/3026\n",
      "2107/3026\n",
      "2108/3026\n",
      "2109/3026\n",
      "2110/3026\n",
      "2112/3026\n",
      "2113/3026\n",
      "2114/3026\n",
      "2115/3026\n",
      "2116/3026\n",
      "2117/3026\n",
      "2118/3026\n",
      "2119/3026\n",
      "2120/3026\n",
      "2121/3026\n",
      "2122/3026\n",
      "2123/3026\n",
      "2124/3026\n",
      "2125/3026\n",
      "2126/3026\n",
      "2128/3026\n",
      "2129/3026\n",
      "2130/3026\n",
      "2131/3026\n",
      "2132/3026\n",
      "2133/3026\n",
      "2134/3026\n",
      "2135/3026\n",
      "2136/3026\n",
      "2137/3026\n",
      "2138/3026\n",
      "2139/3026\n",
      "2140/3026\n",
      "2141/3026\n",
      "2142/3026\n",
      "2143/3026\n",
      "2144/3026\n",
      "2145/3026\n",
      "2146/3026\n",
      "2147/3026\n",
      "2148/3026\n",
      "2149/3026\n",
      "2150/3026\n",
      "2151/3026\n",
      "2152/3026\n",
      "2153/3026\n",
      "2154/3026\n",
      "2155/3026\n",
      "2156/3026\n",
      "2157/3026\n",
      "2158/3026\n",
      "2159/3026\n",
      "2160/3026\n",
      "2161/3026\n",
      "2162/3026\n",
      "2163/3026\n",
      "2164/3026\n",
      "2165/3026\n",
      "2166/3026\n",
      "2167/3026\n",
      "2168/3026\n",
      "2169/3026\n",
      "2170/3026\n",
      "2171/3026\n",
      "2172/3026\n",
      "2173/3026\n",
      "2174/3026\n",
      "2175/3026\n",
      "2176/3026\n",
      "2177/3026\n",
      "2178/3026\n",
      "2179/3026\n"
     ]
    },
    {
     "name": "stderr",
     "output_type": "stream",
     "text": [
      "/Users/aniruddhsriram/Desktop/betting/src/utils.py:109: FutureWarning: The behavior of DataFrame concatenation with empty or all-NA entries is deprecated. In a future version, this will no longer exclude empty or all-NA columns when determining the result dtypes. To retain the old behavior, exclude the relevant entries before the concat operation.\n",
      "  \n"
     ]
    },
    {
     "name": "stdout",
     "output_type": "stream",
     "text": [
      "2180/3026\n",
      "2181/3026\n",
      "2182/3026\n",
      "2183/3026\n",
      "2184/3026\n",
      "2185/3026\n"
     ]
    },
    {
     "name": "stderr",
     "output_type": "stream",
     "text": [
      "/Users/aniruddhsriram/Desktop/betting/src/utils.py:109: FutureWarning: The behavior of DataFrame concatenation with empty or all-NA entries is deprecated. In a future version, this will no longer exclude empty or all-NA columns when determining the result dtypes. To retain the old behavior, exclude the relevant entries before the concat operation.\n",
      "  \n"
     ]
    },
    {
     "name": "stdout",
     "output_type": "stream",
     "text": [
      "2186/3026\n",
      "2187/3026\n",
      "2188/3026\n",
      "2189/3026\n",
      "2190/3026\n",
      "2191/3026\n",
      "2192/3026\n",
      "2193/3026\n",
      "2194/3026\n",
      "2195/3026\n",
      "2196/3026\n",
      "2197/3026\n",
      "2198/3026\n"
     ]
    },
    {
     "name": "stderr",
     "output_type": "stream",
     "text": [
      "/Users/aniruddhsriram/Desktop/betting/src/utils.py:109: FutureWarning: The behavior of DataFrame concatenation with empty or all-NA entries is deprecated. In a future version, this will no longer exclude empty or all-NA columns when determining the result dtypes. To retain the old behavior, exclude the relevant entries before the concat operation.\n",
      "  \n"
     ]
    },
    {
     "name": "stdout",
     "output_type": "stream",
     "text": [
      "2199/3026\n",
      "2200/3026\n",
      "2201/3026\n",
      "2202/3026\n",
      "2203/3026\n",
      "2204/3026\n",
      "2205/3026\n",
      "2206/3026\n",
      "2207/3026\n",
      "2208/3026\n",
      "2209/3026\n",
      "2210/3026\n",
      "2211/3026\n",
      "2212/3026\n",
      "2213/3026\n",
      "2214/3026\n",
      "2215/3026\n",
      "2216/3026\n",
      "2217/3026\n",
      "2218/3026\n",
      "2219/3026\n",
      "2220/3026\n",
      "2221/3026\n",
      "2222/3026\n",
      "2223/3026\n",
      "2224/3026\n",
      "2225/3026\n",
      "2226/3026\n",
      "2227/3026\n",
      "2228/3026\n",
      "2229/3026\n",
      "2230/3026\n",
      "2231/3026\n",
      "2232/3026\n",
      "2233/3026\n",
      "2234/3026\n",
      "2235/3026\n",
      "2236/3026\n",
      "2237/3026\n",
      "2238/3026\n",
      "2239/3026\n",
      "2240/3026\n",
      "2241/3026\n",
      "2242/3026\n",
      "2243/3026\n",
      "2244/3026\n",
      "2245/3026\n",
      "2246/3026\n",
      "2247/3026\n",
      "2248/3026\n",
      "2249/3026\n"
     ]
    },
    {
     "name": "stderr",
     "output_type": "stream",
     "text": [
      "/Users/aniruddhsriram/Desktop/betting/src/utils.py:109: FutureWarning: The behavior of DataFrame concatenation with empty or all-NA entries is deprecated. In a future version, this will no longer exclude empty or all-NA columns when determining the result dtypes. To retain the old behavior, exclude the relevant entries before the concat operation.\n",
      "  \n"
     ]
    },
    {
     "name": "stdout",
     "output_type": "stream",
     "text": [
      "2250/3026\n",
      "2251/3026\n",
      "2253/3026\n",
      "2254/3026\n",
      "2255/3026\n",
      "2256/3026\n",
      "2257/3026\n",
      "2258/3026\n",
      "2259/3026\n",
      "2260/3026\n",
      "2261/3026\n",
      "2262/3026\n",
      "2263/3026\n",
      "2264/3026\n",
      "2265/3026\n",
      "2266/3026\n",
      "2267/3026\n",
      "2268/3026\n",
      "2269/3026\n",
      "2270/3026\n",
      "2271/3026\n",
      "2272/3026\n",
      "2273/3026\n",
      "2274/3026\n",
      "2275/3026\n",
      "2276/3026\n",
      "2277/3026\n",
      "2278/3026\n",
      "2279/3026\n",
      "2280/3026\n",
      "2281/3026\n",
      "2282/3026\n",
      "2283/3026\n",
      "2284/3026\n",
      "2285/3026\n",
      "2286/3026\n",
      "2287/3026\n",
      "2288/3026\n",
      "2289/3026\n",
      "2290/3026\n",
      "2291/3026\n",
      "2292/3026\n",
      "2294/3026\n",
      "2295/3026\n",
      "2296/3026\n",
      "2297/3026\n",
      "2298/3026\n",
      "2299/3026\n",
      "2300/3026\n",
      "2301/3026\n",
      "2302/3026\n",
      "2303/3026\n",
      "2304/3026\n",
      "2305/3026\n",
      "2307/3026\n",
      "2308/3026\n",
      "2309/3026\n",
      "2310/3026\n",
      "2311/3026\n",
      "2312/3026\n",
      "2313/3026\n",
      "2314/3026\n",
      "2315/3026\n",
      "2316/3026\n",
      "2317/3026\n",
      "2318/3026\n",
      "2319/3026\n",
      "2320/3026\n",
      "2321/3026\n",
      "2322/3026\n",
      "2323/3026\n",
      "2324/3026\n",
      "2325/3026\n",
      "2326/3026\n",
      "2327/3026\n",
      "2328/3026\n",
      "2329/3026\n",
      "2330/3026\n",
      "2331/3026\n",
      "2332/3026\n",
      "2333/3026\n",
      "2334/3026\n",
      "2335/3026\n",
      "2336/3026\n",
      "2337/3026\n",
      "2338/3026\n",
      "2339/3026\n",
      "2340/3026\n",
      "2341/3026\n",
      "2342/3026\n",
      "2343/3026\n",
      "2344/3026\n",
      "2345/3026\n",
      "2346/3026\n",
      "2347/3026\n",
      "2348/3026\n",
      "2349/3026\n",
      "2350/3026\n",
      "2351/3026\n",
      "2352/3026\n",
      "2353/3026\n",
      "2354/3026\n",
      "2355/3026\n",
      "2356/3026\n",
      "2357/3026\n",
      "2358/3026\n",
      "2359/3026\n",
      "2360/3026\n",
      "2361/3026\n",
      "2362/3026\n",
      "2364/3026\n",
      "2366/3026\n",
      "2367/3026\n",
      "2368/3026\n",
      "2369/3026\n",
      "2370/3026\n",
      "2371/3026\n",
      "2372/3026\n",
      "2373/3026\n",
      "2374/3026\n",
      "2375/3026\n",
      "2376/3026\n",
      "2377/3026\n",
      "2378/3026\n",
      "2379/3026\n",
      "2380/3026\n",
      "2381/3026\n",
      "2382/3026\n",
      "2383/3026\n",
      "2384/3026\n",
      "2385/3026\n",
      "2386/3026\n",
      "2387/3026\n",
      "2388/3026\n",
      "2389/3026\n",
      "2390/3026\n",
      "2391/3026\n",
      "2392/3026\n",
      "2393/3026\n",
      "2394/3026\n",
      "2395/3026\n",
      "2396/3026\n",
      "2397/3026\n",
      "2398/3026\n",
      "2399/3026\n",
      "2401/3026\n",
      "2402/3026\n",
      "2403/3026\n",
      "2404/3026\n",
      "2405/3026\n",
      "2406/3026\n",
      "2407/3026\n",
      "2408/3026\n",
      "2409/3026\n",
      "2410/3026\n",
      "2411/3026\n",
      "2412/3026\n",
      "2413/3026\n",
      "2414/3026\n",
      "2415/3026\n",
      "2416/3026\n",
      "2417/3026\n",
      "2418/3026\n",
      "2419/3026\n",
      "2420/3026\n",
      "2421/3026\n",
      "2422/3026\n",
      "2423/3026\n",
      "2424/3026\n",
      "2425/3026\n",
      "2426/3026\n",
      "2427/3026\n",
      "2428/3026\n",
      "2429/3026\n",
      "2430/3026\n",
      "2431/3026\n",
      "2432/3026\n",
      "2433/3026\n",
      "2434/3026\n",
      "2435/3026\n",
      "2436/3026\n",
      "2437/3026\n",
      "2438/3026\n",
      "2439/3026\n",
      "2440/3026\n",
      "2441/3026\n",
      "2442/3026\n",
      "2443/3026\n",
      "2444/3026\n",
      "2445/3026\n",
      "2447/3026\n",
      "2448/3026\n",
      "2449/3026\n",
      "2450/3026\n",
      "2451/3026\n",
      "2452/3026\n",
      "2453/3026\n",
      "2454/3026\n",
      "2455/3026\n",
      "2456/3026\n",
      "2457/3026\n",
      "2458/3026\n",
      "2459/3026\n",
      "2460/3026\n",
      "2461/3026\n",
      "2462/3026\n",
      "2463/3026\n",
      "2464/3026\n",
      "2465/3026\n",
      "2466/3026\n",
      "2468/3026\n",
      "2469/3026\n",
      "2470/3026\n",
      "2471/3026\n",
      "2472/3026\n",
      "2473/3026\n",
      "2474/3026\n",
      "2475/3026\n",
      "2476/3026\n",
      "2477/3026\n",
      "2478/3026\n",
      "2479/3026\n",
      "2480/3026\n",
      "2481/3026\n",
      "2482/3026\n",
      "2483/3026\n",
      "2484/3026\n",
      "2485/3026\n",
      "2486/3026\n",
      "2487/3026\n",
      "2488/3026\n",
      "2489/3026\n",
      "2491/3026\n",
      "2492/3026\n",
      "2493/3026\n",
      "2494/3026\n",
      "2495/3026\n",
      "2496/3026\n",
      "2497/3026\n",
      "2498/3026\n",
      "2499/3026\n",
      "2501/3026\n",
      "2502/3026\n",
      "2503/3026\n",
      "2504/3026\n",
      "2505/3026\n"
     ]
    },
    {
     "name": "stderr",
     "output_type": "stream",
     "text": [
      "/Users/aniruddhsriram/Desktop/betting/src/utils.py:109: FutureWarning: The behavior of DataFrame concatenation with empty or all-NA entries is deprecated. In a future version, this will no longer exclude empty or all-NA columns when determining the result dtypes. To retain the old behavior, exclude the relevant entries before the concat operation.\n",
      "  \n"
     ]
    },
    {
     "name": "stdout",
     "output_type": "stream",
     "text": [
      "2506/3026\n",
      "2507/3026\n",
      "2508/3026\n",
      "2509/3026\n",
      "2510/3026\n",
      "2511/3026\n",
      "2512/3026\n",
      "2513/3026\n",
      "2514/3026\n",
      "2515/3026\n",
      "2516/3026\n",
      "2517/3026\n",
      "2518/3026\n"
     ]
    },
    {
     "name": "stderr",
     "output_type": "stream",
     "text": [
      "/Users/aniruddhsriram/Desktop/betting/src/utils.py:109: FutureWarning: The behavior of DataFrame concatenation with empty or all-NA entries is deprecated. In a future version, this will no longer exclude empty or all-NA columns when determining the result dtypes. To retain the old behavior, exclude the relevant entries before the concat operation.\n",
      "  \n"
     ]
    },
    {
     "name": "stdout",
     "output_type": "stream",
     "text": [
      "2519/3026\n",
      "2520/3026\n",
      "2522/3026\n",
      "2523/3026\n",
      "2524/3026\n"
     ]
    },
    {
     "name": "stderr",
     "output_type": "stream",
     "text": [
      "/Users/aniruddhsriram/Desktop/betting/src/utils.py:109: FutureWarning: The behavior of DataFrame concatenation with empty or all-NA entries is deprecated. In a future version, this will no longer exclude empty or all-NA columns when determining the result dtypes. To retain the old behavior, exclude the relevant entries before the concat operation.\n",
      "  \n"
     ]
    },
    {
     "name": "stdout",
     "output_type": "stream",
     "text": [
      "2525/3026\n",
      "2526/3026\n",
      "2527/3026\n",
      "2528/3026\n",
      "2529/3026\n",
      "2530/3026\n",
      "2531/3026\n"
     ]
    },
    {
     "name": "stderr",
     "output_type": "stream",
     "text": [
      "/Users/aniruddhsriram/Desktop/betting/src/utils.py:109: FutureWarning: The behavior of DataFrame concatenation with empty or all-NA entries is deprecated. In a future version, this will no longer exclude empty or all-NA columns when determining the result dtypes. To retain the old behavior, exclude the relevant entries before the concat operation.\n",
      "  \n"
     ]
    },
    {
     "name": "stdout",
     "output_type": "stream",
     "text": [
      "2532/3026\n",
      "2533/3026\n",
      "2534/3026\n",
      "2535/3026\n",
      "2536/3026\n",
      "2537/3026\n",
      "2538/3026\n",
      "2539/3026\n",
      "2540/3026\n"
     ]
    },
    {
     "name": "stderr",
     "output_type": "stream",
     "text": [
      "/Users/aniruddhsriram/Desktop/betting/src/utils.py:109: FutureWarning: The behavior of DataFrame concatenation with empty or all-NA entries is deprecated. In a future version, this will no longer exclude empty or all-NA columns when determining the result dtypes. To retain the old behavior, exclude the relevant entries before the concat operation.\n",
      "  \n"
     ]
    },
    {
     "name": "stdout",
     "output_type": "stream",
     "text": [
      "2541/3026\n",
      "2542/3026\n",
      "2543/3026\n"
     ]
    },
    {
     "name": "stderr",
     "output_type": "stream",
     "text": [
      "/Users/aniruddhsriram/Desktop/betting/src/utils.py:109: FutureWarning: The behavior of DataFrame concatenation with empty or all-NA entries is deprecated. In a future version, this will no longer exclude empty or all-NA columns when determining the result dtypes. To retain the old behavior, exclude the relevant entries before the concat operation.\n",
      "  \n"
     ]
    },
    {
     "name": "stdout",
     "output_type": "stream",
     "text": [
      "2544/3026\n",
      "2545/3026\n",
      "2546/3026\n",
      "2547/3026\n",
      "2548/3026\n",
      "2549/3026\n",
      "2550/3026\n",
      "2551/3026\n",
      "2552/3026\n",
      "2553/3026\n",
      "2554/3026\n",
      "2555/3026\n",
      "2556/3026\n",
      "2557/3026\n",
      "2558/3026\n",
      "2559/3026\n",
      "2560/3026\n",
      "2561/3026\n",
      "2562/3026\n",
      "2563/3026\n",
      "2564/3026\n",
      "2565/3026\n",
      "2566/3026\n",
      "2567/3026\n",
      "2568/3026\n",
      "2569/3026\n",
      "2570/3026\n",
      "2571/3026\n",
      "2572/3026\n",
      "2573/3026\n",
      "2574/3026\n",
      "2575/3026\n",
      "2577/3026\n",
      "2579/3026\n",
      "2581/3026\n",
      "2582/3026\n",
      "2583/3026\n",
      "2584/3026\n",
      "2585/3026\n",
      "2586/3026\n",
      "2587/3026\n",
      "2588/3026\n",
      "2589/3026\n",
      "2590/3026\n",
      "2591/3026\n",
      "2592/3026\n",
      "2593/3026\n",
      "2595/3026\n",
      "2596/3026\n",
      "2597/3026\n",
      "2598/3026\n",
      "2599/3026\n",
      "2600/3026\n",
      "2602/3026\n",
      "2603/3026\n",
      "2604/3026\n",
      "2605/3026\n",
      "2606/3026\n",
      "2607/3026\n",
      "2608/3026\n",
      "2609/3026\n"
     ]
    },
    {
     "name": "stderr",
     "output_type": "stream",
     "text": [
      "/Users/aniruddhsriram/Desktop/betting/src/utils.py:109: FutureWarning: The behavior of DataFrame concatenation with empty or all-NA entries is deprecated. In a future version, this will no longer exclude empty or all-NA columns when determining the result dtypes. To retain the old behavior, exclude the relevant entries before the concat operation.\n",
      "  \n"
     ]
    },
    {
     "name": "stdout",
     "output_type": "stream",
     "text": [
      "2610/3026\n",
      "2611/3026\n",
      "2612/3026\n",
      "2613/3026\n",
      "2614/3026\n",
      "2615/3026\n",
      "2616/3026\n",
      "2617/3026\n",
      "2619/3026\n",
      "2620/3026\n",
      "2621/3026\n"
     ]
    },
    {
     "name": "stderr",
     "output_type": "stream",
     "text": [
      "/Users/aniruddhsriram/Desktop/betting/src/utils.py:109: FutureWarning: The behavior of DataFrame concatenation with empty or all-NA entries is deprecated. In a future version, this will no longer exclude empty or all-NA columns when determining the result dtypes. To retain the old behavior, exclude the relevant entries before the concat operation.\n",
      "  \n"
     ]
    },
    {
     "name": "stdout",
     "output_type": "stream",
     "text": [
      "2622/3026\n",
      "2623/3026\n",
      "2625/3026\n",
      "2626/3026\n",
      "2627/3026\n"
     ]
    },
    {
     "name": "stderr",
     "output_type": "stream",
     "text": [
      "/Users/aniruddhsriram/Desktop/betting/src/utils.py:109: FutureWarning: The behavior of DataFrame concatenation with empty or all-NA entries is deprecated. In a future version, this will no longer exclude empty or all-NA columns when determining the result dtypes. To retain the old behavior, exclude the relevant entries before the concat operation.\n",
      "  \n"
     ]
    },
    {
     "name": "stdout",
     "output_type": "stream",
     "text": [
      "2628/3026\n",
      "2629/3026\n",
      "2630/3026\n",
      "2631/3026\n",
      "2632/3026\n"
     ]
    },
    {
     "name": "stderr",
     "output_type": "stream",
     "text": [
      "/Users/aniruddhsriram/Desktop/betting/src/utils.py:109: FutureWarning: The behavior of DataFrame concatenation with empty or all-NA entries is deprecated. In a future version, this will no longer exclude empty or all-NA columns when determining the result dtypes. To retain the old behavior, exclude the relevant entries before the concat operation.\n",
      "  \n"
     ]
    },
    {
     "name": "stdout",
     "output_type": "stream",
     "text": [
      "2633/3026\n",
      "2634/3026\n",
      "2635/3026\n",
      "2636/3026\n",
      "2637/3026\n",
      "2638/3026\n"
     ]
    },
    {
     "name": "stderr",
     "output_type": "stream",
     "text": [
      "/Users/aniruddhsriram/Desktop/betting/src/utils.py:109: FutureWarning: The behavior of DataFrame concatenation with empty or all-NA entries is deprecated. In a future version, this will no longer exclude empty or all-NA columns when determining the result dtypes. To retain the old behavior, exclude the relevant entries before the concat operation.\n",
      "  \n"
     ]
    },
    {
     "name": "stdout",
     "output_type": "stream",
     "text": [
      "2639/3026\n",
      "2641/3026\n",
      "2643/3026\n",
      "2644/3026\n",
      "2645/3026\n",
      "2646/3026\n",
      "2647/3026\n",
      "2648/3026\n",
      "2649/3026\n",
      "2650/3026\n",
      "2651/3026\n",
      "2654/3026\n",
      "2655/3026\n",
      "2656/3026\n",
      "2657/3026\n",
      "2658/3026\n",
      "2659/3026\n",
      "2660/3026\n",
      "2661/3026\n",
      "2662/3026\n",
      "2663/3026\n",
      "2664/3026\n",
      "2665/3026\n",
      "2666/3026\n",
      "2667/3026\n",
      "2668/3026\n",
      "2669/3026\n",
      "2670/3026\n",
      "2671/3026\n",
      "2672/3026\n",
      "2673/3026\n",
      "2674/3026\n",
      "2675/3026\n",
      "2676/3026\n",
      "2677/3026\n",
      "2679/3026\n",
      "2681/3026\n",
      "2682/3026\n",
      "2683/3026\n",
      "2684/3026\n",
      "2687/3026\n"
     ]
    },
    {
     "name": "stderr",
     "output_type": "stream",
     "text": [
      "/Users/aniruddhsriram/Desktop/betting/src/utils.py:109: FutureWarning: The behavior of DataFrame concatenation with empty or all-NA entries is deprecated. In a future version, this will no longer exclude empty or all-NA columns when determining the result dtypes. To retain the old behavior, exclude the relevant entries before the concat operation.\n",
      "  \n"
     ]
    },
    {
     "name": "stdout",
     "output_type": "stream",
     "text": [
      "2688/3026\n",
      "2689/3026\n",
      "2690/3026\n",
      "2691/3026\n",
      "2692/3026\n",
      "2693/3026\n",
      "2694/3026\n",
      "2695/3026\n",
      "2696/3026\n",
      "2698/3026\n",
      "2699/3026\n",
      "2700/3026\n",
      "2702/3026\n",
      "2703/3026\n",
      "2704/3026\n"
     ]
    },
    {
     "name": "stderr",
     "output_type": "stream",
     "text": [
      "/Users/aniruddhsriram/Desktop/betting/src/utils.py:109: FutureWarning: The behavior of DataFrame concatenation with empty or all-NA entries is deprecated. In a future version, this will no longer exclude empty or all-NA columns when determining the result dtypes. To retain the old behavior, exclude the relevant entries before the concat operation.\n",
      "  \n"
     ]
    },
    {
     "name": "stdout",
     "output_type": "stream",
     "text": [
      "2705/3026\n",
      "2706/3026\n",
      "2707/3026\n",
      "2708/3026\n",
      "2709/3026\n",
      "2710/3026\n",
      "2711/3026\n",
      "2712/3026\n",
      "2713/3026\n",
      "2714/3026\n",
      "2715/3026\n",
      "2717/3026\n",
      "2718/3026\n",
      "2719/3026\n",
      "2720/3026\n",
      "2721/3026\n"
     ]
    },
    {
     "name": "stderr",
     "output_type": "stream",
     "text": [
      "/Users/aniruddhsriram/Desktop/betting/src/utils.py:109: FutureWarning: The behavior of DataFrame concatenation with empty or all-NA entries is deprecated. In a future version, this will no longer exclude empty or all-NA columns when determining the result dtypes. To retain the old behavior, exclude the relevant entries before the concat operation.\n",
      "  \n"
     ]
    },
    {
     "name": "stdout",
     "output_type": "stream",
     "text": [
      "2723/3026\n",
      "2724/3026\n",
      "2725/3026\n"
     ]
    }
   ],
   "source": [
    "X = []\n",
    "Y = []\n",
    "for i, row in df_train.iterrows():\n",
    "    if row['true_action'] == 'PUSH':\n",
    "        continue\n",
    "    if pd.isna(row['true_action']) or row['true_action'] == '':\n",
    "        continue\n",
    "    player_name = row['name']\n",
    "    stat = row['stat']\n",
    "    pp_line = float(row['line'])\n",
    "    opponent = row['opponent']\n",
    "    game_date=datetime.datetime.strptime(row['game_date'], '%Y-%m-%d')\n",
    "    gamelog = utils.get_games_by_player(player_name, game_date-datetime.timedelta(days=1))\n",
    "    stat_name = utils.get_stat_name(stat)\n",
    "    past_5 = models.avg_player_stats_pastngames(gamelog, stat_name, pp_line, 5)\n",
    "    past_10 = models.avg_player_stats_pastngames(gamelog, stat_name, pp_line, 10)\n",
    "    past_15 = models.avg_player_stats_pastngames(gamelog, stat_name, pp_line, 15)\n",
    "    season = models.avg_player_stats_season(gamelog, stat_name, pp_line)\n",
    "    vs_opp = models.avg_player_stats_vsteam(gamelog, stat_name, pp_line, opponent)\n",
    "    thisgame = gamelog[gamelog['GAME_DATE'] == game_date]\n",
    "    if len(thisgame) == 0:\n",
    "        away = 0.5\n",
    "    else:\n",
    "        thisgame = thisgame.iloc[0]\n",
    "        location = 'away' if '@' in thisgame['MATCHUP'] else 'home'\n",
    "        away = models.avg_player_stats_homeaway(gamelog, stat_name, pp_line, location)\n",
    "    b2b = models.days_since_last_game(gamelog, game_date)\n",
    "    X.append([past_5, past_10, past_15, season, vs_opp, away, b2b])\n",
    "    Y.append(1 if row['true_action'] == 'OVER' else 0)\n",
    "    print(f'{i}/{len(df)}')"
   ]
  },
  {
   "cell_type": "code",
   "execution_count": 63,
   "id": "df1a1298-f3e3-4b83-883e-543cd950462f",
   "metadata": {},
   "outputs": [
    {
     "name": "stdout",
     "output_type": "stream",
     "text": [
      "Accuracy on train set: 0.5839677563815495\n",
      "Accuracy on test set: 0.51\n"
     ]
    }
   ],
   "source": [
    "X = np.array(X)\n",
    "Y = np.array(Y)\n",
    "n = len(X)\n",
    "splitpt = 400\n",
    "X_train = X[:-splitpt, :]\n",
    "Y_train = Y[:-splitpt]\n",
    "X_test = X[-splitpt:, :]\n",
    "Y_test = Y[-splitpt:]\n",
    "clf = AdaBoostClassifier(n_estimators=100, random_state=0).fit(X_train, Y_train)\n",
    "# clf = LogisticRegression().fit(X_train, Y_train)\n",
    "train_acc = clf.score(X_train, Y_train)\n",
    "test_acc = clf.score(X_test, Y_test)\n",
    "print(f'Accuracy on train set: {train_acc}')\n",
    "print(f'Accuracy on test set: {test_acc}')"
   ]
  },
  {
   "cell_type": "code",
   "execution_count": 21,
   "id": "e67af985-5d55-438f-b636-d30bd2dc7781",
   "metadata": {},
   "outputs": [
    {
     "name": "stdout",
     "output_type": "stream",
     "text": [
      "Fold 0:\n",
      "  Train: index=293\n",
      "  Test:  index=98\n",
      "Accuracy on train set: 0.5494880546075085\n",
      "Accuracy on test set: 0.5306122448979592\n",
      "Fold 1:\n",
      "  Train: index=293\n",
      "  Test:  index=98\n",
      "Accuracy on train set: 0.515358361774744\n",
      "Accuracy on test set: 0.46938775510204084\n",
      "Fold 2:\n",
      "  Train: index=293\n",
      "  Test:  index=98\n",
      "Accuracy on train set: 0.5324232081911263\n",
      "Accuracy on test set: 0.5\n",
      "Fold 3:\n",
      "  Train: index=294\n",
      "  Test:  index=97\n",
      "Accuracy on train set: 0.5136054421768708\n",
      "Accuracy on test set: 0.5360824742268041\n",
      "[0.5306122448979592, 0.46938775510204084, 0.5, 0.5360824742268041]\n",
      "0.509020618556701\n"
     ]
    }
   ],
   "source": [
    "# X = np.load('x.npy')\n",
    "# y = np.load('y.npy')\n",
    "kf = KFold(n_splits=4, shuffle=True)\n",
    "avg_acc = []\n",
    "for i, (train_index, test_index) in enumerate(kf.split(X)):\n",
    "    print(f\"Fold {i}:\")\n",
    "    print(f\"  Train: index={len(train_index)}\")\n",
    "    print(f\"  Test:  index={len(test_index)}\")\n",
    "    X_train = X[train_index]\n",
    "    y_train = Y[train_index]\n",
    "    X_test = X[test_index]\n",
    "    y_test = Y[test_index]\n",
    "    clf = LogisticRegression().fit(X_train, y_train)\n",
    "    train_acc = clf.score(X_train, y_train)\n",
    "    test_acc = clf.score(X_test, y_test)\n",
    "    print(f'Accuracy on train set: {train_acc}')\n",
    "    print(f'Accuracy on test set: {test_acc}')\n",
    "    avg_acc.append(test_acc)\n",
    "print(avg_acc)\n",
    "print(np.mean(np.array(avg_acc)))"
   ]
  },
  {
   "cell_type": "code",
   "execution_count": 5,
   "id": "9cfa1a85-5122-4d53-9093-91830a61e932",
   "metadata": {},
   "outputs": [
    {
     "name": "stdout",
     "output_type": "stream",
     "text": [
      "(706, 6) (177, 6) (706,) (177,)\n"
     ]
    }
   ],
   "source": [
    "X = np.array(X)\n",
    "y = np.array(Y)\n",
    "# xdata = X[:, [0, 3]]\n",
    "perm = np.random.permutation(len(X))\n",
    "X = X[perm]\n",
    "y = y[perm]\n",
    "split = int(0.8*len(X))\n",
    "X_train = X[:split, :]\n",
    "X_test = X[split:, :]\n",
    "y_train = y[:split]\n",
    "y_test = y[split:]\n",
    "print(X_train.shape, X_test.shape, y_train.shape, y_test.shape)"
   ]
  },
  {
   "cell_type": "code",
   "execution_count": 59,
   "id": "d5e668b2-d996-4ac4-acb2-9ed86c5bbe85",
   "metadata": {},
   "outputs": [
    {
     "data": {
      "text/plain": [
       "-0.4931548356902651"
      ]
     },
     "execution_count": 59,
     "metadata": {},
     "output_type": "execute_result"
    },
    {
     "data": {
      "image/png": "[encoded data removed]",
      "text/plain": [
       "<Figure size 640x480 with 1 Axes>"
      ]
     },
     "metadata": {},
     "output_type": "display_data"
    }
   ],
   "source": [
    "plt.scatter(X[:, 1], X[:, 2])\n",
    "np.corrcoef(X)[2, 1]"
   ]
  },
  {
   "cell_type": "code",
   "execution_count": 6,
   "id": "8e96c06f-f768-496b-a5f7-fc5f68d60c00",
   "metadata": {},
   "outputs": [],
   "source": [
    "clf = LogisticRegression().fit(X_train, y_train)"
   ]
  },
  {
   "cell_type": "code",
   "execution_count": 7,
   "id": "60b99cc3-7224-46ec-b9a0-8fdf00c84d24",
   "metadata": {},
   "outputs": [
    {
     "data": {
      "text/plain": [
       "{'C': 1.0,\n",
       " 'class_weight': None,\n",
       " 'dual': False,\n",
       " 'fit_intercept': True,\n",
       " 'intercept_scaling': 1,\n",
       " 'l1_ratio': None,\n",
       " 'max_iter': 100,\n",
       " 'multi_class': 'auto',\n",
       " 'n_jobs': None,\n",
       " 'penalty': 'l2',\n",
       " 'random_state': None,\n",
       " 'solver': 'lbfgs',\n",
       " 'tol': 0.0001,\n",
       " 'verbose': 0,\n",
       " 'warm_start': False}"
      ]
     },
     "execution_count": 7,
     "metadata": {},
     "output_type": "execute_result"
    }
   ],
   "source": [
    "clf.get_params()"
   ]
  },
  {
   "cell_type": "code",
   "execution_count": 8,
   "id": "ba92fc54-1bf6-4e63-92d7-b91bf652ba0f",
   "metadata": {},
   "outputs": [
    {
     "name": "stdout",
     "output_type": "stream",
     "text": [
      "p = sigmoid([-4.06174343] + 2.940910917776026*past5 + 0.3141791181315479*past10 + 0.6926901074208849*past15 + 0.4694275829239621*season + 4.519614693201092*vs_opp + -0.28991565825128673*away)\n"
     ]
    }
   ],
   "source": [
    "coef = clf.coef_[0]\n",
    "intercept = clf.intercept_\n",
    "'''\n",
    "y = b0 + b1x1 + b2x2 + ...\n",
    "p = b0 + b1x1 + b2x2 + ...\n",
    "odds = p/1-p\n",
    "log odds = log(p/1-p)\n",
    "log(p/1-p) = b0 + b1x1 + b2x2 + ...\n",
    "log(p/1-p) = b0 + 2.22*past5 + 1.14*past10 + 0.58*past15 + 0.73*season + 3.36*season - 0.007*away\n",
    "p = sigmoid(b0 + 2.22*past5 + 1.14*past10 + 0.58*past15 + 0.73*season + 3.36*season - 0.007*away)\n",
    "\n",
    "b7*points + b8*assists + ...\n",
    "H0: b7 = b8\n",
    "'''\n",
    "print(f'p = sigmoid({intercept} + {coef[0]}*past5 + {coef[1]}*past10 + {coef[2]}*past15 + {coef[3]}*season + {coef[4]}*vs_opp + {coef[5]}*away)')"
   ]
  },
  {
   "cell_type": "code",
   "execution_count": 9,
   "id": "c060454a-fda1-478b-9bb2-149ab7983935",
   "metadata": {},
   "outputs": [
    {
     "name": "stdout",
     "output_type": "stream",
     "text": [
      "Accuracy on train set: 0.7847025495750708\n",
      "Accuracy on test set: 0.807909604519774\n"
     ]
    }
   ],
   "source": [
    "print(f'Accuracy on train set: {clf.score(X_train, y_train)}')\n",
    "print(f'Accuracy on test set: {clf.score(X_test, y_test)}')"
   ]
  },
  {
   "cell_type": "code",
   "execution_count": 10,
   "id": "111b541a-9238-4a63-a7b1-2fcfe4795333",
   "metadata": {},
   "outputs": [
    {
     "name": "stdout",
     "output_type": "stream",
     "text": [
      "[1 1 1 1 0 1 1 0 0 0]\n",
      "[0 0 1 1 0 1 0 0 0 0]\n"
     ]
    }
   ],
   "source": [
    "print(np.argmax(clf.predict_proba(X_test[0:10, :]), axis=1))\n",
    "print(y_test[0:10])"
   ]
  },
  {
   "cell_type": "code",
   "execution_count": 64,
   "id": "27158f4c-f16a-42e9-b377-98c5aa9ff000",
   "metadata": {},
   "outputs": [
    {
     "data": {
      "text/plain": [
       "['adaboostmodel.joblib']"
      ]
     },
     "execution_count": 64,
     "metadata": {},
     "output_type": "execute_result"
    }
   ],
   "source": [
    "from joblib import dump, load\n",
    "dump(clf, 'adaboostmodel.joblib')"
   ]
  },
  {
   "cell_type": "code",
   "execution_count": null,
   "id": "3f61a087-0b74-431a-86cd-25581860f61d",
   "metadata": {},
   "outputs": [],
   "source": [
    "np."
   ]
  }
 ],
 "metadata": {
  "kernelspec": {
   "display_name": "Python 3 (ipykernel)",
   "language": "python",
   "name": "python3"
  },
  "language_info": {
   "codemirror_mode": {
    "name": "ipython",
    "version": 3
   },
   "file_extension": ".py",
   "mimetype": "text/x-python",
   "name": "python",
   "nbconvert_exporter": "python",
   "pygments_lexer": "ipython3",
   "version": "3.9.7"
  }
 },
 "nbformat": 4,
 "nbformat_minor": 5
}
